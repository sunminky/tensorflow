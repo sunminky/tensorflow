{
 "cells": [
  {
   "cell_type": "markdown",
   "metadata": {},
   "source": [
    "## 14. 순환신경망 ##\n",
    "### 14.1 순환뉴런 ###\n",
    "\n",
    "![RNN1](images/rnn1.png)\n",
    "\n",
    "<center><b style=\"font-size : 1.2em\">순환 뉴런 & 타임 스텝으로 펼친 뉴런</b></center>"
   ]
  },
  {
   "cell_type": "markdown",
   "metadata": {},
   "source": [
    "![RNN2](images/rnn2.png)\n",
    "\n",
    "<center><b style=\"font-size : 1.2em\">순환 뉴런의 층 & 타입 스텝으로 펼쳐진 층</b></center>"
   ]
  },
  {
   "cell_type": "markdown",
   "metadata": {},
   "source": [
    "각 순환 뉴런은 두 개의 가중치 $\\mathbf{w}_{x}$ 와 $\\mathbf{w}_{y}$ 를 가지는데, $\\mathbf{w}_{x}$ 는 $\\mathbf{x}_{t}$ 를 위한 것이고 $\\mathbf{w}_{y}$는 이전 타임 스텝의 출력 $\\mathbf{y}_{t-1}$을 위한 것이다. 이것을 순환 층(layer) 전체로 생각하면 가중치 벡터 $\\mathbf{w}_{x}$ 와 $\\mathbf{w}_{y}$ 를 행렬 $\\mathbf{W}_{x}$ 와 $\\mathbf{W}_{y}$ 로 나타낼 수 있으며 다음의 식과 같이 표현할 수 있다.\n",
    "\n",
    "$$\n",
    "\\mathbf{y}_{t} = \\phi \\left( \\mathbf{W}_{x}^{T}\\cdot\\mathbf{x}_{t} + \\mathbf{W}_{y}^{T} \\cdot\\mathbf{y}_{t-1} + \\mathbf{b} \\right)\n",
    "$$\n",
    "\n",
    "<br>\n",
    "\n",
    "그리고 타임 스텝 $t$ 에서의 미니배치(mini-batch)의 입력을 행렬 $\\mathbf{X}_{t}$ 로 나타내어 아래와 같이 순환 층의 출력을 한번에 계산할 수 있다.\n",
    "\n",
    "$$\n",
    "\\mathbf{Y}_{t}= \\phi \\left( \\mathbf{X}_{t} \\cdot \\mathbf{W}_{x} + \\mathbf{Y}_{t-1} \\cdot \\mathbf{W}_{y} + \\mathbf{b} \\right)\n",
    "$$\n",
    "\n",
    "$$\n",
    "= \\phi \\left( \\begin{bmatrix} \\mathbf{X}_{t} \\mathbf{Y}_{t-1} \\end{bmatrix}\\begin{bmatrix} \\mathbf{W}_{x} \\\\ \\mathbf{W}_{y} \\end{bmatrix} + \\mathbf{b} \\right)\n",
    "$$\n",
    "\n",
    "$$\n",
    "여기서 W = \\begin{bmatrix} \\mathbf{W}_{x} \\\\ \\mathbf{W}_{y} \\end{bmatrix}\n",
    "$$\n",
    "\n",
    "\n",
    "\n",
    "$\\phi$는 활성화 함수이다, RNN에서의 활성화 함수로는 $\\tanh$ 가 주로 사용된다\n",
    "\n",
    "\n",
    "<br/>\n",
    "\n",
    "<ul>\n",
    "<li>$\\mathbf{Y}_{t}$ : 타임 스텝 $t$에서 미니배치에 있는 각 샘플(미니배치)에 대한 순환 층의 출력이며, <b style=\"color:red; font-size:1.1em\">$m \\times n_{\\text{neurons}}$</b> 행렬($m$은 미니배치, $n_{\\text{neurons}}$은 뉴런 수), <b style=\"background-color:#00C500\">각 뉴런별로 출력값이 나오기때문에 샘플의 수 X 뉴런의 수</b></li>\n",
    "<li>$\\mathbf{X}_{t}$ : 모든 샘플의 입력값을 담고 있는 <b style=\"color:red; font-size:1.1em\">$m \\times n_{\\text{inputs}}$</b> 행렬 ($n_{\\text{inputs}}$은 입력 특성 수)</li>\n",
    "<li>$\\mathbf{W}_{x}$ : 현재 타임 스텝 $t$의 입력에 대한 가중치를 담고 있는 <b style=\"color:red; font-size:1.1em\">$n_{\\text{inputs}} \\times n_{\\text{neurons}}$</b> 행렬</li>\n",
    "<li>$\\mathbf{W}_{y}$ : 이전 타임 스텝 $t-1$ 의 출력에 대한 가중치를 담고 있는 <b style=\"color:red; font-size:1.1em\">$n_{\\text{neurons}} \\times n_{\\text{neurons}}$</b> 행렬</li>\n",
    "<li>$\\mathbf{b}$ : 각 뉴런의 편향(bias)을 담고 있는 $n_{\\text{neurons}}$ 크기의 벡터</li>\n",
    "<li>$\\begin{bmatrix} \\mathbf{X}_{t} \\mathbf{Y}_{t-1} \\end{bmatrix}$는 $\\mathbf{X}_{t}\\mathbf{Y}_{t-1}$을 수평적으로 연결한다는 것을 의미</li>\n",
    "</ul>\n",
    "위의 식에서 $\\mathbf{Y}_{t}$ 는 $\\mathbf{X}_t$ 와 $\\mathbf{Y}_{t-1}$의 함수이므로, 타임 스텝 $t=0$ 에서부터 모든 입력에 대한 함수가 된다. 첫 번째 타임 스텝인 $t=0$ 에서는 이전의 출력이 없기 때문에 일반적으로 $0$으로 초기화 한다."
   ]
  },
  {
   "cell_type": "markdown",
   "metadata": {},
   "source": [
    "### 입력과 출력 시퀀스 ###\n",
    "\n",
    "![RNN4](images/rnn4.png)\n",
    "\n",
    "\n",
    "<ul>\n",
    "    <li><p><b>Vector to Sequence</b> : 첫 번째 타임 스텝에서 단 하나의 입력만 네트워크에 주입하고(다른 모든 타임 스텝에서는 0 주입) 출력시퀀스 연결, 예)이미지 캡션 출력</p></li>\n",
    "    <li><p><b>Sequence to Vector</b> : 입력시퀀스를 네트워크에 주입하고, 마지막을 제외한 모든 출력을 무시, 예)감성점수 출력</p></li>\n",
    "    <li><p><b>Sequence to Sequence</b> : 입력시퀀스를 받아 출력시퀀스를 만듬, 예)주식가격 예측</p></li>\n",
    "    <li><p><b>Delayed Sequence to Sequence</b> : 시퀀스-투-벡터(인코더) 뒤에 벡터-투-시퀀스(디코더) 연결, 예)문장 번역</p></li>\n",
    "</ul>"
   ]
  },
  {
   "cell_type": "markdown",
   "metadata": {},
   "source": [
    "### 14.2 텐서플로로 기본 RNN 구성하기 ###"
   ]
  },
  {
   "cell_type": "code",
   "execution_count": 1,
   "metadata": {},
   "outputs": [],
   "source": [
    "import tensorflow as tf\n",
    "import numpy as np\n",
    "from matplotlib import pyplot as plt"
   ]
  },
  {
   "cell_type": "code",
   "execution_count": 2,
   "metadata": {},
   "outputs": [
    {
     "data": {
      "text/plain": [
       "'주의할 점은, 이 옵션은 메모리의 증식만 가능하다는 것. 연산이 끝나고 메모리가 필요없는 상황이라고 해서 할당된 메모리를 반납하지 않는다. \\n\\nTensorflow 측에서는 그럴 경우 더 심한 메모리 파편화를 일으킬 수도 있다고 하니 판단은 독자의 몫.'"
      ]
     },
     "execution_count": 2,
     "metadata": {},
     "output_type": "execute_result"
    }
   ],
   "source": [
    "## GPU 메모리 관리 ##\n",
    "#1번 방법\n",
    "config = tf.ConfigProto()\n",
    "config.gpu_options.allow_growth = True #메모리 수요에 따라 할당\n",
    "\n",
    "'''주의할 점은, 이 옵션은 메모리의 증식만 가능하다는 것. 연산이 끝나고 메모리가 필요없는 상황이라고 해서 할당된 메모리를 반납하지 않는다. \n",
    "\n",
    "Tensorflow 측에서는 그럴 경우 더 심한 메모리 파편화를 일으킬 수도 있다고 하니 판단은 독자의 몫.'''"
   ]
  },
  {
   "cell_type": "code",
   "execution_count": 2,
   "metadata": {},
   "outputs": [],
   "source": [
    "tf.reset_default_graph()\n",
    "\n",
    "n_inputs = 3 #입력 특성의 개수\n",
    "n_neurons = 5 #순환 뉴런층 안에 있는 뉴런의 개수\n",
    "\n",
    "X0 = tf.placeholder(tf.float32, [None, n_inputs]) #step0에서 입력\n",
    "X1 = tf.placeholder(tf.float32, [None, n_inputs]) #step1에서 입력\n",
    "\n",
    "Wx = tf.Variable(tf.random_normal(shape=[n_inputs, n_neurons], dtype=tf.float32)) #입력을 위한 가중치\n",
    "Wy = tf.Variable(tf.random_normal(shape=[n_neurons, n_neurons], dtype=tf.float32)) #출력을 위한 가중치\n",
    "b = tf.Variable(tf.zeros([1, n_neurons], dtype=tf.float32)) #편향\n",
    "\n",
    "Y0 = tf.tanh(tf.matmul(X0, Wx) + b) #step0에서 출력\n",
    "Y1 = tf.tanh(tf.matmul(Y0, Wy) + tf.matmul(X1, Wx) + b) #step1에서 출력\n",
    "\n",
    "init = tf.global_variables_initializer()"
   ]
  },
  {
   "cell_type": "code",
   "execution_count": 3,
   "metadata": {},
   "outputs": [
    {
     "name": "stdout",
     "output_type": "stream",
     "text": [
      "Y0_val:(4, 5)\n",
      "[[-0.43867782 -0.43493494  0.9827718   0.6052453   0.9521415 ]\n",
      " [-0.9912529  -0.9538943   0.9999988   0.9999891   0.9999992 ]\n",
      " [-0.9999011  -0.99717605  1.          1.          1.        ]\n",
      " [-0.99999964  0.9985307   0.9999456   0.99999994  0.9991321 ]]\n",
      "Y1_val:(4, 5)\n",
      "[[-0.99988806 -0.9071155   1.          1.          1.        ]\n",
      " [ 0.9330759   0.97311336  0.9372936   0.07363564 -0.9072335 ]\n",
      " [-0.98252815 -0.18634532  0.99999994  1.          0.9999996 ]\n",
      " [ 0.8889262   0.4370229   0.8731952   0.9993633   0.88480276]]\n"
     ]
    }
   ],
   "source": [
    "#미니배치            샘플0      샘플1      샘플2      샘플3\n",
    "X0_batch = np.array([[0, 1, 2], [3, 4, 5], [6, 7, 8], [9, 0 ,1]]) #step0에서 입력\n",
    "X1_batch = np.array([[9, 8, 7], [0, 0, 0], [6, 5, 4], [3, 2, 1]]) #step1d에서 입력\n",
    "\n",
    "with tf.Session() as sess:\n",
    "    sess.run(init)\n",
    "    Y0_val, Y1_val = sess.run([Y0, Y1], feed_dict={X0: X0_batch, X1: X1_batch})\n",
    "    \n",
    "print('Y0_val:{}\\n{}'.format(Y0_val.shape, Y0_val))  # shape: (4, 5) → (샘플 개수, 뉴런 개수)\n",
    "print('Y1_val:{}\\n{}'.format(Y1_val.shape, Y1_val))  # shape: (4, 5) → (샘플 개수, 뉴런 개수)"
   ]
  },
  {
   "cell_type": "code",
   "execution_count": 20,
   "metadata": {},
   "outputs": [
    {
     "name": "stdout",
     "output_type": "stream",
     "text": [
      "Y0_val:(4, 5)\n",
      "[[ 0.6665392  -0.27402034 -0.14346613  0.7007153   0.5232706 ]\n",
      " [ 0.8718256  -0.96863294  0.9426004   0.3721035   0.98638576]\n",
      " [ 0.9542055  -0.9991093   0.99869287 -0.08676071  0.99969983]\n",
      " [-0.99974024 -0.9242235   0.9999719  -0.99957     0.99999136]]\n",
      "Y1_val:(4, 5)\n",
      "[[ 0.6852712  -0.99996364  0.99999326 -0.984032    0.9999805 ]\n",
      " [ 0.94351286 -0.98605835  0.99266964 -0.08152092  0.9966243 ]\n",
      " [ 0.6018127  -0.9986716   0.99989456 -0.9759625   0.9991661 ]\n",
      " [ 0.54286885 -0.9488012   0.986592   -0.9866974   0.75857   ]]\n"
     ]
    }
   ],
   "source": [
    "#위와 동일한 코드\n",
    "\n",
    "tf.reset_default_graph()\n",
    "\n",
    "n_inputs = 3\n",
    "n_neurons = 5\n",
    "\n",
    "X0 = tf.placeholder(tf.float32, [None, n_inputs])\n",
    "X1 = tf.placeholder(tf.float32, [None, n_inputs])\n",
    "\n",
    "# BasicRNNCell\n",
    "basic_cell = tf.nn.rnn_cell.BasicRNNCell(num_units=n_neurons)\n",
    "# static_rnn()\n",
    "output_seqs, states = tf.nn.static_rnn(cell=basic_cell, inputs=[X0, X1],\n",
    "                                           dtype=tf.float32) #셀을 연결하여 펼쳐진 RNN네트워크를 만듬\n",
    "Y0, Y1 = output_seqs #각 타임스텝에서의 출력 텐서를 담고있는 리스트, 네트워크의 최종 상태를 담고있는 텐서\n",
    "\n",
    "#미니배치\n",
    "# t = 0\n",
    "X0_batch = np.array([[0, 1, 2],  # sample 0\n",
    "                     [3, 4, 5],  # sample 1\n",
    "                     [6, 7, 8],  # sample 2\n",
    "                     [9, 0, 1]]) # sample 3\n",
    "# t = 1\n",
    "X1_batch = np.array([[9, 8, 7], \n",
    "                     [3, 4, 5], \n",
    "                     [6, 5, 4], \n",
    "                     [3, 2, 1]])\n",
    "\n",
    "with tf.Session() as sess:\n",
    "    sess.run(tf.global_variables_initializer())\n",
    "    Y0_val, Y1_val = sess.run([Y0, Y1], feed_dict={X0: X0_batch, X1: X1_batch})\n",
    "    \n",
    "print('Y0_val:{}\\n{}'.format(Y0_val.shape, Y0_val))  # shape: (4, 5) → (샘플 개수, 뉴런 개수)\n",
    "print('Y1_val:{}\\n{}'.format(Y1_val.shape, Y1_val))  # shape: (4, 5) → (샘플 개수, 뉴런 개수)"
   ]
  },
  {
   "cell_type": "code",
   "execution_count": 34,
   "metadata": {},
   "outputs": [
    {
     "name": "stdout",
     "output_type": "stream",
     "text": [
      "[[[-0.1105443  -0.50030005 -0.35142988  0.9068353  -0.3320599 ]\n",
      "  [-0.9999975  -0.96750146 -0.6956085   0.83011717 -1.        ]]\n",
      "\n",
      " [[-0.9874154  -0.8828229  -0.7572333   0.9866959  -0.99804294]\n",
      "  [-0.987381   -0.93349     0.52412933  0.97658026 -0.99984115]]\n",
      "\n",
      " [[-0.99989986 -0.9770097  -0.92350227  0.998166   -0.9999962 ]\n",
      "  [-0.99985003 -0.91482174  0.6592921   0.27506992 -0.9999988 ]]\n",
      "\n",
      " [[-0.99841654 -0.8882804  -0.9894495  -0.99995464 -0.9999384 ]\n",
      "  [-0.998729   -0.82644653  0.79904616  0.02509189 -0.99954045]]]\n"
     ]
    }
   ],
   "source": [
    "#출력텐서 간단하게 만들기\n",
    "\n",
    "tf.reset_default_graph()\n",
    "\n",
    "n_inputs = 3\n",
    "n_neurons = 5\n",
    "n_steps = 2\n",
    "\n",
    "X = tf.placeholder(tf.float32, [None, n_steps, n_inputs]) #타임스텝별로 입력을 만드는 대신 타입스템만큼의 열을 만듬\n",
    "X_seqs = tf.unstack(tf.transpose(X, perm=[1, 0, 2])) #입력데이터의 열을 바꾸고 하나씩 꺼냄\n",
    "\n",
    "# BasicRNNCell\n",
    "basic_cell = tf.nn.rnn_cell.BasicRNNCell(num_units=n_neurons)\n",
    "# static_rnn()\n",
    "output_seqs, states = tf.nn.static_rnn(basic_cell, X_seqs, dtype=tf.float32) #셀을 연결하여 펼쳐진 RNN네트워크를 만듬\n",
    "outputs = tf.transpose(tf.stack(output_seqs), perm=[1, 0 ,2]) #모든 출력을 하나의 텐서로 합침\n",
    "\n",
    "#미니배치\n",
    "X_batch = np.array([[[0, 1, 2], [9, 8, 7]], # sample 0\n",
    "                     [[3, 4, 5], [3, 4, 5]], # sample 1\n",
    "                     [[6, 7, 8], [6, 5, 4]], # sample 2\n",
    "                     [[9, 0, 1], [3, 2, 1]]]) # sample 3\n",
    "\n",
    "with tf.Session() as sess:\n",
    "    sess.run(tf.global_variables_initializer())\n",
    "    outputs_val = outputs.eval(feed_dict={X: X_batch})\n",
    "    \n",
    "print(outputs_val) # shape: (4, 2, 5) → (샘플 개수, 타임스텝 개수, 뉴런 개수)"
   ]
  },
  {
   "cell_type": "markdown",
   "metadata": {},
   "source": [
    "### static_rnn()의 문제점\n",
    "\n",
    "<span>static_rnn() 함수의 문제는 타임 스텝마다 하나의 셀을 그래프에 추가하기 때문에, 만약 타임 스텝이 많아질 경우 그래프가 매우 복잡해진다는 것이다.</span>\n",
    "<br>\n",
    "<span>쉽게 말하면, for문과 같이 반복문을 쓰지않고 동일한 셀을 타임 스텝별로 만드는 것이라 할 수 있다.</span>\n",
    "<br>\n",
    "<span>이럴 경우 타임 스텝이 많아서 그래프가 커지게되면 역전파(backprop)시 메모리 부족(OOM, Out-Of-Memory)에러가 발생할 수 있다.</span>\n",
    "    \n",
    "<span>이러한 문제를 해결할 수 있는 방법으로는 tf.nn.dynamic_rnn()이 있다.</span>"
   ]
  },
  {
   "cell_type": "markdown",
   "metadata": {},
   "source": [
    "## 2.2 동적으로 타임 스텝 펼치기\n",
    "\n",
    "<p style=\"font-size:1.1em\">tf.nn.dynamic_rnn() 함수는 적절한 타임 스텝에 걸쳐 셀을 실행하기 위해 tf.while_loop() 연산을 사용.</p>\n",
    "<p style=\"font-size:0.9em;color:blue\">tf.while_loop() 연산을 사용하면 타임 스텝의 크기에 상관없이 하나의 행렬곱 연산 tf.matmul()만 생성함</p>\n",
    "<br>\n",
    "<p style=\"font-size:1.1em\">GPU메모리에서 CPU메모리로 바꾸어 역전파 시에 OOM(Out-Of-Memory)에러를 피하기 위해 tf.nn.dynamic_rnn(swap_memory=True) 설정</p>\n",
    "<p style=\"font-size:1.1em\">이 함수는 각 타임 스텝의 모든 입력에 대해 텐서 하나를 받고([None, n_steps, n_inputs]), 타임 스텝마다의 모든 출력을 하나의 텐서([None, n_steps, n_neurons])로 반환</p>\n",
    "<p style=\"font-size:0.9em;color:blue\">tf.stack, tf.unstack, tf.transpose 사용할 필요 없음!!</p>"
   ]
  },
  {
   "cell_type": "code",
   "execution_count": 40,
   "metadata": {},
   "outputs": [
    {
     "name": "stdout",
     "output_type": "stream",
     "text": [
      "WARNING:tensorflow:From <ipython-input-40-473e1747a22f>:16: dynamic_rnn (from tensorflow.python.ops.rnn) is deprecated and will be removed in a future version.\n",
      "Instructions for updating:\n",
      "Please use `keras.layers.RNN(cell)`, which is equivalent to this API\n",
      "[[[ 0.85334516  0.8141438   0.313379   -0.69611907  0.28773725]\n",
      "  [ 0.99999994  1.          0.9913502  -0.8543494   0.98387647]]\n",
      "\n",
      " [[ 0.99980074  0.9998129   0.86700404 -0.8867808   0.8650835 ]\n",
      "  [ 0.99959165  0.999959    0.9114392  -0.97390735  0.7209359 ]]\n",
      "\n",
      " [[ 0.99999976  0.9999998   0.98077375 -0.9605962   0.98125607]\n",
      "  [ 0.99991673  0.9999967   0.95923656 -0.76816344  0.86428374]]\n",
      "\n",
      " [[ 0.9999454   0.9983292  -0.8371234   0.99967825 -0.3139772 ]\n",
      "  [ 0.90131366  0.9690799  -0.28888935 -0.15881321  0.7139215 ]]]\n"
     ]
    }
   ],
   "source": [
    "#출력텐서 간단하게 만들기\n",
    "\n",
    "tf.reset_default_graph()\n",
    "\n",
    "n_inputs = 3\n",
    "n_neurons = 5\n",
    "n_steps = 2\n",
    "\n",
    "X = tf.placeholder(tf.float32, [None, n_steps, n_inputs]) #타임스텝별로 입력을 만드는 대신 타입스템만큼의 열을 만듬\n",
    "#tf.stack 사용할 필요없음\n",
    "#X_seqs = tf.unstack(tf.transpose(X, perm=[1, 0, 2])) #입력데이터의 열을 바꾸고 하나씩 꺼냄\n",
    "\n",
    "# BasicRNNCell\n",
    "basic_cell = tf.nn.rnn_cell.BasicRNNCell(num_units=n_neurons)\n",
    "# static_rnn()\n",
    "outputs, states = tf.nn.dynamic_rnn(basic_cell, X, dtype=tf.float32, swap_memory=True) #OOM시 메인 메모리 사용\n",
    "#tf.stack, tftranspose 사용할 필요없음\n",
    "#outputs = tf.transpose(tf.stack(output_seqs), perm=[1, 0 ,2]) #모든 출력을 하나의 텐서로 합침\n",
    "\n",
    "#미니배치\n",
    "X_batch = np.array([[[0, 1, 2], [9, 8, 7]], # sample 0\n",
    "                     [[3, 4, 5], [3, 4, 5]], # sample 1\n",
    "                     [[6, 7, 8], [6, 5, 4]], # sample 2\n",
    "                     [[9, 0, 1], [3, 2, 1]]]) # sample 3\n",
    "\n",
    "with tf.Session() as sess:\n",
    "    sess.run(tf.global_variables_initializer())\n",
    "    outputs_val = outputs.eval(feed_dict={X: X_batch})\n",
    "    \n",
    "print(outputs_val) # shape: (4, 2, 5) → (샘플 개수, 타임스텝 개수, 뉴런 개수)"
   ]
  },
  {
   "cell_type": "markdown",
   "metadata": {},
   "source": [
    "## 2.3 가변 길이 입력 시퀀스 다루기\n",
    "\n",
    "문장같은 가변 길이 입력 시퀀스를 다루기 위해서는 <b style=\"background-color:#0cf\">tf.nn.dynamic_rnn(sequence_length={입력 시퀀스 길이}),</b> 또는<b style=\"background-color:#0ca\">tf.nn.static_rnn(sequence_length={입력 시퀀스 길이})</b>를 설정해야 함"
   ]
  },
  {
   "cell_type": "code",
   "execution_count": 45,
   "metadata": {},
   "outputs": [
    {
     "name": "stdout",
     "output_type": "stream",
     "text": [
      "-------------------- outputs_val --------------------\n",
      "[[[ 0.1711922  -0.6476346   0.39549306  0.03427123  0.35730192]\n",
      "  [ 0.9999266  -0.99998343  0.16134876 -0.99387264  0.9853087 ]]\n",
      "\n",
      " [[ 0.95986235 -0.9952373   0.36473402 -0.6991825   0.88534856]\n",
      "  [ 0.          0.          0.          0.          0.        ]]\n",
      "\n",
      " [[ 0.9988153  -0.9999467   0.33315763 -0.9431344   0.98450124]\n",
      "  [ 0.979026   -0.9992811   0.27179083 -0.9526911   0.7239816 ]]\n",
      "\n",
      " [[ 0.9736584  -0.99963105  0.80333865 -0.9926766  -0.85368717]\n",
      "  [ 0.91740143 -0.95162207  0.2917505  -0.06991738  0.03283571]]]\n",
      "\n",
      "-------------------- states_val --------------------\n",
      "[[ 0.9999266  -0.99998343  0.16134876 -0.99387264  0.9853087 ]\n",
      " [ 0.95986235 -0.9952373   0.36473402 -0.6991825   0.88534856]\n",
      " [ 0.979026   -0.9992811   0.27179083 -0.9526911   0.7239816 ]\n",
      " [ 0.91740143 -0.95162207  0.2917505  -0.06991738  0.03283571]]\n"
     ]
    }
   ],
   "source": [
    "#출력텐서 간단하게 만들기\n",
    "\n",
    "tf.reset_default_graph()\n",
    "\n",
    "n_inputs = 3\n",
    "n_neurons = 5\n",
    "n_steps = 2\n",
    "\n",
    "X = tf.placeholder(tf.float32, [None, n_steps, n_inputs]) #타임스텝별로 입력을 만드는 대신 타입스템만큼의 열을 만듬\n",
    "seq_length = tf.placeholder(shape=[None], dtype=tf.float32)\n",
    "\n",
    "# BasicRNNCell\n",
    "basic_cell = tf.nn.rnn_cell.BasicRNNCell(num_units=n_neurons)\n",
    "# static_rnn()\n",
    "outputs, states = tf.nn.dynamic_rnn(basic_cell, X, dtype=tf.float32, swap_memory=True, sequence_length=seq_length) #가변길이 설정\n",
    "\n",
    "#미니배치\n",
    "X_batch = np.array([[[0, 1, 2], [9, 8, 7]], # sample 0\n",
    "                     [[3, 4, 5], [0, 0, 0]], # sample 1, 모자란 부분은 0으로 채워서 길이를 맞춰줌(0으로 패딩시킴)\n",
    "                     [[6, 7, 8], [6, 5, 4]], # sample 2\n",
    "                     [[9, 0, 1], [3, 2, 1]]]) # sample 3\n",
    "seq_length_batch = [2, 1, 2, 2] #입력데이터의 길이\n",
    "\n",
    "with tf.Session() as sess:\n",
    "    sess.run(tf.global_variables_initializer())\n",
    "    outputs_val, states_val = sess.run([outputs, states], feed_dict={X: X_batch, seq_length: seq_length_batch})\n",
    "\n",
    "print(\"-------------------- outputs_val --------------------\")\n",
    "print(outputs_val) # shape: (4, 2, 5) → (샘플 개수, 타임스텝 개수, 뉴런 개수)\n",
    "\n",
    "print()\n",
    "\n",
    "print(\"-------------------- states_val --------------------\")\n",
    "print(states_val) # shape: (4,5) → (샘플 개수, 뉴런 개수), 0벡터가 제외된 각 셀의 마지막 상태를 담음"
   ]
  },
  {
   "cell_type": "markdown",
   "metadata": {},
   "source": [
    "# RNN 훈련하기\n",
    "\n",
    "## 1) BPTT(Back Propagation Through Time)\n",
    "\n",
    "타임 스텝으로 네트워크를 펼치고 보통의 역전파를 사용하는 것\n",
    "\n",
    "\n",
    "![BPTT](images/bptt1.png)\n",
    "\n",
    "각 타임 스텝마다 같은 매개변수 $\\mathbf{W}$ 와 $\\mathbf{b}$ 이 사용되기 때문에 역전파가 진행되면서 모든 타임 스텝에 걸쳐 매개변수 값이 합산됨. 이렇게 업데이트된 가중치는 순전파 동안에는 모든 타임 스텝에 동일한 가중치가 적용됨."
   ]
  },
  {
   "cell_type": "markdown",
   "metadata": {},
   "source": [
    "## 2) Truncated BPTT\n",
    "\n",
    "BPTT는 전체의 타임 스텝마다 처음부터 끝까지 역전파를 하기 때문에 타임 스텝이 클 수록 계산량이 많아지는 문제가 있다. 이러한 계산량 문제를 해결하기 위해 전체 타임 스텝을 일정 구간(예를들어 3 또는 5 구간)으로 나눠 역전파를 하는 Truncated BPTT를 사용\n",
    "\n",
    "![BPTT2](images/bptt2.png)\n",
    "\n",
    "하지만 truncated-BPTT의 문제는 만약 학습 데이터가 장기간에 걸쳐 패턴이 발생한다고 하면, 이러한 장기간(Long-Term)의 패턴을 학습할 수 없는 문제가 있다."
   ]
  },
  {
   "cell_type": "markdown",
   "metadata": {},
   "source": [
    "## ★ 시퀀스 분류기 훈련하기\n",
    "\n",
    "![sc](images/seq_classifier.jpg)\n",
    "\n",
    "<ul style=\"font-size:1.2em\">\n",
    "    <li>MNIST이미지 훈련</li>\n",
    "    <li>150개의 순환뉴런으로 된 셀</li>\n",
    "    <li>마지막 타임 스텝의 출력에 10개 뉴런으로 된 완전 연결 신경망 연결</li>\n",
    "    <li>완전 연결 신경망에 소프트맥스 연결</li>\n",
    "</ul>"
   ]
  },
  {
   "cell_type": "code",
   "execution_count": 27,
   "metadata": {},
   "outputs": [
    {
     "name": "stdout",
     "output_type": "stream",
     "text": [
      "train_x.shape : (55000, 784)\n",
      "valid_x.shape : (5000, 28, 28)\n",
      "test_x.shape : (10000, 28, 28)\n"
     ]
    }
   ],
   "source": [
    "#MNIST 데이터 로드\n",
    "################\n",
    "# Layer Params #\n",
    "################\n",
    "n_steps = 28\n",
    "n_inputs = 28\n",
    "n_neurons = 150\n",
    "n_outputs = 10\n",
    "\n",
    "(train_x, train_y), (test_x, test_y) = tf.keras.datasets.mnist.load_data()\n",
    "train_x = train_x.astype(np.float32).reshape(-1, 28*28) / 255.0  # (784,)\n",
    "test_x = test_x.astype(np.float32).reshape(-1, 28*28) / 255.0\n",
    "train_y = train_y.astype(np.int32)\n",
    "test_y = test_y.astype(np.int32)\n",
    "valid_x, train_x = train_x[:5000], train_x[5000:]\n",
    "valid_y, train_y = train_y[:5000], train_y[5000:]\n",
    "\n",
    "#28(가로크기) x 28(세로크기) x 배치크기 → 배치크기 x 28(타임스텝) x 28(입력특성의 개수)\n",
    "test_x = test_x.reshape([-1, n_steps, n_inputs])\n",
    "valid_x = valid_x.reshape([-1, n_steps, n_inputs])\n",
    "\n",
    "print('train_x.shape :', train_x.shape)\n",
    "print('valid_x.shape :', valid_x.shape)\n",
    "print('test_x.shape :', test_x.shape)"
   ]
  },
  {
   "cell_type": "code",
   "execution_count": 22,
   "metadata": {},
   "outputs": [],
   "source": [
    "#미니배치\n",
    "def shuffle_batch(features, labels, batch_size):\n",
    "    rnd_idx = np.random.permutation(len(features))\n",
    "    n_batches = len(features) // batch_size\n",
    "    for batch_idx in np.array_split(rnd_idx, n_batches):\n",
    "        batch_x, batch_y = features[batch_idx], labels[batch_idx]\n",
    "        yield batch_x, batch_y"
   ]
  },
  {
   "cell_type": "code",
   "execution_count": 31,
   "metadata": {},
   "outputs": [
    {
     "name": "stdout",
     "output_type": "stream",
     "text": [
      "epoch : 000 acc_batch : 0.9033, acc_valid : 0.9302 loss_batch : 0.2562\n",
      "epoch : 001 acc_batch : 0.9667, acc_valid : 0.9506 loss_batch : 0.1459\n",
      "epoch : 002 acc_batch : 0.9667, acc_valid : 0.9580 loss_batch : 0.1046\n",
      "epoch : 003 acc_batch : 0.9800, acc_valid : 0.9670 loss_batch : 0.1017\n",
      "epoch : 004 acc_batch : 0.9767, acc_valid : 0.9712 loss_batch : 0.0943\n",
      "epoch : 005 acc_batch : 0.9600, acc_valid : 0.9738 loss_batch : 0.1606\n",
      "epoch : 006 acc_batch : 0.9633, acc_valid : 0.9738 loss_batch : 0.0975\n",
      "epoch : 007 acc_batch : 0.9900, acc_valid : 0.9778 loss_batch : 0.0578\n",
      "epoch : 008 acc_batch : 0.9667, acc_valid : 0.9762 loss_batch : 0.0746\n",
      "epoch : 009 acc_batch : 0.9933, acc_valid : 0.9748 loss_batch : 0.0277\n",
      "epoch : 010 acc_batch : 0.9867, acc_valid : 0.9762 loss_batch : 0.0527\n",
      "epoch : 011 acc_batch : 0.9867, acc_valid : 0.9790 loss_batch : 0.0598\n",
      "epoch : 012 acc_batch : 0.9867, acc_valid : 0.9824 loss_batch : 0.0508\n",
      "epoch : 013 acc_batch : 0.9833, acc_valid : 0.9822 loss_batch : 0.0569\n",
      "epoch : 014 acc_batch : 0.9833, acc_valid : 0.9818 loss_batch : 0.0517\n",
      "epoch : 015 acc_batch : 0.9833, acc_valid : 0.9826 loss_batch : 0.0513\n",
      "epoch : 016 acc_batch : 0.9867, acc_valid : 0.9806 loss_batch : 0.0380\n",
      "epoch : 017 acc_batch : 0.9933, acc_valid : 0.9788 loss_batch : 0.0306\n",
      "epoch : 018 acc_batch : 0.9800, acc_valid : 0.9826 loss_batch : 0.0492\n",
      "epoch : 019 acc_batch : 0.9800, acc_valid : 0.9802 loss_batch : 0.0534\n",
      "epoch : 020 acc_batch : 0.9833, acc_valid : 0.9798 loss_batch : 0.0653\n",
      "epoch : 021 acc_batch : 0.9900, acc_valid : 0.9840 loss_batch : 0.0471\n",
      "epoch : 022 acc_batch : 0.9933, acc_valid : 0.9826 loss_batch : 0.0325\n",
      "epoch : 023 acc_batch : 0.9900, acc_valid : 0.9814 loss_batch : 0.0352\n",
      "epoch : 024 acc_batch : 1.0000, acc_valid : 0.9818 loss_batch : 0.0097\n",
      "epoch : 025 acc_batch : 0.9867, acc_valid : 0.9816 loss_batch : 0.0365\n",
      "epoch : 026 acc_batch : 0.9967, acc_valid : 0.9852 loss_batch : 0.0201\n",
      "epoch : 027 acc_batch : 0.9900, acc_valid : 0.9804 loss_batch : 0.0353\n",
      "epoch : 028 acc_batch : 0.9933, acc_valid : 0.9828 loss_batch : 0.0205\n",
      "epoch : 029 acc_batch : 0.9967, acc_valid : 0.9810 loss_batch : 0.0202\n"
     ]
    }
   ],
   "source": [
    "tf.reset_default_graph()\n",
    "\n",
    "inputs = tf.placeholder(tf.float32, [None, n_steps, n_inputs])\n",
    "labels = tf.placeholder(tf.int32, [None])\n",
    "\n",
    "# RNN Model\n",
    "basic_cell = tf.nn.rnn_cell.BasicRNNCell(num_units=n_neurons, activation=tf.nn.elu)\n",
    "outputs, states = tf.nn.dynamic_rnn(basic_cell, inputs, dtype=tf.float32)\n",
    "# dense layer\n",
    "logits = tf.layers.dense(states, n_outputs)  #10개의 뉴런으로 된 완전신경망\n",
    "\n",
    "# loss\n",
    "xentropy = tf.reduce_mean(\n",
    "    tf.nn.sparse_softmax_cross_entropy_with_logits(labels=labels, logits=logits))\n",
    "\n",
    "################\n",
    "# Train Params #\n",
    "################\n",
    "learning_rate = 0.001\n",
    "n_epochs = 30\n",
    "batch_size = 300\n",
    "\n",
    "# optimizer\n",
    "train_op = tf.train.AdamOptimizer(learning_rate=learning_rate).minimize(xentropy)\n",
    "\n",
    "# metric\n",
    "correct = tf.nn.in_top_k(logits, labels, 1)\n",
    "accuracy = tf.reduce_mean(tf.cast(correct, tf.float32))\n",
    "\n",
    "# Train\n",
    "with tf.Session() as sess:\n",
    "    tf.global_variables_initializer().run()\n",
    "    for epoch in range(n_epochs):\n",
    "        for batch_x, batch_y in shuffle_batch(train_x, train_y, batch_size):\n",
    "            batch_x = batch_x.reshape([-1, n_steps, n_inputs])\n",
    "            sess.run(train_op, \n",
    "                     feed_dict={inputs: batch_x, labels: batch_y})\n",
    "        acc_batch = accuracy.eval(feed_dict={inputs: batch_x, labels: batch_y})\n",
    "        acc_valid = accuracy.eval(feed_dict={inputs: valid_x, labels: valid_y})\n",
    "        loss_batch = xentropy.eval(feed_dict={inputs: batch_x, labels: batch_y})\n",
    "        print('epoch : {:03d}'.format(epoch),\n",
    "              'acc_batch : {:.4f}, acc_valid : {:.4f}'.format(acc_batch, acc_valid),\n",
    "              'loss_batch : {:.4f}'.format(loss_batch))"
   ]
  },
  {
   "cell_type": "markdown",
   "metadata": {},
   "source": [
    "# 시계열 예측을 위해 훈련하기"
   ]
  },
  {
   "cell_type": "code",
   "execution_count": 3,
   "metadata": {},
   "outputs": [],
   "source": [
    "## 데이터 만들기 ##\n",
    "t_min, t_max = 0, 30\n",
    "resolution = 0.1\n",
    "\n",
    "def time_series(t):\n",
    "    return t * np.sin(t) / 3 + 2 * np.sin(t*5)\n",
    "\n",
    "def next_batch(batch_size, n_steps):\n",
    "    t0 = np.random.rand(batch_size, 1) * (t_max - t_min - n_steps * resolution)\n",
    "    Ts = t0 + np.arange(0., n_steps + 1) * resolution #[0, 0.1, 0.2 ...]\n",
    "    ys = time_series(Ts) #label\n",
    "    return ys[:, :-1].reshape(-1, n_steps, 1), ys[:, 1:].reshape(-1, n_steps, 1) #[데이터개수, 스텝, 특성개수]"
   ]
  },
  {
   "cell_type": "code",
   "execution_count": 6,
   "metadata": {},
   "outputs": [
    {
     "data": {
      "image/png": "[encoded data removed]",
      "text/plain": [
       "<Figure size 792x288 with 2 Axes>"
      ]
     },
     "metadata": {
      "needs_background": "light"
     },
     "output_type": "display_data"
    }
   ],
   "source": [
    "## 샘플데이터 ##\n",
    "\n",
    "t = np.linspace(t_min, t_max, int((t_max - t_min) / resolution))\n",
    "\n",
    "n_steps = 20\n",
    "t_instance = np.linspace(12.2, 12.2 + resolution * (n_steps + 1), n_steps + 1)\n",
    "\n",
    "plt.figure(figsize=(11,4))\n",
    "plt.subplot(121)\n",
    "plt.title(\"time series (generated)\", fontsize=14)\n",
    "plt.plot(t, time_series(t), label=r\"$t . \\sin(t) / 3 + 2 . \\sin(5t)$\")\n",
    "plt.plot(t_instance[:-1], time_series(t_instance[:-1]), \"b-\", linewidth=3, label=\"training sample\")\n",
    "plt.legend(loc=\"lower left\", fontsize=14)\n",
    "plt.axis([0, 30, -17, 13])\n",
    "plt.xlabel(\"Time\")\n",
    "plt.ylabel(\"Value\", rotation=0)\n",
    "\n",
    "plt.subplot(122)\n",
    "plt.title(\"training sample\", fontsize=14)\n",
    "plt.plot(t_instance[:-1], time_series(t_instance[:-1]), \"bo\", markersize=12, label=\"sample\")\n",
    "plt.plot(t_instance[1:], time_series(t_instance[1:]), \n",
    "         \"w*\", markeredgewidth=0.5, markeredgecolor=\"b\", markersize=14, label=\"target\")\n",
    "plt.legend(loc=\"upper left\")\n",
    "plt.xlabel(\"Time\")\n",
    "\n",
    "plt.show()"
   ]
  },
  {
   "cell_type": "markdown",
   "metadata": {},
   "source": [
    "## OutputProjectionWrapper를 사용한 RNN 모델링\n",
    "\n",
    "![OutputProjectionWrapper](images/OutputProjectionWrapper.png)\n",
    "\n",
    "셀 래퍼는 보통의 셀과 매우 비슷하게 작동하며 모든 메서도 호출을 감싼 셀로 전달함.\n",
    "OutputProjectionWrapper는 각 출력의 상단에 (어떤 활성화 함수 없이) 선형 뉴런으로 구성된 완전 연결 층을 추가.\n",
    "셀의 출력에는 영향을 미치지만 셀의 상태에는 영향을 미치지 않음.(샐 래퍼의 완전 연결 층은 outputs에만 적용되고 states에는 적용 안됨)"
   ]
  },
  {
   "cell_type": "code",
   "execution_count": 9,
   "metadata": {},
   "outputs": [
    {
     "name": "stdout",
     "output_type": "stream",
     "text": [
      "WARNING:tensorflow:\n",
      "The TensorFlow contrib module will not be included in TensorFlow 2.0.\n",
      "For more information, please see:\n",
      "  * https://github.com/tensorflow/community/blob/master/rfcs/20180907-contrib-sunset.md\n",
      "  * https://github.com/tensorflow/addons\n",
      "  * https://github.com/tensorflow/io (for I/O related ops)\n",
      "If you depend on functionality not listed there, please file an issue.\n",
      "\n",
      "WARNING:tensorflow:From /home/ubuntu/anaconda3/envs/handsonml/lib/python3.7/site-packages/tensorflow_core/contrib/rnn/python/ops/core_rnn_cell.py:104: calling Constant.__init__ (from tensorflow.python.ops.init_ops) with dtype is deprecated and will be removed in a future version.\n",
      "Instructions for updating:\n",
      "Call initializer instance with the dtype argument instead of passing it to the constructor\n",
      "step: 000, MSE: 15.5452\n",
      "step: 1000, MSE: 0.1046\n",
      "step: 2000, MSE: 0.0678\n",
      "step: 3000, MSE: 0.0551\n",
      "step: 4000, MSE: 0.0459\n",
      "step: 5000, MSE: 0.0368\n",
      "step: 6000, MSE: 0.0359\n",
      "step: 7000, MSE: 0.0386\n",
      "step: 8000, MSE: 0.0373\n",
      "step: 9000, MSE: 0.0342\n",
      "y_pred:(1, 20, 1)\n",
      "[[[-3.3690712]\n",
      "  [-2.4315894]\n",
      "  [-0.7474268]\n",
      "  [ 0.66323  ]\n",
      "  [ 2.1067283]\n",
      "  [ 3.073393 ]\n",
      "  [ 3.4223695]\n",
      "  [ 3.327913 ]\n",
      "  [ 2.8488598]\n",
      "  [ 2.2151186]\n",
      "  [ 1.7143476]\n",
      "  [ 1.5609294]\n",
      "  [ 1.8800949]\n",
      "  [ 2.686378 ]\n",
      "  [ 3.815561 ]\n",
      "  [ 5.0317407]\n",
      "  [ 6.0353937]\n",
      "  [ 6.60009  ]\n",
      "  [ 6.607609 ]\n",
      "  [ 6.0347304]]]\n"
     ]
    }
   ],
   "source": [
    "## OutputProjectionWrapper 사용 ##\n",
    "\n",
    "tf.reset_default_graph()\n",
    "\n",
    "n_steps = 20\n",
    "n_inputs = 1\n",
    "n_neurons = 100\n",
    "n_outputs = 1\n",
    "\n",
    "inputs = tf.placeholder(tf.float32, [None, n_steps, n_inputs])\n",
    "labels = tf.placeholder(tf.float32, [None, n_steps, n_inputs])\n",
    "\n",
    "# RNN Model\n",
    "#basic_cell = tf.nn.rnn_cell.BasicRNNCell(num_units=n_neurons)\n",
    "basic_cell = tf.contrib.rnn.OutputProjectionWrapper( #각 출력의 상단에 선형 뉴런으로 구성된 완전 연결층 추가\n",
    "    tf.nn.rnn_cell.BasicRNNCell(num_units=n_neurons, activation=tf.nn.elu),\n",
    "    output_size=n_outputs\n",
    ")\n",
    "outputs, states = tf.nn.dynamic_rnn(basic_cell, inputs, dtype=tf.float32)\n",
    "# dense layer\n",
    "logits = tf.layers.dense(states, n_outputs)  #1개의 뉴런으로 된 완전신경망\n",
    "\n",
    "# loss\n",
    "#xentropy = tf.reduce_mean(\n",
    "#    tf.nn.sparse_softmax_cross_entropy_with_logits(labels=labels, logits=logits))\n",
    "mse = tf.losses.mean_squared_error(labels=labels, predictions=outputs)\n",
    "\n",
    "# optimizer\n",
    "optimizer = tf.train.AdamOptimizer(learning_rate=learning_rate)\n",
    "train_op = optimizer.minimize(mse)\n",
    "\n",
    "################\n",
    "# Train Params #\n",
    "################\n",
    "learning_rate = 0.001\n",
    "n_epoch = 10000\n",
    "batch_size = 300\n",
    "\n",
    "# Train\n",
    "with tf.Session() as sess:\n",
    "    sess.run(tf.global_variables_initializer())\n",
    "    for iteration in range(n_epoch):\n",
    "        batch_x, batch_y = next_batch(batch_size, n_steps)\n",
    "        sess.run(train_op, feed_dict={inputs: batch_x, labels: batch_y})\n",
    "        if iteration % 1000 == 0:\n",
    "            loss = mse.eval(feed_dict={inputs: batch_x, labels: batch_y})\n",
    "            print('step: {:03d}, MSE: {:.4f}'.format(iteration, loss))\n",
    "            \n",
    "    # 새로운 데이터 예측하기\n",
    "    X_new = time_series(np.array(t_instance[:-1].reshape(-1, n_steps, n_inputs)))\n",
    "    y_pred = sess.run(outputs, feed_dict={inputs: X_new})\n",
    "    \n",
    "print('y_pred:{}\\n{}'.format(y_pred.shape, y_pred))"
   ]
  },
  {
   "cell_type": "code",
   "execution_count": 11,
   "metadata": {},
   "outputs": [
    {
     "data": {
      "image/png": "[encoded data removed]",
      "text/plain": [
       "<Figure size 432x288 with 1 Axes>"
      ]
     },
     "metadata": {
      "needs_background": "light"
     },
     "output_type": "display_data"
    },
    {
     "name": "stdout",
     "output_type": "stream",
     "text": [
      "평균오차 : 0.061981\n"
     ]
    }
   ],
   "source": [
    "## 예측 데이터 시각화 ##\n",
    "plt.title(\"Testing the Model(Cell Wrapper)\", fontsize=14)\n",
    "plt.plot(t_instance[:-1], time_series(t_instance[:-1]), \"bo\", markersize=10, label=\"instance\")\n",
    "plt.plot(t_instance[1:], time_series(t_instance[1:]), \"w*\", markersize=10, label=\"target\", color='yellow')\n",
    "plt.plot(t_instance[1:], y_pred[0,:,0], \"r.\", markersize=10, label=\"prediction\")\n",
    "plt.legend(loc=\"upper left\")\n",
    "plt.xlabel(\"Time\")\n",
    "\n",
    "plt.show()\n",
    "\n",
    "print(f\"평균오차 : {np.mean(np.abs(y_pred[0,:,0] - time_series(t_instance[1:]))):.6f}\")"
   ]
  },
  {
   "cell_type": "markdown",
   "metadata": {},
   "source": [
    "## 셀 레퍼보다 효율적인 RNN 모델링\n",
    "\n",
    "![timernn](images/timernn.png)\n",
    "\n",
    "OutputProjectionWrapper는 RNN의 출력 시퀀스 차원을 타임 스텝마다 하나의 값으로 줄이는 가장 간단한 솔루션이지만 효율적이는 않음.\n",
    "다음은 OutputProjectionWrapper보다 효율적인 방법 과정이다.\n",
    "\n",
    "<ol>\n",
    "<li>각 타임 스텝마다 (batch_size, n_neurons) 출력 벡터를 tf.reshape()을 이용해 쌓는다(stack).</li>\n",
    "    <ol>[배치크기, 스텝, 뉴런개수] → [배치크기 x 스텝, 뉴런개수]</ol>\n",
    "<li>1개의 유닛을 가지는 Fully-Connected Layer를 적용한다. 이때의 FC Layer는 단지 차원 축소를 위한 레이어이기 때문에 활성화 함수를 사용하지 않는다.</li>\n",
    "<li>마지막으로, tf.reshape()을 이용해 차원 축소시킨 출력을 다시 타임 스텝별로 풀어준다(unstack).</li>\n",
    "    <ol>[배치크기 x 스텝, 뉴런개수] → [배치크기, 스텝, 뉴런개수]</ol>\n",
    "</ol>"
   ]
  },
  {
   "cell_type": "code",
   "execution_count": 19,
   "metadata": {},
   "outputs": [
    {
     "name": "stdout",
     "output_type": "stream",
     "text": [
      "step: 000, MSE: 21.0440\n",
      "step: 1000, MSE: 0.0517\n",
      "step: 2000, MSE: 0.0452\n",
      "step: 3000, MSE: 0.0382\n",
      "step: 4000, MSE: 0.0408\n",
      "step: 5000, MSE: 0.0389\n",
      "step: 6000, MSE: 0.0373\n",
      "step: 7000, MSE: 0.0350\n",
      "step: 8000, MSE: 0.0347\n",
      "step: 9000, MSE: 0.0366\n",
      "y_pred:(1, 20, 1)\n",
      "[[[-3.3105013]\n",
      "  [-2.4933732]\n",
      "  [-0.7979438]\n",
      "  [ 0.7485072]\n",
      "  [ 2.094326 ]\n",
      "  [ 3.0665073]\n",
      "  [ 3.463848 ]\n",
      "  [ 3.3567717]\n",
      "  [ 2.8664312]\n",
      "  [ 2.225934 ]\n",
      "  [ 1.7086749]\n",
      "  [ 1.5650887]\n",
      "  [ 1.8976834]\n",
      "  [ 2.7047272]\n",
      "  [ 3.841031 ]\n",
      "  [ 5.052713 ]\n",
      "  [ 6.0638638]\n",
      "  [ 6.6470766]\n",
      "  [ 6.6172123]\n",
      "  [ 6.0505   ]]]\n"
     ]
    }
   ],
   "source": [
    "## OutputProjectionWrapper 사용안함 ##\n",
    "\n",
    "tf.reset_default_graph()\n",
    "\n",
    "n_steps = 20\n",
    "n_neurons = 100\n",
    "n_inputs = 1\n",
    "n_outputs = 1\n",
    "\n",
    "X = tf.placeholder(tf.float32, [None, n_steps, n_inputs])\n",
    "y = tf.placeholder(tf.float32, [None, n_steps, n_outputs])\n",
    "\n",
    "# RNN Model\n",
    "cell = tf.nn.rnn_cell.BasicRNNCell(num_units=n_neurons, activation=tf.nn.relu) #셀 래퍼를 사용하지 않는 기본 셀 사용\n",
    "rnn_outputs, states = tf.nn.dynamic_rnn(cell, X, dtype=tf.float32)\n",
    "\n",
    "# dense layer\n",
    "# 하나의 출력을 위한 작업\n",
    "stacked_rnn_outputs = tf.reshape(tensor=rnn_outputs, shape=[-1, n_neurons]) #[배치크기, 스텝, 뉴런개수] → [배치크기 x 스텝, 뉴런개수]\n",
    "stacked_outputs = tf.layers.dense(stacked_rnn_outputs, n_outputs) #뉴런 개수만큼의 출력을 하나의 출력으로 만듬\n",
    "predictions = tf.reshape(stacked_outputs, [-1, n_steps, n_outputs]) #[배치크기 x 스텝, 뉴런개수] → [배치크기, 스텝, 뉴런개수]\n",
    "\n",
    "################\n",
    "# Train Params #\n",
    "################\n",
    "learning_rate = 0.001\n",
    "n_iterations = 10000\n",
    "batch_size = 300\n",
    "\n",
    "# loss\n",
    "mse = tf.losses.mean_squared_error(labels=y, predictions=predictions)\n",
    "# optimizer\n",
    "train_op = tf.train.AdamOptimizer(learning_rate=learning_rate).minimize(mse)\n",
    "\n",
    "#Saver\n",
    "saver = tf.train.Saver()\n",
    "\n",
    "# Train\n",
    "with tf.Session() as sess:\n",
    "    tf.global_variables_initializer().run()\n",
    "    for iteration in range(n_iterations):\n",
    "        batch_x, batch_y = next_batch(batch_size, n_steps)\n",
    "        sess.run(train_op, feed_dict={X: batch_x, y: batch_y})\n",
    "        if iteration % 1000 == 0:\n",
    "            loss = mse.eval(feed_dict={X: batch_x, y: batch_y})\n",
    "            print('step: {:03d}, MSE: {:.4f}'.format(iteration, loss))\n",
    "            \n",
    "    # 새로운 데이터 예측하기\n",
    "    X_new = time_series(np.array(t_instance[:-1].reshape(-1, n_steps, n_inputs)))\n",
    "    y_pred = sess.run(predictions, feed_dict={X: X_new})\n",
    "    \n",
    "    #모델 저장\n",
    "    saver.save(sess, \"./my_time_series_model\")\n",
    "    \n",
    "print('y_pred:{}\\n{}'.format(y_pred.shape, y_pred))"
   ]
  },
  {
   "cell_type": "code",
   "execution_count": 20,
   "metadata": {},
   "outputs": [
    {
     "data": {
      "image/png": "[encoded data removed]",
      "text/plain": [
       "<Figure size 432x288 with 1 Axes>"
      ]
     },
     "metadata": {
      "needs_background": "light"
     },
     "output_type": "display_data"
    },
    {
     "name": "stdout",
     "output_type": "stream",
     "text": [
      "평균오차 : 0.055231\n"
     ]
    }
   ],
   "source": [
    "## 예측 데이터 시각화 ##\n",
    "plt.title(\"Testing the Model(Using Stack)\", fontsize=14)\n",
    "plt.plot(t_instance[:-1], time_series(t_instance[:-1]), \"bo\", markersize=10, label=\"instance\")\n",
    "plt.plot(t_instance[1:], time_series(t_instance[1:]), \"w*\", markersize=10, label=\"target\", color='yellow')\n",
    "plt.plot(t_instance[1:], y_pred[0,:,0], \"r.\", markersize=10, label=\"prediction\")\n",
    "plt.legend(loc=\"upper left\")\n",
    "plt.xlabel(\"Time\")\n",
    "\n",
    "plt.show()\n",
    "\n",
    "print(f\"평균오차 : {np.mean(np.abs(y_pred[0,:,0] - time_series(t_instance[1:]))):.6f}\")"
   ]
  },
  {
   "cell_type": "markdown",
   "metadata": {},
   "source": [
    "## RNN의 창조성\n",
    "\n",
    "모델을 사용해 새로운 시퀀스를 창조할 수 있다.\n",
    "<ol>\n",
    "    <li>생성을 위해 필요한 n_steps 값을 가지는 시드 시퀀스(0으로 채워진 시퀀스) 생성.</li>\n",
    "    <li>예측한 값을 시퀀스 끝에 추가</li>\n",
    "    <li>마지막 n_steps 값을 모델에 주입하여 다음 값을 예측</li>\n",
    "</ol>"
   ]
  },
  {
   "cell_type": "code",
   "execution_count": 31,
   "metadata": {},
   "outputs": [
    {
     "name": "stdout",
     "output_type": "stream",
     "text": [
      "INFO:tensorflow:Restoring parameters from ./my_time_series_model\n"
     ]
    },
    {
     "data": {
      "image/png": "[encoded data removed]",
      "text/plain": [
       "<Figure size 576x288 with 1 Axes>"
      ]
     },
     "metadata": {
      "needs_background": "light"
     },
     "output_type": "display_data"
    }
   ],
   "source": [
    "## 새 시퀀스 창조 ##\n",
    "\n",
    "#새 데이터\n",
    "sequence = [0. for i in range(n_steps)]\n",
    "predict_count = 30\n",
    "\n",
    "with tf.Session() as sess:\n",
    "    saver.restore(sess, \"./my_time_series_model\")\n",
    "            \n",
    "    for iteration in range(len(t) - n_steps):        \n",
    "        # 새로운 데이터 예측하기\n",
    "        X_batch = np.array(sequence[-n_steps:]).reshape(1, n_steps, 1)\n",
    "        y_pred = sess.run(predictions, feed_dict={X: X_batch})\n",
    "        sequence.append(y_pred[0, -1, 0])\n",
    "\n",
    "plt.figure(figsize=(8,4))\n",
    "plt.plot(np.arange(len(sequence)), sequence, \"b-\")\n",
    "plt.plot(t[:n_steps], sequence[:n_steps], \"b-\", linewidth=3)\n",
    "plt.xlabel(\"Time\")\n",
    "plt.ylabel(\"Value\")\n",
    "plt.show()"
   ]
  },
  {
   "cell_type": "code",
   "execution_count": 28,
   "metadata": {},
   "outputs": [
    {
     "name": "stdout",
     "output_type": "stream",
     "text": [
      "INFO:tensorflow:Restoring parameters from ./my_time_series_model\n"
     ]
    },
    {
     "data": {
      "image/png": "[encoded data removed]",
      "text/plain": [
       "<Figure size 792x288 with 2 Axes>"
      ]
     },
     "metadata": {
      "needs_background": "light"
     },
     "output_type": "display_data"
    }
   ],
   "source": [
    "## 새 시퀀스 창조 ##\n",
    "\n",
    "with tf.Session() as sess:\n",
    "    saver.restore(sess, \"./my_time_series_model\")\n",
    "\n",
    "    sequence1 = [0. for i in range(n_steps)]\n",
    "    for iteration in range(len(t) - n_steps):\n",
    "        X_batch = np.array(sequence1[-n_steps:]).reshape(1, n_steps, 1)\n",
    "        y_pred = sess.run(predictions, feed_dict={X: X_batch})\n",
    "        sequence1.append(y_pred[0, -1, 0])\n",
    "\n",
    "    sequence2 = [time_series(i * resolution + t_min + (t_max-t_min/3)) for i in range(n_steps)]\n",
    "    for iteration in range(len(t) - n_steps):\n",
    "        X_batch = np.array(sequence2[-n_steps:]).reshape(1, n_steps, 1)\n",
    "        y_pred = sess.run(predictions, feed_dict={X: X_batch})\n",
    "        sequence2.append(y_pred[0, -1, 0])\n",
    "\n",
    "plt.figure(figsize=(11,4))\n",
    "plt.subplot(121)\n",
    "plt.plot(t, sequence1, \"b-\")\n",
    "plt.plot(t[:n_steps], sequence1[:n_steps], \"b-\", linewidth=3)\n",
    "plt.xlabel(\"Time\")\n",
    "plt.ylabel(\"Value\")\n",
    "\n",
    "plt.subplot(122)\n",
    "plt.plot(t, sequence2, \"b-\")\n",
    "plt.plot(t[:n_steps], sequence2[:n_steps], \"b-\", linewidth=3)\n",
    "plt.xlabel(\"Time\")\n",
    "\n",
    "plt.show()"
   ]
  },
  {
   "cell_type": "code",
   "execution_count": null,
   "metadata": {},
   "outputs": [],
   "source": []
  }
 ],
 "metadata": {
  "kernelspec": {
   "display_name": "handsonml",
   "language": "python",
   "name": "handsonml"
  },
  "language_info": {
   "codemirror_mode": {
    "name": "ipython",
    "version": 3
   },
   "file_extension": ".py",
   "mimetype": "text/x-python",
   "name": "python",
   "nbconvert_exporter": "python",
   "pygments_lexer": "ipython3",
   "version": "3.7.9"
  }
 },
 "nbformat": 4,
 "nbformat_minor": 4
}
