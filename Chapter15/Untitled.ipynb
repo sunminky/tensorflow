{
 "cells": [
  {
   "cell_type": "code",
   "execution_count": 95,
   "metadata": {},
   "outputs": [
    {
     "data": {
      "text/plain": [
       "'주의할 점은, 이 옵션은 메모리의 증식만 가능하다는 것. 연산이 끝나고 메모리가 필요없는 상황이라고 해서 할당된 메모리를 반납하지 않는다. \\n\\nTensorflow 측에서는 그럴 경우 더 심한 메모리 파편화를 일으킬 수도 있다고 하니 판단은 독자의 몫.'"
      ]
     },
     "execution_count": 95,
     "metadata": {},
     "output_type": "execute_result"
    }
   ],
   "source": [
    "## 15. 오토인코더 ##\n",
    "import tensorflow as tf\n",
    "import numpy as np\n",
    "from matplotlib import pyplot as plt\n",
    "from functools import partial\n",
    "\n",
    "\n",
    "## GPU 메모리 관리 ##\n",
    "#1번 방법\n",
    "config = tf.ConfigProto()\n",
    "config.gpu_options.allow_growth = True #메모리 수요에 따라 할당\n",
    "\n",
    "'''주의할 점은, 이 옵션은 메모리의 증식만 가능하다는 것. 연산이 끝나고 메모리가 필요없는 상황이라고 해서 할당된 메모리를 반납하지 않는다. \n",
    "\n",
    "Tensorflow 측에서는 그럴 경우 더 심한 메모리 파편화를 일으킬 수도 있다고 하니 판단은 독자의 몫.'''"
   ]
  },
  {
   "cell_type": "markdown",
   "metadata": {},
   "source": [
    "# 오토인코더\n",
    "\n",
    "오토인코더(Autoencoder)는 아래의 그림과 같이 단순히 입력을 출력으로 복사하는 신경망이다. 어떻게 보면 간단한 신경망처럼 보이지만 네트워크에 여러가지 방법으로 제약을 줌으로써 어려운 신경망으로 만든다. 예를들어 아래 그림처럼 hidden layer의 뉴런 수를 input layer(입력층) 보다 작게해서 데이터를 압축(차원을 축소)한다거나, 입력 데이터에 노이즈(noise)를 추가한 후 원본 입력을 복원할 수 있도록 네트워크를 학습시키는 등 다양한 오토인코더가 있다. 이러한 제약들은 오토인코더가 단순히 입력을 바로 출력으로 복사하지 못하도록 방지하며, 데이터를 효율적으로 표현(representation)하는 방법을 학습하도록 제어한다.\n",
    "![autoencoder](images/autoencoder.png)\n",
    "오토인코더는 위의 그림에서 볼 수 있듯이 항상 인코더(encoder)와 디코더(decoder), 두 부분으로 구성되어 있다.\n",
    "\n",
    "<ul>\n",
    "    <li>인코더(encoder) : 인지 네트워크(recognition network)라고도 하며, 입력을 내부 표현으로 변환한다.</li>\n",
    "    <li>디코더(decoder) : 생성 네트워크(generative nework)라고도 하며, 내부 표현을 출력으로 변환한다.</li>\n",
    "</ul>\n",
    "오토인코더는 위의 그림에서 처럼, 입력과 출력층의 뉴런 수가 동일하다는 것만 제외하면 일반적인 MLP(Multi-Layer Perceptron)과 동일한 구조이다. <b style=\"background:#AEA\">오토인코더는 입력을 재구성</b>하기 때문에 출력을 재구성(reconstruction)이라고도 하며, 손실함수는 입력과 재구성(출력)의 차이를 가지고 계산한다.\n",
    "\n",
    "위 그림의 <b style=\"background:#AEA\">오토인토더는 히든 레이어의 뉴런(노드, 유닛)이 입력층보다 작으므로 입력이 저차원으로 표현</b>되는데, 이러한 오토인코더를 과소완전 오토인코더(Undercomplete Autoencoder)라고 한다. undercomplete 오토인코더는 저차원을 가지는 히든 레이어에 의해 입력을 그대로 출력으로 복사할 수 없기 때문에, 출력이 입력과 같은 것을 출력하기 위해 학습해야 한다. 이러한 학습을 통해 undercomplete 오토인코더는 <b style=\"background:#AEA\">입력 데이터에서 가장 중요한 특성(feature)을 학습하도록</b> 만든다."
   ]
  },
  {
   "cell_type": "markdown",
   "metadata": {},
   "source": [
    "## 과소완전 선형 오토인코더로 PCA 수행하기\n",
    "\n",
    "오토인코더가 선형 활성화 함수만 사용하고 비용 함수가 평균 제곱 오차(MSE)라면, 이는 결국 주성분 분석(PCA)를 수행하는 것으로 볼 수 있다."
   ]
  },
  {
   "cell_type": "code",
   "execution_count": 96,
   "metadata": {},
   "outputs": [],
   "source": [
    "# 3D 데이터셋을 만듦\n",
    "import numpy.random as rnd\n",
    "\n",
    "rnd.seed(4)\n",
    "m = 200\n",
    "w1, w2 = 0.1, 0.3\n",
    "noise = 0.1\n",
    "\n",
    "angles = rnd.rand(m) * 3 * np.pi / 2 - 0.5\n",
    "data = np.empty((m, 3))\n",
    "data[:, 0] = np.cos(angles) + np.sin(angles)/2 + noise * rnd.randn(m) / 2\n",
    "data[:, 1] = np.sin(angles) * 0.7 + noise * rnd.randn(m) / 2\n",
    "data[:, 2] = data[:, 0] * w1 + data[:, 1] * w2 + noise * rnd.randn(m)"
   ]
  },
  {
   "cell_type": "code",
   "execution_count": 16,
   "metadata": {},
   "outputs": [],
   "source": [
    "# 데이터 정규화\n",
    "from sklearn.preprocessing import StandardScaler\n",
    "\n",
    "scaler = StandardScaler()\n",
    "X_train = scaler.fit_transform(data[:100])\n",
    "X_test = scaler.transform(data[100:])"
   ]
  },
  {
   "cell_type": "code",
   "execution_count": 17,
   "metadata": {},
   "outputs": [],
   "source": [
    "tf.reset_default_graph()\n",
    "\n",
    "n_inputs = 3 #3D 입력\n",
    "n_hidden = 2 #2D 코딩\n",
    "n_outputs = n_inputs\n",
    "\n",
    "learning_rate = 0.01\n",
    "\n",
    "X = tf.placeholder(tf.float32, shape=[None, n_inputs])\n",
    "hidden = tf.layers.dense(X, n_hidden, activation=None) #단순히 PCA를 수행하기 위해 활성화 함수 사용 안함(모든 뉴런이 선형)\n",
    "outputs = tf.layers.dense(hidden, n_outputs, activation=None)\n",
    "\n",
    "reconstruction_loss = tf.reduce_mean(tf.square(outputs-X)) #재구성오차\n",
    "\n",
    "optimizer = tf.train.AdamOptimizer(learning_rate=learning_rate)\n",
    "training_op = optimizer.minimize(reconstruction_loss)\n",
    "\n",
    "n_iterations = 1000\n",
    "codings = hidden #코딩을 만드는 입력층을 출력\n",
    "\n",
    "with tf.Session(config=config) as sess:\n",
    "    sess.run(tf.global_variables_initializer())\n",
    "    for iteration in range(n_iterations):\n",
    "        sess.run(training_op, feed_dict={X: X_train}) #레이블이 없음(비지도 학습)\n",
    "    codings_val = sess.run(codings, feed_dict={X: X_test})"
   ]
  },
  {
   "cell_type": "code",
   "execution_count": 18,
   "metadata": {},
   "outputs": [
    {
     "data": {
      "image/png": "[encoded data removed]",
      "text/plain": [
       "<Figure size 288x216 with 1 Axes>"
      ]
     },
     "metadata": {
      "needs_background": "light"
     },
     "output_type": "display_data"
    }
   ],
   "source": [
    "#과소완전 선형 오토인코더에 의해 수행된 PCA\n",
    "\n",
    "fig = plt.figure(figsize=(4,3))\n",
    "plt.plot(codings_val[:,0], codings_val[:, 1], \"b.\")\n",
    "plt.xlabel(\"$z_1$\", fontsize=18)\n",
    "plt.ylabel(\"$z_2$\", fontsize=18, rotation=0)\n",
    "plt.show()"
   ]
  },
  {
   "cell_type": "markdown",
   "metadata": {},
   "source": [
    "![pca](images/pca.png)"
   ]
  },
  {
   "cell_type": "markdown",
   "metadata": {},
   "source": [
    "## 적층 오토인코더\n",
    "\n",
    "여러 개의 은닉층을 가지는 오토인코더이다. 층을 더 추가하면 오토인코더가 더 복잡한 코딩을 학습할 수 있다.\n",
    "![stacked-ae](images/stacked-ae.png)\n",
    "적층 오토인코더의 구조는 아래의 그림과 같이 가운데 히든레이어(코딩층)을 기준으로 대칭인 구조를 가진다"
   ]
  },
  {
   "cell_type": "code",
   "execution_count": 97,
   "metadata": {},
   "outputs": [],
   "source": [
    "#MNIST 데이터 로드\n",
    "(train_x, train_y), (test_x, test_y) = tf.keras.datasets.mnist.load_data()\n",
    "train_x = train_x.astype(np.float32).reshape(-1, 28*28) / 255.0\n",
    "test_x = test_x.astype(np.float32).reshape(-1, 28*28) / 255.0\n",
    "train_y = train_y.astype(np.int32)\n",
    "test_y = test_y.astype(np.int32)\n",
    "valid_x, train_x = train_x[:5000], train_x[5000:]\n",
    "valid_y, train_y = train_y[:5000], train_y[5000:]\n",
    "\n",
    "# Mini-batch\n",
    "def shuffle_batch(features, labels, batch_size):\n",
    "    rnd_idx = np.random.permutation(len(features))\n",
    "    n_batches = len(features) // batch_size\n",
    "    for batch_idx in np.array_split(rnd_idx, n_batches):\n",
    "        batch_x, batch_y = features[batch_idx], labels[batch_idx]\n",
    "        yield batch_x, batch_y"
   ]
  },
  {
   "cell_type": "code",
   "execution_count": 20,
   "metadata": {},
   "outputs": [
    {
     "name": "stdout",
     "output_type": "stream",
     "text": [
      "WARNING:tensorflow:\n",
      "The TensorFlow contrib module will not be included in TensorFlow 2.0.\n",
      "For more information, please see:\n",
      "  * https://github.com/tensorflow/community/blob/master/rfcs/20180907-contrib-sunset.md\n",
      "  * https://github.com/tensorflow/addons\n",
      "  * https://github.com/tensorflow/io (for I/O related ops)\n",
      "If you depend on functionality not listed there, please file an issue.\n",
      "\n",
      "epoch :1\tloss : 0.059\n",
      "epoch :2\tloss : 0.055\n",
      "epoch :3\tloss : 0.054\n",
      "epoch :4\tloss : 0.054\n",
      "epoch :5\tloss : 0.054\n"
     ]
    }
   ],
   "source": [
    "from functools import partial\n",
    "\n",
    "tf.reset_default_graph()\n",
    "\n",
    "n_inputs = 28 * 28 #MNIST이미지\n",
    "n_hidden1 = 300\n",
    "n_hidden2 = 150 #코딩\n",
    "n_hidden3 = n_hidden1\n",
    "n_outputs = n_inputs\n",
    "\n",
    "learning_rate = 0.01\n",
    "l2_reg = 0.0001\n",
    "\n",
    "X = tf.placeholder(tf.float32, shape=[None, n_inputs])\n",
    "\n",
    "he_init = tf.variance_scaling_initializer() #he초기화\n",
    "l2_regularizer = tf.contrib.layers.l2_regularizer(l2_reg) #l2규제\n",
    "my_dense_layer = partial(tf.layers.dense,\n",
    "                        activation=tf.nn.elu,\n",
    "                        kernel_initializer=he_init,\n",
    "                        kernel_regularizer=l2_regularizer)\n",
    "\n",
    "hidden1 = my_dense_layer(X, n_hidden)\n",
    "hidden2 = my_dense_layer(hidden1, n_hidden2)\n",
    "hidden3 = my_dense_layer(hidden2, n_hidden3)\n",
    "outputs = my_dense_layer(hidden3, n_outputs, activation=None)\n",
    "\n",
    "reconstruction_loss = tf.reduce_mean(tf.square(outputs-X))\n",
    "reg_losses = tf.get_collection(tf.GraphKeys.REGULARIZATION_LOSSES)\n",
    "loss = tf.add_n([reconstruction_loss] + reg_losses)\n",
    "\n",
    "optimizer = tf.train.AdamOptimizer(learning_rate=learning_rate)\n",
    "training_op = optimizer.minimize(loss)\n",
    "\n",
    "n_epoch = 5\n",
    "batch_size = 150\n",
    "\n",
    "save_model = tf.train.Saver()\n",
    "\n",
    "with tf.Session(config=config) as sess:\n",
    "    sess.run(tf.global_variables_initializer())\n",
    "    for epoch in range(n_epoch):\n",
    "        n_batches = len(train_x) // batch_size #배치사이즈\n",
    "        for iteration in range(n_batches):\n",
    "            X_batch, _ = next(shuffle_batch(train_x, train_y, batch_size))\n",
    "            sess.run(training_op, feed_dict={X: X_batch})\n",
    "        print(f\"epoch :{epoch+1}\\tloss : {sess.run(loss, feed_dict={X: valid_x}):.3f}\")\n",
    "    save_model.save(sess, './model/stacked_ae.ckpt') #모델저장"
   ]
  },
  {
   "cell_type": "code",
   "execution_count": 3,
   "metadata": {},
   "outputs": [],
   "source": [
    "# 오토인코더로 학습시킨 이미지\n",
    "def show_reconstructed_digits(X, outputs, model_path=None, n_test_digits=2):\n",
    "    with tf.Session() as sess:\n",
    "        if model_path:\n",
    "            save_model.restore(sess, model_path)\n",
    "        outputs_val = outputs.eval(feed_dict={X: test_x[:n_test_digits]})\n",
    "\n",
    "    fig = plt.figure(figsize=(10, 4))\n",
    "    for digit_index in range(n_test_digits):\n",
    "        plt.subplot(n_test_digits, 2, digit_index * 2 + 1)\n",
    "        plot_image(test_x[digit_index])\n",
    "        plt.subplot(n_test_digits, 2, digit_index * 2 + 2)\n",
    "        plot_image(outputs_val[digit_index])\n",
    "        \n",
    "def plot_image(image, shape=[28, 28]):\n",
    "    plt.imshow(image.reshape(shape), cmap=\"Greys\", interpolation=\"nearest\")\n",
    "    plt.axis(\"off\")\n",
    "    \n",
    "def plot_multiple_images(images, n_rows, n_cols, pad=2):\n",
    "    images = images - images.min()  # 최소값을 0으로 만들어 패딩이 하얗게 보이도록 합니다.\n",
    "    w,h = images.shape[1:]\n",
    "    image = np.zeros(((w+pad)*n_rows+pad, (h+pad)*n_cols+pad))\n",
    "    for y in range(n_rows):\n",
    "        for x in range(n_cols):\n",
    "            image[(y*(h+pad)+pad):(y*(h+pad)+pad+h),(x*(w+pad)+pad):(x*(w+pad)+pad+w)] = images[y*n_cols+x]\n",
    "    plt.imshow(image, cmap=\"Greys\", interpolation=\"nearest\")\n",
    "    plt.axis(\"off\")"
   ]
  },
  {
   "cell_type": "code",
   "execution_count": 22,
   "metadata": {},
   "outputs": [
    {
     "name": "stdout",
     "output_type": "stream",
     "text": [
      "INFO:tensorflow:Restoring parameters from ./model/stacked_ae.ckpt\n"
     ]
    },
    {
     "data": {
      "image/png": "[encoded data removed]",
      "text/plain": [
       "<Figure size 720x288 with 4 Axes>"
      ]
     },
     "metadata": {
      "needs_background": "light"
     },
     "output_type": "display_data"
    }
   ],
   "source": [
    "show_reconstructed_digits(X, outputs, './model/stacked_ae.ckpt')"
   ]
  },
  {
   "cell_type": "markdown",
   "metadata": {},
   "source": [
    "### 이상적인 출력값\n",
    "![stacked-ae02](images/stacked-ae02.png)"
   ]
  },
  {
   "cell_type": "markdown",
   "metadata": {},
   "source": [
    "## 가중치 묶기\n",
    "\n",
    "![stacked-ae03](images/stacked-ae03.png)\n",
    "\n",
    "오토인코더가 완벽하게 대칭일 경우 일반적으로 <b style=\"background:#AEA\">디코더의 가중치와 인코더의 가중치를 묶는다.</b>\n",
    "<br>\n",
    "이 방법은 모델에 있는 <b style=\"background:#AEA\">가중치의 수를 절반</b>으로 줄일 수 있고 <b style=\"background:#AEA\">훈련 속도를 높이고</b> <b style=\"background:#AEA\">과대적합의 위험을 줄여줌</b>.\n",
    "<br>\n",
    "텐서플로에서 tf.layers.dense() 함수를 사용해 가중치를 묶으려면 직접 층을 정의해아 함."
   ]
  },
  {
   "cell_type": "code",
   "execution_count": 23,
   "metadata": {},
   "outputs": [
    {
     "name": "stdout",
     "output_type": "stream",
     "text": [
      "epoch :1\tloss : 0.053\n",
      "epoch :2\tloss : 0.043\n",
      "epoch :3\tloss : 0.039\n",
      "epoch :4\tloss : 0.035\n",
      "epoch :5\tloss : 0.034\n"
     ]
    }
   ],
   "source": [
    "tf.reset_default_graph()\n",
    "\n",
    "n_inputs = 28 * 28 #MNIST이미지\n",
    "n_hidden1 = 300\n",
    "n_hidden2 = 150 #코딩\n",
    "n_hidden3 = n_hidden1\n",
    "n_outputs = n_inputs\n",
    "\n",
    "learning_rate = 0.01\n",
    "l2_reg = 0.0001\n",
    "\n",
    "X = tf.placeholder(tf.float32, shape=[None, n_inputs])\n",
    "\n",
    "activation = tf.nn.elu\n",
    "he_init = tf.variance_scaling_initializer() #he초기화\n",
    "l2_regularizer = tf.contrib.layers.l2_regularizer(l2_reg) #l2규제\n",
    "\n",
    "#가중치 초기화#\n",
    "weights1_init = he_init([n_inputs, n_hidden1])\n",
    "weights2_init = he_init([n_hidden1, n_hidden2])\n",
    "\n",
    "#가중치 묶기#\n",
    "weight1 = tf.Variable(weights1_init, dtype=tf.float32, name=\"weights1\")\n",
    "weight2 = tf.Variable(weights2_init, dtype=tf.float32, name=\"weights2\")\n",
    "weight3 = tf.transpose(weight2, name=\"weights3\") #가중치 묶기, weight2의 전치\n",
    "weight4 = tf.transpose(weight1, name=\"Weights4\") #가중치 묶기, weight1의 전치\n",
    "\n",
    "#바이어스#\n",
    "biases1 = tf.Variable(tf.zeros([n_hidden1]), dtype=tf.float32, name=\"biases1\") #편향은 묶지않음, 규제 안함\n",
    "biases2 = tf.Variable(tf.zeros([n_hidden2]), dtype=tf.float32, name=\"biases2\") #편향은 묶지않음, 규제 안함\n",
    "biases3 = tf.Variable(tf.zeros([n_hidden3]), dtype=tf.float32, name=\"biases3\") #편향은 묶지않음, 규제 안함\n",
    "biases4 = tf.Variable(tf.zeros([n_outputs]), dtype=tf.float32, name=\"biases4\") #편향은 묶지않음, 규제 안함\n",
    "\n",
    "#활성화 함수에 통과#\n",
    "hidden1 = activation(tf.matmul(X, weight1) + biases1)\n",
    "hidden2 = activation(tf.matmul(hidden1, weight2) + biases2)\n",
    "hidden3 = activation(tf.matmul(hidden2, weight3) + biases3)\n",
    "outputs = tf.matmul(hidden3, weight4) + biases4 #마지막 층은 활성화 함수 통과 안 함\n",
    "\n",
    "#오차 계산#\n",
    "reconstruction_loss = tf.reduce_mean(tf.square(outputs-X))\n",
    "reg_losses = l2_regularizer(weights1_init) + l2_regularizer(weights2_init)\n",
    "loss = reconstruction_loss + reg_losses\n",
    "\n",
    "optimizer = tf.train.AdamOptimizer(learning_rate=learning_rate)\n",
    "training_op = optimizer.minimize(loss)\n",
    "\n",
    "n_epoch = 5\n",
    "batch_size = 150\n",
    "\n",
    "save_model = tf.train.Saver()\n",
    "\n",
    "with tf.Session(config=config) as sess:\n",
    "    sess.run(tf.global_variables_initializer())\n",
    "    for epoch in range(n_epoch):\n",
    "        n_batches = len(train_x) // batch_size #배치사이즈\n",
    "        for iteration in range(n_batches):\n",
    "            X_batch, _ = next(shuffle_batch(train_x, train_y, batch_size))\n",
    "            sess.run(training_op, feed_dict={X: X_batch})\n",
    "        print(f\"epoch :{epoch+1}\\tloss : {sess.run(loss, feed_dict={X: valid_x}):.3f}\")\n",
    "    save_model.save(sess, './model/stacked_ae_tied.ckpt') #모델저장"
   ]
  },
  {
   "cell_type": "code",
   "execution_count": 24,
   "metadata": {},
   "outputs": [
    {
     "name": "stdout",
     "output_type": "stream",
     "text": [
      "INFO:tensorflow:Restoring parameters from ./model/stacked_ae_tied.ckpt\n"
     ]
    },
    {
     "data": {
      "image/png": "[encoded data removed]",
      "text/plain": [
       "<Figure size 720x288 with 4 Axes>"
      ]
     },
     "metadata": {
      "needs_background": "light"
     },
     "output_type": "display_data"
    }
   ],
   "source": [
    "show_reconstructed_digits(X, outputs, './model/stacked_ae_tied.ckpt')"
   ]
  },
  {
   "cell_type": "markdown",
   "metadata": {},
   "source": [
    "## 한 번에 한 층씩 훈련하기\n",
    "\n",
    "한 번에 전체 오토인코더를 학습시키는 것보다 <b style=\"background:#AFA;\">한 번에 오토인코더 하나를 학습하고, 이를 쌓아올려서 한 개의 stacked-오토인코더를 만드는 것</b>이 훨씬 빠르며 이러한 방식은 아주 깊은 오토인코더일 경우에 유용하다.\n",
    "\n",
    "![stacked-ae04](images/stacked-ae04.png)\n",
    "\n",
    "<ul>\n",
    "    <li>[단계 1]에서 첫 번째 오토인코더는 입력을 재구성하도록 학습된다.</li>\n",
    "    <li>[단계 2]에서는 두 번째 오토인코더가 첫 번째 히든 레이어(Hidden 1)의 출력을 재구성하도록 학습된다.</li>\n",
    "    <li>[단계 3]에서는 단계1 ~ 2의 오토인코더를 합쳐 최종적으로 하나의 stacked-오토인코더를 구현한다.</li>\n",
    "</ul>\n",
    "\n",
    "텐서플로에서 이렇게 여러 단계의 오토인코더를 학습시키는 방법으로는 다음과 같이 두 가지 방법이 있다.\n",
    "<ol>\n",
    "    <li>각 단계마다 다른 텐서플로 그래프(graph)를 사용하는 방법</li>\n",
    "    <li>하나의 그래프에 각 단계의 학습을 수행하는 방법</li>\n",
    "</ol>"
   ]
  },
  {
   "cell_type": "markdown",
   "metadata": {},
   "source": [
    "## 각 단계마다 다른 텐서플로 그래프(graph)를 사용하는 방법"
   ]
  },
  {
   "cell_type": "code",
   "execution_count": 145,
   "metadata": {},
   "outputs": [],
   "source": [
    "from functools import partial\n",
    "import sys\n",
    "\n",
    "#가중치 묶은 버전#\n",
    "def train_tied_autoencoder(X_train, n_neurons, n_epochs, batch_size,\n",
    "                      learning_rate = 0.01, l2_reg = 0.0005, seed=42,\n",
    "                      hidden_activation=tf.nn.elu,\n",
    "                      output_activation=tf.nn.elu):\n",
    "    graph = tf.Graph()\n",
    "    with graph.as_default():\n",
    "        n_inputs = n_outputs = X_train.shape[1]\n",
    "        \n",
    "        X = tf.placeholder(tf.float32, shape=[None, n_inputs])\n",
    "        \n",
    "        regularizer = tf.contrib.layers.l2_regularizer(l2_reg)\n",
    "        initializer = tf.variance_scaling_initializer()\n",
    "        \n",
    "        weight_in_init = initializer([n_inputs, n_neurons])\n",
    "        \n",
    "        weight_in = tf.Variable(weight_in_init, dtype=tf.float32)\n",
    "        weight_out = tf.transpose(weight_in) #가중치 묶기\n",
    "        \n",
    "        bias_in = tf.Variable(tf.zeros(n_neurons))\n",
    "        bias_out = tf.Variable(tf.zeros(n_outputs))\n",
    "        \n",
    "        hidden = hidden_activation(tf.matmul(X, weight_in) + bias_in)\n",
    "        outputs = output_activation(tf.matmul(hidden, weight_out) + bias_out) if output_activation else tf.matmul(hidden, weight_out) + bias_out\n",
    "\n",
    "        reconstruction_loss = tf.reduce_mean(tf.square(outputs-X))\n",
    "        reg_loss = regularizer(weight_in)\n",
    "        loss = reconstruction_loss + reg_loss\n",
    "        \n",
    "        optimizer = tf.train.AdamOptimizer(learning_rate=learning_rate)\n",
    "        training_op = optimizer.minimize(loss)\n",
    "        \n",
    "        with tf.Session(graph=graph, config=config) as sess:\n",
    "            sess.run(tf.global_variables_initializer())\n",
    "            n_batches = len(X_train) // batch_size\n",
    "            for epoch in range(n_epochs):\n",
    "                for iteration in range(n_batches):\n",
    "                    print(\"\\r{}%\".format(100 * iteration // n_batches), end=\"\")\n",
    "                    sys.stdout.flush()\n",
    "                    indices = rnd.permutation(len(X_train))[:batch_size]\n",
    "                    X_batch = X_train[indices]\n",
    "                    sess.run(training_op, feed_dict={X: X_batch})\n",
    "                loss_train = reconstruction_loss.eval(feed_dict={X: X_batch})\n",
    "                print(\"\\r{}\".format(epoch), \"훈련 MSE:\", loss_train)\n",
    "            \n",
    "            hidden_val = sess.run(hidden, feed_dict={X:X_train})\n",
    "            ret_weight_in, ret_weight_out = sess.run([weight_in, weight_out])\n",
    "            ret_bias_in, ret_bias_out = sess.run([bias_in, bias_out])\n",
    "            return hidden_val, ret_weight_in, ret_bias_in, ret_weight_out, ret_bias_out"
   ]
  },
  {
   "cell_type": "code",
   "execution_count": 146,
   "metadata": {},
   "outputs": [
    {
     "name": "stdout",
     "output_type": "stream",
     "text": [
      "0 훈련 MSE: 0.0040145493\n",
      "1 훈련 MSE: 0.00384855\n",
      "2 훈련 MSE: 0.0043657\n",
      "3 훈련 MSE: 0.004238016\n",
      "4 훈련 MSE: 0.004419134\n",
      "0 %훈련 MSE: 0.0020583672\n",
      "1 훈련 MSE: 0.0015017611\n",
      "2 %훈련 MSE: 0.0014082992\n",
      "3 훈련 MSE: 0.0015075787\n",
      "4 훈련 MSE: 0.0017370342\n",
      "0 훈련 MSE: 0.0014677905\n",
      "1 훈련 MSE: 0.0007843468\n",
      "2 훈련 MSE: 0.00079095125\n",
      "3 훈련 MSE: 0.0009811362\n",
      "4 훈련 MSE: 0.0014394935\n"
     ]
    }
   ],
   "source": [
    "## 가중치 묶은 버전 ##\n",
    "\n",
    "tf.reset_default_graph()\n",
    "\n",
    "# 첫 번째 층\n",
    "hidden1_outputs, w1, b1, w6, b6 = train_tied_autoencoder(train_x, n_neurons=576, n_epochs=5,\n",
    "                                                         batch_size=150, output_activation=None, l2_reg=0.0001)\n",
    "\n",
    "# 두 번째 층\n",
    "hidden2_outputs, w2, b2, w5, b5 = train_tied_autoencoder(hidden1_outputs, n_neurons=432, n_epochs=5,\n",
    "                                                         batch_size=150, l2_reg=0.0001)\n",
    "\n",
    "# 세 번째 층\n",
    "_, w3, b3, w4, b4 = train_tied_autoencoder(hidden2_outputs, n_neurons=324, n_epochs=5,\n",
    "                                           batch_size=150, l2_reg=0.0001)"
   ]
  },
  {
   "cell_type": "code",
   "execution_count": 147,
   "metadata": {},
   "outputs": [
    {
     "data": {
      "image/png": "[encoded data removed]",
      "text/plain": [
       "<Figure size 720x288 with 4 Axes>"
      ]
     },
     "metadata": {
      "needs_background": "light"
     },
     "output_type": "display_data"
    }
   ],
   "source": [
    "n_inputs = 28*28\n",
    "\n",
    "tf.global_variables_initializer()\n",
    "X = tf.placeholder(tf.float32, shape=[None, n_inputs])\n",
    "hidden1 = tf.nn.elu(tf.matmul(X, w1) + b1)\n",
    "hidden2 = tf.nn.elu(tf.matmul(hidden1, w2) + b2)\n",
    "hidden3 = tf.nn.elu(tf.matmul(hidden2, w3) + b3)\n",
    "hidden4 = tf.nn.elu(tf.matmul(hidden3, w4) + b4)\n",
    "hidden5 = tf.nn.elu(tf.matmul(hidden4, w5) + b5)\n",
    "outputs = tf.matmul(hidden5, w6) + b6\n",
    "\n",
    "show_reconstructed_digits(X, outputs)"
   ]
  },
  {
   "cell_type": "code",
   "execution_count": 142,
   "metadata": {},
   "outputs": [],
   "source": [
    "from functools import partial\n",
    "import sys\n",
    "\n",
    "#가중치 안 묶은 버전#\n",
    "def train_autoencoder(X_train, n_neurons, n_epochs, batch_size,\n",
    "                      learning_rate = 0.01, l2_reg = 0.0005, seed=42,\n",
    "                      hidden_activation=tf.nn.elu,\n",
    "                      output_activation=tf.nn.elu):\n",
    "    graph = tf.Graph()\n",
    "    with graph.as_default():\n",
    "        tf.set_random_seed(seed)\n",
    "\n",
    "        n_inputs = X_train.shape[1]\n",
    "\n",
    "        X = tf.placeholder(tf.float32, shape=[None, n_inputs])\n",
    "        \n",
    "        my_dense_layer = partial(\n",
    "            tf.layers.dense,\n",
    "            kernel_initializer=tf.variance_scaling_initializer(),\n",
    "            kernel_regularizer=tf.contrib.layers.l2_regularizer(l2_reg))\n",
    "\n",
    "        hidden = my_dense_layer(X, n_neurons, activation=hidden_activation, name=\"hidden\")\n",
    "        outputs = my_dense_layer(hidden, n_inputs, activation=output_activation, name=\"outputs\")\n",
    "\n",
    "        reconstruction_loss = tf.reduce_mean(tf.square(outputs - X))\n",
    "\n",
    "        reg_losses = tf.get_collection(tf.GraphKeys.REGULARIZATION_LOSSES)\n",
    "        loss = tf.add_n([reconstruction_loss] + reg_losses)\n",
    "\n",
    "        optimizer = tf.train.AdamOptimizer(learning_rate)\n",
    "        training_op = optimizer.minimize(loss)\n",
    "\n",
    "        init = tf.global_variables_initializer()\n",
    "    \n",
    "    with tf.Session(graph=graph) as sess:\n",
    "        init.run()\n",
    "        for epoch in range(n_epochs):\n",
    "            n_batches = len(X_train) // batch_size\n",
    "            for iteration in range(n_batches):\n",
    "                print(\"\\r{}%\".format(100 * iteration // n_batches), end=\"\")\n",
    "                sys.stdout.flush()\n",
    "                indices = rnd.permutation(len(X_train))[:batch_size]\n",
    "                X_batch = X_train[indices]\n",
    "                sess.run(training_op, feed_dict={X: X_batch})\n",
    "            loss_train = reconstruction_loss.eval(feed_dict={X: X_batch})\n",
    "            print(\"\\r{}\".format(epoch), \"훈련 MSE:\", loss_train)\n",
    "        params = dict([(var.name, var.eval()) for var in tf.get_collection(tf.GraphKeys.TRAINABLE_VARIABLES)])\n",
    "        hidden_val = hidden.eval(feed_dict={X: X_train})\n",
    "        return hidden_val, params[\"hidden/kernel:0\"], params[\"hidden/bias:0\"], params[\"outputs/kernel:0\"], params[\"outputs/bias:0\"]"
   ]
  },
  {
   "cell_type": "code",
   "execution_count": 143,
   "metadata": {},
   "outputs": [
    {
     "name": "stdout",
     "output_type": "stream",
     "text": [
      "0 훈련 MSE: 0.01906789\n",
      "1 훈련 MSE: 0.019290097\n",
      "2 훈련 MSE: 0.018617999\n",
      "3 훈련 MSE: 0.017881682\n",
      "4 훈련 MSE: 0.019459112\n",
      "0 훈련 MSE: 0.0045077954\n",
      "1 훈련 MSE: 0.0044194534\n",
      "2 훈련 MSE: 0.004559014\n",
      "3 훈련 MSE: 0.004418278\n",
      "4 훈련 MSE: 0.0046330476\n"
     ]
    }
   ],
   "source": [
    "## 가중치 안 묶은 버전 ##\n",
    "\n",
    "tf.reset_default_graph()\n",
    "\n",
    "# 첫 번째 층\n",
    "hidden1_outputs, w1, b1, w4, b4 = train_autoencoder(train_x, n_neurons=300, n_epochs=5, batch_size=150,output_activation=None)\n",
    "\n",
    "# 두 번째 층\n",
    "_, w2, b2, w3, b3 = train_autoencoder(hidden1_outputs, n_neurons=150, n_epochs=5, batch_size=150)"
   ]
  },
  {
   "cell_type": "code",
   "execution_count": 144,
   "metadata": {},
   "outputs": [
    {
     "data": {
      "image/png": "[encoded data removed]",
      "text/plain": [
       "<Figure size 720x288 with 4 Axes>"
      ]
     },
     "metadata": {
      "needs_background": "light"
     },
     "output_type": "display_data"
    }
   ],
   "source": [
    "n_inputs = 28*28\n",
    "\n",
    "tf.global_variables_initializer()\n",
    "X = tf.placeholder(tf.float32, shape=[None, n_inputs])\n",
    "hidden1 = tf.nn.elu(tf.matmul(X, w1) + b1)\n",
    "hidden2 = tf.nn.elu(tf.matmul(hidden1, w2) + b2)\n",
    "hidden3 = tf.nn.elu(tf.matmul(hidden2, w3) + b3)\n",
    "outputs = tf.matmul(hidden3, w4) + b4\n",
    "\n",
    "show_reconstructed_digits(X, outputs)"
   ]
  },
  {
   "cell_type": "markdown",
   "metadata": {},
   "source": [
    "## 하나의 그래프에서 오토인코더를 각가 학습하기\n",
    "\n",
    "전체 적층 오토인코더를 위한 그래프를 만들지만 각 오토인코더를 독립적으로 학습하기 위한 연산도 추가합니다. 단계 1은 맨 아래층과 맨 윗층을 훈련하고(즉, 첫 번째 오토인코더), 단계 2는 두 개의 가운데 층을 훈련한다(즉, 두 번째 오토인코더).\n",
    "\n",
    "![stacked-ae05](images/stacked-ae05.png)"
   ]
  },
  {
   "cell_type": "code",
   "execution_count": 29,
   "metadata": {},
   "outputs": [
    {
     "name": "stdout",
     "output_type": "stream",
     "text": [
      "훈련 단계 #1\n",
      "0 훈련 MSE: 0.007724679\n",
      "1 훈련 MSE: 0.007237235\n",
      "2 훈련 MSE: 0.0082519045\n",
      "3 %훈련 MSE: 0.008145345\n",
      "훈련 단계 #2\n",
      "0 훈련 MSE: 0.07386519\n",
      "1 훈련 MSE: 0.0040200143\n",
      "2 훈련 MSE: 0.0025891021\n",
      "3 훈련 MSE: 0.002077696\n",
      "테스트 MSE: 0.009810922\n"
     ]
    }
   ],
   "source": [
    "import sys\n",
    "\n",
    "tf.reset_default_graph()\n",
    "\n",
    "n_inputs = 28 * 28\n",
    "n_hidden1 = 300\n",
    "n_hidden2 = 150  # 코딩 유닛\n",
    "n_hidden3 = n_hidden1\n",
    "n_outputs = n_inputs\n",
    "\n",
    "learning_rate = 0.01\n",
    "l2_reg = 0.0001\n",
    "\n",
    "activation = tf.nn.elu\n",
    "regularizer = tf.contrib.layers.l2_regularizer(l2_reg)\n",
    "initializer = tf.variance_scaling_initializer()\n",
    "\n",
    "W1_init = initializer([n_inputs, n_hidden1])\n",
    "W2_init = initializer([n_hidden1, n_hidden2])\n",
    "W3_init = initializer([n_hidden2, n_hidden3])\n",
    "W4_init = initializer([n_hidden3, n_outputs])\n",
    "\n",
    "W1 = tf.Variable(W1_init, dtype=tf.float32, name=\"weights1\")\n",
    "W2 = tf.Variable(W2_init, dtype=tf.float32, name=\"weights2\")\n",
    "W3 = tf.Variable(W3_init, dtype=tf.float32, name=\"weights3\")\n",
    "W4 = tf.Variable(W4_init, dtype=tf.float32, name=\"weights4\")\n",
    "\n",
    "b1 = tf.Variable(tf.zeros(n_hidden1), name=\"biases1\")\n",
    "b2 = tf.Variable(tf.zeros(n_hidden2), name=\"biases2\")\n",
    "b3 = tf.Variable(tf.zeros(n_hidden3), name=\"biases3\")\n",
    "b4 = tf.Variable(tf.zeros(n_outputs), name=\"biases4\")\n",
    "\n",
    "inputs = tf.placeholder(tf.float32, shape=[None, n_inputs])\n",
    "hidden1 = activation(tf.matmul(inputs, W1) + b1)\n",
    "hidden2 = activation(tf.matmul(hidden1, W2) + b2)\n",
    "hidden3 = activation(tf.matmul(hidden2, W3) + b3)\n",
    "outputs = tf.matmul(hidden3, W4) + b4\n",
    "\n",
    "reconstruction_loss = tf.losses.mean_squared_error(labels=inputs, predictions=outputs)\n",
    "\n",
    "optimizer = tf.train.AdamOptimizer(learning_rate)\n",
    "\n",
    "with tf.name_scope(\"phase1\"):\n",
    "    phase1_outputs = tf.matmul(hidden1, W4) + b4  # hidden2와 hidden3 제외\n",
    "    phase1_reconstruction_loss = tf.reduce_mean(tf.square(phase1_outputs - inputs))\n",
    "    phase1_reg_loss = regularizer(W1) + regularizer(W4)\n",
    "    phase1_loss = phase1_reconstruction_loss + phase1_reg_loss\n",
    "    phase1_training_op = optimizer.minimize(phase1_loss)\n",
    "\n",
    "with tf.name_scope(\"phase2\"):\n",
    "    phase2_reconstruction_loss = tf.reduce_mean(tf.square(hidden3 - hidden1))\n",
    "    phase2_reg_loss = regularizer(W2) + regularizer(W3)\n",
    "    phase2_loss = phase2_reconstruction_loss + phase2_reg_loss\n",
    "    train_vars = [W2, b2, W3, b3] #학습될 텐서 지정\n",
    "    phase2_training_op = optimizer.minimize(phase2_loss, var_list=train_vars) # hidden1 동결\n",
    "    \n",
    "\n",
    "save_model = tf.train.Saver()\n",
    "\n",
    "training_ops = [phase1_training_op, phase2_training_op]\n",
    "reconstruction_losses = [phase1_reconstruction_loss, phase2_reconstruction_loss]\n",
    "n_epochs = [4, 4]\n",
    "batch_sizes = [150, 150]\n",
    "\n",
    "with tf.Session(config=config) as sess:\n",
    "    sess.run(tf.global_variables_initializer())\n",
    "    for phase in range(2):\n",
    "        print(\"훈련 단계 #{}\".format(phase + 1))\n",
    "        for epoch in range(n_epochs[phase]):\n",
    "            n_batches = len(train_x) // batch_sizes[phase]\n",
    "            for iteration in range(n_batches):\n",
    "                print(\"\\r{}%\".format(100 * iteration // n_batches), end=\"\")\n",
    "                sys.stdout.flush()\n",
    "                batch_x, batch_y = next(shuffle_batch(train_x, train_y, batch_sizes[phase]))\n",
    "                sess.run(training_ops[phase], feed_dict={inputs: batch_x})\n",
    "            loss_train = reconstruction_losses[phase].eval(feed_dict={inputs: batch_x})\n",
    "            print(\"\\r{}\".format(epoch), \"훈련 MSE:\", loss_train)\n",
    "    loss_test = reconstruction_loss.eval(feed_dict={inputs: test_x})\n",
    "    print(\"테스트 MSE:\", loss_test)\n",
    "    save_model.save(sess, \"./model/my_model_one_at_a_time.ckpt\")"
   ]
  },
  {
   "cell_type": "code",
   "execution_count": 30,
   "metadata": {},
   "outputs": [
    {
     "name": "stdout",
     "output_type": "stream",
     "text": [
      "INFO:tensorflow:Restoring parameters from ./model/my_model_one_at_a_time.ckpt\n"
     ]
    },
    {
     "data": {
      "image/png": "[encoded data removed]",
      "text/plain": [
       "<Figure size 720x288 with 4 Axes>"
      ]
     },
     "metadata": {
      "needs_background": "light"
     },
     "output_type": "display_data"
    }
   ],
   "source": [
    "show_reconstructed_digits(inputs, outputs, './model/my_model_one_at_a_time.ckpt')"
   ]
  },
  {
   "cell_type": "markdown",
   "metadata": {},
   "source": [
    "## 특성 시각화\n",
    "\n",
    "랜덤한 입력 이미지를 오토인코더에 주입하고, 관심 있는 뉴런의 활성화를 관찰해서 이 뉴런이 더 활성화되는 방향으로 이미지를 수정하도록 역전파를 수행할 수 있다. 이를 여러 번 반복하면<b style=\"background:#AFA;\">(경사 상승법을 수행하며)</b> 이미지는 점차 그 뉴런을 위한 좋은 방향으로 변화함"
   ]
  },
  {
   "cell_type": "code",
   "execution_count": 31,
   "metadata": {},
   "outputs": [
    {
     "name": "stdout",
     "output_type": "stream",
     "text": [
      "INFO:tensorflow:Restoring parameters from ./model/my_model_one_at_a_time.ckpt\n"
     ]
    },
    {
     "data": {
      "image/png": "[encoded data removed]",
      "text/plain": [
       "<Figure size 432x288 with 5 Axes>"
      ]
     },
     "metadata": {
      "needs_background": "light"
     },
     "output_type": "display_data"
    }
   ],
   "source": [
    "with tf.Session() as sess:\n",
    "    save_model.restore(sess, \"./model/my_model_one_at_a_time.ckpt\")\n",
    "    W1_val = W1.eval()\n",
    "\n",
    "for i in range(5):\n",
    "    plt.subplot(1, 5, i + 1)\n",
    "    plot_image(W1_val.T[i])\n",
    "\n",
    "plt.show()"
   ]
  },
  {
   "cell_type": "markdown",
   "metadata": {},
   "source": [
    "## 적층(stacked) 오토인코더를 사용한 비지도 사전훈련\n",
    "\n",
    "레이블되어 있는 훈련 데이터가 많지 않은 복잡한 지도 학습 문제를 다루어야한다면 <b style=\"background:#AFA;\">비슷한 문제에 학습된 신경망을 찾아 하위층을 재사용</b>하는 것은 좋은 생각이다. 적층 오토인코더 자체는 한 번에 한 층씩 훈련된다. 분류기를 훈련할 때 레이블된 룬현 데이터가 많지 않으면 사전훈련된 층을 동결하는 것이 좋다.\n",
    "\n",
    "![unsupervised](images/unsupervised.png)"
   ]
  },
  {
   "cell_type": "markdown",
   "metadata": {},
   "source": [
    "## 잡음제거(denoising) 오토인코더\n",
    "\n",
    "오토인코더가 유용한 특성을 학습하도록 강제하도록 입력에 잡을을 추가하고, 노이즈가 없는 원본 입력을 복원하도록 훈련한다.\n",
    "노이즈는 입력에 가우시안(Gaussian) 노이즈를 추가하거나, 드롭아웃(dropout)처럼 랜덤하게 입력 유닛(노드)를 꺼서 발생 시킬 수 있다.\n",
    "\n",
    "![denoising](images/denoising.png)"
   ]
  },
  {
   "cell_type": "code",
   "execution_count": 153,
   "metadata": {},
   "outputs": [
    {
     "name": "stdout",
     "output_type": "stream",
     "text": [
      "epoch : 0, Train MSE : 0.04173\n",
      "epoch : 1, Train MSE : 0.04349\n",
      "epoch : 2, Train MSE : 0.04255\n",
      "epoch : 3, Train MSE : 0.04162\n",
      "epoch : 4, Train MSE : 0.04428\n",
      "epoch : 5, Train MSE : 0.04509\n",
      "epoch : 6, Train MSE : 0.04196\n",
      "epoch : 7, Train MSE : 0.04326\n",
      "epoch : 8, Train MSE : 0.04359\n",
      "epoch : 9, Train MSE : 0.04467\n"
     ]
    }
   ],
   "source": [
    "## 가우시안 노이즈 추가\n",
    "\n",
    "tf.reset_default_graph()\n",
    "\n",
    "noise_level = 1.0\n",
    "n_inputs = 28 * 28\n",
    "n_hidden1 = 300\n",
    "n_hidden2 = 150  # coding units\n",
    "n_hidden3 = n_hidden1\n",
    "n_outputs = n_inputs\n",
    "\n",
    "learning_rate = 0.01\n",
    "n_epochs = 10\n",
    "batch_size = 150\n",
    "\n",
    "X = tf.placeholder(tf.float32, shape=[None, n_inputs])\n",
    "X_noisy = X + noise_level * tf.random_normal(tf.shape(X))\n",
    "\n",
    "hidden1 = tf.layers.dense(X_noisy, n_hidden1, activation=tf.nn.elu, name=\"hidden1\")\n",
    "hidden2 = tf.layers.dense(hidden1, n_hidden2, activation=tf.nn.relu, name='hidden2')\n",
    "hidden3 = tf.layers.dense(hidden2, n_hidden3, activation=tf.nn.relu, name='hidden3')\n",
    "outputs = tf.layers.dense(hidden3, n_outputs, name='outputs')\n",
    "\n",
    "# loss \n",
    "reconstruction_loss = tf.losses.mean_squared_error(labels=X, predictions=outputs)\n",
    "# optimizer\n",
    "optimizer = tf.train.AdamOptimizer(learning_rate)\n",
    "training_op = optimizer.minimize(reconstruction_loss)\n",
    "\n",
    "save_model = tf.train.Saver()\n",
    "\n",
    "with tf.Session(config=config) as sess:\n",
    "    sess.run(tf.global_variables_initializer())\n",
    "    n_batches = len(train_x) // batch_size\n",
    "    for epoch in range(n_epochs):\n",
    "        for iteration in range(n_batches):\n",
    "            print(\"\\r{}%\".format(100 * iteration // n_batches), end=\"\")\n",
    "            sys.stdout.flush()\n",
    "            batch_x, batch_y = next(shuffle_batch(train_x, train_y, batch_size))\n",
    "            sess.run(training_op, feed_dict={X: batch_x})\n",
    "        loss_train = reconstruction_loss.eval(feed_dict={X: batch_x})\n",
    "        print('\\repoch : {}, Train MSE : {:.5f}'.format(epoch, loss_train))\n",
    "    save_model.save(sess, './model/my_model_stacked_denoising_gaussian.ckpt')"
   ]
  },
  {
   "cell_type": "code",
   "execution_count": 155,
   "metadata": {},
   "outputs": [
    {
     "name": "stdout",
     "output_type": "stream",
     "text": [
      "INFO:tensorflow:Restoring parameters from ./model/my_model_stacked_denoising_gaussian.ckpt\n"
     ]
    },
    {
     "data": {
      "image/png": "[encoded data removed]",
      "text/plain": [
       "<Figure size 720x288 with 4 Axes>"
      ]
     },
     "metadata": {
      "needs_background": "light"
     },
     "output_type": "display_data"
    }
   ],
   "source": [
    "show_reconstructed_digits(X, outputs, './model/my_model_stacked_denoising_gaussian.ckpt')"
   ]
  },
  {
   "cell_type": "code",
   "execution_count": 156,
   "metadata": {},
   "outputs": [
    {
     "name": "stdout",
     "output_type": "stream",
     "text": [
      "WARNING:tensorflow:From <ipython-input-156-4725d17b7bcd>:22: dropout (from tensorflow.python.layers.core) is deprecated and will be removed in a future version.\n",
      "Instructions for updating:\n",
      "Use keras.layers.dropout instead.\n",
      "epoch : 0, Train MSE : 0.04138\n",
      "epoch : 1, Train MSE : 0.03657\n",
      "epoch : 2, Train MSE : 0.03256\n",
      "epoch : 3, Train MSE : 0.03230\n",
      "epoch : 4, Train MSE : 0.03154\n",
      "epoch : 5, Train MSE : 0.03352\n",
      "epoch : 6, Train MSE : 0.03101\n",
      "epoch : 7, Train MSE : 0.02974\n",
      "epoch : 8, Train MSE : 0.03164\n",
      "epoch : 9, Train MSE : 0.03097\n"
     ]
    }
   ],
   "source": [
    "## 드롭아웃 사용\n",
    "\n",
    "tf.reset_default_graph()\n",
    "\n",
    "## 가우시안 노이즈 추가\n",
    "\n",
    "tf.reset_default_graph()\n",
    "\n",
    "dropout_rate = 0.3\n",
    "n_inputs = 28 * 28\n",
    "n_hidden1 = 300\n",
    "n_hidden2 = 150  # coding units\n",
    "n_hidden3 = n_hidden1\n",
    "n_outputs = n_inputs\n",
    "\n",
    "learning_rate = 0.01\n",
    "n_epochs = 10\n",
    "batch_size = 150\n",
    "\n",
    "training = tf.placeholder_with_default(False, shape=(), name=\"training\")\n",
    "X = tf.placeholder(tf.float32, shape=[None, n_inputs])\n",
    "X_dropout = tf.layers.dropout(X, dropout_rate, training=training)\n",
    "\n",
    "hidden1 = tf.layers.dense(X_dropout, n_hidden1, activation=tf.nn.elu, name=\"hidden1\")\n",
    "hidden2 = tf.layers.dense(hidden1, n_hidden2, activation=tf.nn.relu, name='hidden2')\n",
    "hidden3 = tf.layers.dense(hidden2, n_hidden3, activation=tf.nn.relu, name='hidden3')\n",
    "outputs = tf.layers.dense(hidden3, n_outputs, name='outputs')\n",
    "\n",
    "# loss \n",
    "reconstruction_loss = tf.losses.mean_squared_error(labels=X, predictions=outputs)\n",
    "# optimizer\n",
    "optimizer = tf.train.AdamOptimizer(learning_rate)\n",
    "training_op = optimizer.minimize(reconstruction_loss)\n",
    "\n",
    "save_model = tf.train.Saver()\n",
    "\n",
    "with tf.Session(config=config) as sess:\n",
    "    sess.run(tf.global_variables_initializer())\n",
    "    n_batches = len(train_x) // batch_size\n",
    "    for epoch in range(n_epochs):\n",
    "        for iteration in range(n_batches):\n",
    "            print(\"\\r{}%\".format(100 * iteration // n_batches), end=\"\")\n",
    "            sys.stdout.flush()\n",
    "            batch_x, batch_y = next(shuffle_batch(train_x, train_y, batch_size))\n",
    "            sess.run(training_op, feed_dict={X: batch_x, training:True})\n",
    "        loss_train = reconstruction_loss.eval(feed_dict={X: batch_x})\n",
    "        print('\\repoch : {}, Train MSE : {:.5f}'.format(epoch, loss_train))\n",
    "    save_model.save(sess, './model/my_model_stacked_denoising_dropout.ckpt')"
   ]
  },
  {
   "cell_type": "code",
   "execution_count": 160,
   "metadata": {},
   "outputs": [
    {
     "name": "stdout",
     "output_type": "stream",
     "text": [
      "INFO:tensorflow:Restoring parameters from ./model/my_model_stacked_denoising_dropout.ckpt\n"
     ]
    },
    {
     "data": {
      "image/png": "[encoded data removed]",
      "text/plain": [
       "<Figure size 720x288 with 4 Axes>"
      ]
     },
     "metadata": {
      "needs_background": "light"
     },
     "output_type": "display_data"
    }
   ],
   "source": [
    "show_reconstructed_digits(X, outputs, './model/my_model_stacked_denoising_dropout.ckpt')"
   ]
  },
  {
   "cell_type": "markdown",
   "metadata": {},
   "source": [
    "## 희소 오토인코더\n",
    "\n",
    "오토인코더가 좋은 특성을 추출하도록 만드는 다른 제약 방법은 희소성(sparsity)를 이용하는 것인데, 이러한 오토인코더를 Sparse Autoencoder라고 한다. 이 방법은 손실함수에 적절한 항을 추가하여 오토인코더가 코딩층(coding layer, 가운데 층)에서 활성화되는 뉴런 수를 감소시키는 것이다. 예를들어 코딩층에서 평균적으로 5% 뉴런만 활성화되도록 만들어 주게 되면, 오토인코더는 5%의 뉴런을 조합하여 입력을 재구성해야하기 때문에 유용한 특성을 표현하게 된다.\n",
    "\n",
    "이러한 Sparse-오토인코더를 만들기 위해서는 먼저 학습 단계에서 코딩층의 실제 sparse(희소) 정도를 측정해야 하는데, 전체 학습 배치(batch)에 대해 코딩층의 평균적인 활성화를 계산한다. 배치의 크기는 너무 작지 않게 설정 해준다.\n",
    "\n",
    "각 뉴런에 대한 평균 활성화 정도를 계산하여 구하고, 손실함수에 희소 손실(sparsity loss)를 추가하여 뉴런이 크게 활성화 되지 않도록 규제할 수 있다. 예를들어 한 뉴런의 평균 활성화가 0.3이고 목표 희소 정도가 0.1이라면, 이 뉴런은 덜 활성화 되도록 해야한다. 희소 손실을 구하는 간단한 방법으로는 제곱 오차 $(0.3 - 0.1)^{2}$를 추가하는 방법이 있다. 하지만, Sparse-오토인코더에서는 아래의 그래프 처럼 MSE보다 더 경사가 급한 쿨백 라이블러 발산(KL-divergense, Kullback-Leibler divergense)을 사용한다."
   ]
  },
  {
   "cell_type": "code",
   "execution_count": 164,
   "metadata": {},
   "outputs": [
    {
     "data": {
      "image/png": "[encoded data removed]",
      "text/plain": [
       "<Figure size 432x288 with 1 Axes>"
      ]
     },
     "metadata": {
      "needs_background": "light"
     },
     "output_type": "display_data"
    }
   ],
   "source": [
    "p = 0.1\n",
    "q = np.linspace(0.001, 0.999, 500)\n",
    "kl_div = p * np.log(p / q) + (1 - p) * np.log((1 - p) / (1 - q))\n",
    "mse = (p - q)**2\n",
    "plt.plot([p, p], [0, 0.3], \"k:\")\n",
    "plt.text(0.05, 0.32, \"Target\\nsparsity\", fontsize=14)\n",
    "plt.plot(q, kl_div, \"b-\", label=\"Kullback-Leibler divergense\")\n",
    "plt.plot(q, mse, \"r--\", label=\"MSE\")\n",
    "plt.legend(loc=\"upper left\")\n",
    "plt.xlabel(\"Actual sparsity\")\n",
    "plt.ylabel(\"Cost\", rotation=0)\n",
    "plt.axis([0, 1, 0, 0.95]);"
   ]
  },
  {
   "cell_type": "markdown",
   "metadata": {},
   "source": [
    "### 쿨백 라이블러 발산\n",
    "\n",
    "쿨백-라이블러 발산(Kullback-Leibler divergence, KLD)은 <b style=\"background:#AFA;\">두 확률분포의 차이를 계산</b>하는 데 사용하는 함수이다. 예를들어 딥러닝 모델을 만들 때, 학습 데이터셋의 분포 $P(x)$와 모델이 추정한 데이터의 분포 $Q(x)$ 간에 차이를 KLD를 활용해 구할 수 있다(ratsgo's blog).\n",
    "\n",
    "$$\n",
    "{ D }_{ KL }\\left( P||Q \\right) ={ E }_{ X\\sim P }\\left[ \\log { \\frac { P\\left( x \\right)  }{ Q(x) }  }  \\right] ={ E }_{ X\\sim P }\\left[ \\log { P(x) } -\\log { Q(x) }  \\right]\n",
    "$$\n",
    "Sparse-오토인코더에서는 코딩층에서 뉴런이 활성화될 목표 확률 $p$와 실제확률 $q$(학습 배치에 대한 평균 활성화) 사이의 발산을 측정하며, 식은 다음과 같다.\n",
    "\n",
    "$$\n",
    "D_{KL}\\left( p||q \\right) = p \\log{\\frac{p}{q}} + \\left( 1- p \\right) \\log{\\frac{1-p}{1-q}}\n",
    "$$\n",
    "위의 식을 이용해 코딩층의 각 뉴런에 대해 희소 손실을 구하고 이 손실을 모두 합한 뒤 희소 가중치 하이퍼파라미터를 곱하여 손실함수의 결과에 더해준다.$$\n",
    "Loss = \\text{MSE} + \\text{sparsity_weight} \\times \\text{sparsity_loss}\n",
    "$$\n",
    "\n"
   ]
  },
  {
   "cell_type": "code",
   "execution_count": 166,
   "metadata": {},
   "outputs": [],
   "source": [
    "def kl_divergence(p, q): #쿨백 라이블러 발산\n",
    "    return p * tf.log(p / q) + (1-p) * tf.log((1-p) / (1-q))"
   ]
  },
  {
   "cell_type": "code",
   "execution_count": 174,
   "metadata": {},
   "outputs": [
    {
     "name": "stdout",
     "output_type": "stream",
     "text": [
      "0 훈련 MSE: 0.11550293 \t희소 손실: 0.17020297 \t전체 손실: 0.14954352\n",
      "1 훈련 MSE: 0.060130365 \t희소 손실: 0.43359601 \t전체 손실: 0.14684957\n",
      "2 훈련 MSE: 0.052617073 \t희소 손실: 0.017094705 \t전체 손실: 0.056036014\n",
      "3 훈련 MSE: 0.049924262 \t희소 손실: 0.18441711 \t전체 손실: 0.08680768\n",
      "4 훈련 MSE: 0.047064483 \t희소 손실: 0.5488177 \t전체 손실: 0.15682802\n",
      "5 훈련 MSE: 0.04323981 \t희소 손실: 0.03149784 \t전체 손실: 0.049539376\n",
      "6 훈련 MSE: 0.038364638 \t희소 손실: 0.0071519003 \t전체 손실: 0.03979502\n",
      "7 훈련 MSE: 0.035511713 \t희소 손실: 0.032681514 \t전체 손실: 0.042048015\n",
      "8 훈련 MSE: 0.032990478 \t희소 손실: 0.09216493 \t전체 손실: 0.051423468\n",
      "9 훈련 MSE: 0.030195517 \t희소 손실: 0.03373652 \t전체 손실: 0.03694282\n",
      "10 훈련 MSE: 0.027508296 \t희소 손실: 0.123387374 \t전체 손실: 0.052185774\n",
      "11 훈련 MSE: 0.025257325 \t희소 손실: 0.02386567 \t전체 손실: 0.03003046\n",
      "12 훈련 MSE: 0.024105703 \t희소 손실: 0.036841363 \t전체 손실: 0.031473976\n",
      "13 훈련 MSE: 0.023014802 \t희소 손실: 0.12471248 \t전체 손실: 0.0479573\n",
      "14 훈련 MSE: 0.023470763 \t희소 손실: 0.55624616 \t전체 손실: 0.13472\n",
      "15 훈련 MSE: 0.020145876 \t희소 손실: 0.028324716 \t전체 손실: 0.02581082\n",
      "16 훈련 MSE: 0.02075354 \t희소 손실: 0.18955994 \t전체 손실: 0.05866553\n",
      "17 훈련 MSE: 0.018326202 \t희소 손실: 0.12144075 \t전체 손실: 0.042614356\n",
      "18 훈련 MSE: 0.017532207 \t희소 손실: 0.040596727 \t전체 손실: 0.025651552\n",
      "19 훈련 MSE: 0.01659048 \t희소 손실: 0.13246126 \t전체 손실: 0.043082733\n",
      "20 훈련 MSE: 0.015937101 \t희소 손실: 0.09903985 \t전체 손실: 0.03574507\n",
      "21 훈련 MSE: 0.01677364 \t희소 손실: 0.13362566 \t전체 손실: 0.04349877\n",
      "22 훈련 MSE: 0.015765151 \t희소 손실: 0.11761672 \t전체 손실: 0.039288495\n",
      "23 훈련 MSE: 0.015647952 \t희소 손실: 0.07022487 \t전체 손실: 0.029692926\n",
      "24 훈련 MSE: 0.014767935 \t희소 손실: 0.031180918 \t전체 손실: 0.021004118\n",
      "25 훈련 MSE: 0.014319507 \t희소 손실: 0.07818703 \t전체 손실: 0.029956914\n",
      "26 훈련 MSE: 0.017009998 \t희소 손실: 0.1193948 \t전체 손실: 0.040888958\n",
      "27 훈련 MSE: 0.015119675 \t희소 손실: 0.070770815 \t전체 손실: 0.029273838\n",
      "28 훈련 MSE: 0.014066954 \t희소 손실: 0.1950962 \t전체 손실: 0.05308619\n",
      "29 훈련 MSE: 0.014794205 \t희소 손실: 0.08303043 \t전체 손실: 0.031400293\n",
      "30 훈련 MSE: 0.014369487 \t희소 손실: 0.11997911 \t전체 손실: 0.03836531\n",
      "31 훈련 MSE: 0.0133653805 \t희소 손실: 0.14220229 \t전체 손실: 0.04180584\n",
      "32 훈련 MSE: 0.015064149 \t희소 손실: 0.13071002 \t전체 손실: 0.041206155\n",
      "33 훈련 MSE: 0.015829062 \t희소 손실: 0.26925525 \t전체 손실: 0.06968011\n",
      "34 훈련 MSE: 0.013601801 \t희소 손실: 0.18489105 \t전체 손실: 0.050580014\n",
      "35 훈련 MSE: 0.013674075 \t희소 손실: 0.10824521 \t전체 손실: 0.035323117\n",
      "36 훈련 MSE: 0.0143483635 \t희소 손실: 0.108954996 \t전체 손실: 0.03613936\n",
      "37 훈련 MSE: 0.012428665 \t희소 손실: 0.24571103 \t전체 손실: 0.06157087\n",
      "38 훈련 MSE: 0.012851373 \t희소 손실: 0.106140554 \t전체 손실: 0.034079485\n",
      "39 훈련 MSE: 0.0129939765 \t희소 손실: 0.10346301 \t전체 손실: 0.03368658\n",
      "40 훈련 MSE: 0.0126498435 \t희소 손실: 0.06872869 \t전체 손실: 0.026395582\n",
      "41 훈련 MSE: 0.012398871 \t희소 손실: 0.07428281 \t전체 손실: 0.027255433\n",
      "42 훈련 MSE: 0.01303228 \t희소 손실: 0.07286909 \t전체 손실: 0.0276061\n",
      "43 훈련 MSE: 0.011993353 \t희소 손실: 0.1005692 \t전체 손실: 0.032107193\n",
      "44 훈련 MSE: 0.012413971 \t희소 손실: 0.05523132 \t전체 손실: 0.023460235\n",
      "45 훈련 MSE: 0.012462685 \t희소 손실: 0.14132875 \t전체 손실: 0.040728435\n",
      "46 훈련 MSE: 0.012027591 \t희소 손실: 0.060859583 \t전체 손실: 0.024199508\n",
      "47 훈련 MSE: 0.012388184 \t희소 손실: 0.08988638 \t전체 손실: 0.03036546\n",
      "48 훈련 MSE: 0.012456099 \t희소 손실: 0.08141183 \t전체 손실: 0.028738465\n",
      "49 훈련 MSE: 0.012682609 \t희소 손실: 0.12798288 \t전체 손실: 0.038279187\n"
     ]
    }
   ],
   "source": [
    "tf.reset_default_graph()\n",
    "\n",
    "noise_level = 1.0\n",
    "n_inputs = 28 * 28\n",
    "n_hidden1 = 1000 # sparsity coding units\n",
    "n_outputs = n_inputs\n",
    "\n",
    "sparsity_target = 0.1  # p\n",
    "sparsity_weight = 0.2\n",
    "learning_rate = 0.01\n",
    "\n",
    "X = tf.placeholder(tf.float32, shape=[None, n_inputs])\n",
    "\n",
    "hidden1 = tf.layers.dense(X, n_hidden1, activation=tf.nn.sigmoid) # 코딩층의 활성화가 반드시 0 ~ 1 이여야 함\n",
    "outputs = tf.layers.dense(hidden1, n_outputs)\n",
    "\n",
    "hidden1_mean = tf.reduce_mean(hidden1, axis=0) # 배치 평균\n",
    "sparsity_loss = tf.reduce_sum(kl_divergence(sparsity_target, hidden1_mean))\n",
    "reconstruction_loss = tf.reduce_mean(tf.square(outputs - X)) # MSE\n",
    "loss = reconstruction_loss + sparsity_weight * sparsity_loss #뉴런의 활성을 억제\n",
    "\n",
    "optimizer = tf.train.AdamOptimizer(learning_rate)\n",
    "training_op = optimizer.minimize(loss)\n",
    "\n",
    "save_model = tf.train.Saver()\n",
    "\n",
    "n_epochs = 50\n",
    "batch_size = 1000\n",
    "\n",
    "with tf.Session() as sess:\n",
    "    sess.run(tf.global_variables_initializer())\n",
    "    n_batches = len(train_x) // batch_size\n",
    "    for epoch in range(n_epochs):\n",
    "        for iteration in range(n_batches):\n",
    "            print(\"\\r{}%\".format(100 * iteration // n_batches), end=\"\")\n",
    "            sys.stdout.flush()\n",
    "            X_batch, y_batch = next(shuffle_batch(train_x, train_y, batch_size))\n",
    "            sess.run(training_op, feed_dict={X: X_batch})\n",
    "        reconstruction_loss_val, sparsity_loss_val, loss_val = sess.run([reconstruction_loss, sparsity_loss, loss], feed_dict={X: X_batch})\n",
    "        print(\"\\r{}\".format(epoch), \"훈련 MSE:\", reconstruction_loss_val, \"\\t희소 손실:\", sparsity_loss_val, \"\\t전체 손실:\", loss_val)\n",
    "        save_model.save(sess, \"./my_model_sparse.ckpt\")"
   ]
  },
  {
   "cell_type": "code",
   "execution_count": 175,
   "metadata": {},
   "outputs": [
    {
     "name": "stdout",
     "output_type": "stream",
     "text": [
      "INFO:tensorflow:Restoring parameters from ./my_model_sparse.ckpt\n"
     ]
    },
    {
     "data": {
      "image/png": "[encoded data removed]",
      "text/plain": [
       "<Figure size 720x288 with 4 Axes>"
      ]
     },
     "metadata": {
      "needs_background": "light"
     },
     "output_type": "display_data"
    }
   ],
   "source": [
    "show_reconstructed_digits(X, outputs, \"./my_model_sparse.ckpt\")"
   ]
  },
  {
   "cell_type": "code",
   "execution_count": 183,
   "metadata": {},
   "outputs": [
    {
     "name": "stdout",
     "output_type": "stream",
     "text": [
      "0 \t전체 손실: 0.17506434\n",
      "1 \t전체 손실: 0.11967491\n",
      "2 \t전체 손실: 0.09570947\n",
      "3 \t전체 손실: 0.08378771\n",
      "4 \t전체 손실: 0.077956766\n",
      "5 \t전체 손실: 0.07496484\n",
      "6 \t전체 손실: 0.07216516\n",
      "7 \t전체 손실: 0.07072189\n",
      "8 \t전체 손실: 0.070643306\n",
      "9 \t전체 손실: 0.06968847\n",
      "10 \t전체 손실: 0.06875735\n",
      "11 \t전체 손실: 0.06734003\n",
      "12 \t전체 손실: 0.06757271\n",
      "13 \t전체 손실: 0.06761032\n",
      "14 \t전체 손실: 0.06560719\n",
      "15 \t전체 손실: 0.06667484\n",
      "16 \t전체 손실: 0.06623076\n",
      "17 \t전체 손실: 0.06534455\n",
      "18 \t전체 손실: 0.06626058\n",
      "19 \t전체 손실: 0.06575818\n",
      "20 \t전체 손실: 0.06617916\n",
      "21 \t전체 손실: 0.06419484\n",
      "22 \t전체 손실: 0.0655994\n",
      "23 \t전체 손실: 0.06578811\n",
      "24 \t전체 손실: 0.06505808\n"
     ]
    }
   ],
   "source": [
    "tf.reset_default_graph()\n",
    "\n",
    "noise_level = 1.0\n",
    "n_inputs = 28 * 28\n",
    "n_hidden1 = 1000 # sparsity coding units\n",
    "n_outputs = n_inputs\n",
    "\n",
    "sparsity_target = 0.1  # p\n",
    "sparsity_weight = 0.2\n",
    "learning_rate = 0.01\n",
    "\n",
    "X = tf.placeholder(tf.float32, shape=[None, n_inputs])\n",
    "\n",
    "### 훈련 속도를 높이기 위해 입력을 0과 1사이로 정규화, 비용함수를 MSE 대신 크로스엔트로피 사용 ##\n",
    "hidden1 = tf.layers.dense(X, n_hidden1, activation=tf.nn.sigmoid) # 코딩층의 표현은 반드시 0 ~ 1 이여야 함\n",
    "logits = tf.layers.dense(hidden1, n_outputs)\n",
    "outputs = tf.nn.sigmoid(logits)\n",
    "\n",
    "xentropy = tf.nn.sigmoid_cross_entropy_with_logits(labels=X, logits=logits)\n",
    "reconstruction_loss = tf.reduce_mean(xentropy)\n",
    "################################\n",
    "\n",
    "optimizer = tf.train.AdamOptimizer(learning_rate)\n",
    "training_op = optimizer.minimize(reconstruction_loss)\n",
    "\n",
    "save_model = tf.train.Saver()\n",
    "\n",
    "n_epochs = 25\n",
    "batch_size = 1000\n",
    "\n",
    "with tf.Session() as sess:\n",
    "    sess.run(tf.global_variables_initializer())\n",
    "    n_batches = len(train_x) // batch_size\n",
    "    for epoch in range(n_epochs):\n",
    "        for iteration in range(n_batches):\n",
    "            print(\"\\r{}%\".format(100 * iteration // n_batches), end=\"\")\n",
    "            sys.stdout.flush()\n",
    "            X_batch, y_batch = next(shuffle_batch(train_x, train_y, batch_size))\n",
    "            sess.run(training_op, feed_dict={X: X_batch})\n",
    "        loss_val = sess.run(reconstruction_loss, feed_dict={X: X_batch})\n",
    "        print(\"\\r{}\".format(epoch),\"\\t전체 손실:\", loss_val)\n",
    "        save_model.save(sess, \"./my_model_sparse_crossentropy.ckpt\")"
   ]
  },
  {
   "cell_type": "code",
   "execution_count": 184,
   "metadata": {},
   "outputs": [
    {
     "name": "stdout",
     "output_type": "stream",
     "text": [
      "INFO:tensorflow:Restoring parameters from ./my_model_sparse_crossentropy.ckpt\n"
     ]
    },
    {
     "data": {
      "image/png": "[encoded data removed]",
      "text/plain": [
       "<Figure size 720x288 with 4 Axes>"
      ]
     },
     "metadata": {
      "needs_background": "light"
     },
     "output_type": "display_data"
    }
   ],
   "source": [
    "show_reconstructed_digits(X, outputs, \"./my_model_sparse_crossentropy.ckpt\")"
   ]
  },
  {
   "cell_type": "markdown",
   "metadata": {},
   "source": [
    "## 변이형 오토인코더(Variational AutoEncoder)\n",
    "\n",
    "변이형 오토인코더의 특징\n",
    "\n",
    "<ol>\n",
    "    <li>확률적 오토인코더 : 학습이 끝난 후에도 출력이 부분적으로 우연에 의해 결정됨</li>\n",
    "    <li>생성 오토인코더 : 훈련 세트에서 샘플링된 것 같은 새로운 샘플을 생성</li>\n",
    "</ol>\n",
    "\n",
    "![vae](images/vae.png)\n",
    "\n",
    "VAE의 코딩층은 다른 오토인코더와는 다른 부분이 있는데 주어진 입력에 대해 바로 코딩을 만드는 것이 아니라, 인코더(encoder)는 평균 코딩 $\\mu$와 표준편차 코딩 $\\sigma$ 을 만든다. 실제 코딩은 평균이 $\\mu$이고 표준편차가 $\\sigma$인 가우시안 분포(gaussian distribution)에서 랜덤하게 샘플링되며, 이렇게 샘플링된 코딩을 디코더(decoder)가 원본 입력으로 재구성하게 된다.\n",
    "\n",
    "VAE는 마치 가우시안 분포에서 샘플링된 것처럼 보이는 코딩을 만드는 경향이 있는데, 학습하는 동안 손실함수가 코딩(coding)을 가우시안 샘플들의 집합처럼 보이는 형태를 가진 코딩 공간(coding space) 또는 잠재 변수 공간(latent space)로 이동시키기 때문이다.\n",
    "\n",
    "이러한 이유로 VAE는 학습이 끝난 후에 새로운 샘플을 가우시안 분포로 부터 랜덤한 코딩을 샘플링해 디코딩해서 생성할 수 있다.\n",
    "\n",
    "### 변이형 오토인코더의 비용함수\n",
    "\n",
    "변이형 오토인코더의 비용함수의 두 가지 부분\n",
    "\n",
    "![vae_loss](images/vae_loss.png)\n",
    "\n",
    "<ol>\n",
    "    <li>오토인코더가 입력을 재생산하도록 만드는 일반적인 재구성 손실</li>\n",
    "    <li>간단한 가우시안 분포에서 샘플된 것 같은 코딩을 가지도록 오토인코더를 강제하는 <b>잠재 변수 손실(latent loss)</b></li>\n",
    "    <b style=\"background:#AFA;font-size:1.2em\">자주 사용하는 변형은 인코더가 $\\sigma$ 대신 $\\gamma = log(\\sigma)^2$를 출력하도록 훈련시키는 것</b>\n",
    "    <br>\n",
    "    <b style=\"background:#AFA;font-size:1.2em\">$\\sigma$는 $\\sigma$ = exp( $\\gamma \\over 2$ )로 쉽게 계산 가능하기 때문이다.</b>\n",
    "</ol>"
   ]
  },
  {
   "cell_type": "markdown",
   "metadata": {},
   "source": [
    "### 인코더가 $\\sigma$ 출력하도록 함"
   ]
  },
  {
   "cell_type": "code",
   "execution_count": 211,
   "metadata": {},
   "outputs": [
    {
     "name": "stdout",
     "output_type": "stream",
     "text": [
      "0 훈련 전체 손실: 36532.39 \t재구성 손실: 26799.781 \t잠재 손실: 9732.611\n",
      "1 훈련 전체 손실: 28542.613 \t재구성 손실: 23352.414 \t잠재 손실: 5190.198\n",
      "2 훈련 전체 손실: 25870.748 \t재구성 손실: 20706.83 \t잠재 손실: 5163.9175\n",
      "3 훈련 전체 손실: 26917.406 \t재구성 손실: 20872.48 \t잠재 손실: 6044.927\n",
      "4 훈련 전체 손실: 28866.285 \t재구성 손실: 21444.809 \t잠재 손실: 7421.4766\n",
      "5 훈련 전체 손실: 22762.3 \t재구성 손실: 18747.902 \t잠재 손실: 4014.3984\n",
      "6 훈련 전체 손실: 25264.63 \t재구성 손실: 17457.602 \t잠재 손실: 7807.0293\n",
      "7 훈련 전체 손실: 24868.217 \t재구성 손실: 19805.701 \t잠재 손실: 5062.515\n",
      "8 훈련 전체 손실: 20013.074 \t재구성 손실: 16561.719 \t잠재 손실: 3451.3552\n",
      "9 훈련 전체 손실: 18232.904 \t재구성 손실: 15213.623 \t잠재 손실: 3019.281\n",
      "10 훈련 전체 손실: 18842.219 \t재구성 손실: 15277.384 \t잠재 손실: 3564.8345\n",
      "11 훈련 전체 손실: 16777.701 \t재구성 손실: 13786.045 \t잠재 손실: 2991.6567\n",
      "12 훈련 전체 손실: 16551.713 \t재구성 손실: 13353.643 \t잠재 손실: 3198.0703\n",
      "13 훈련 전체 손실: 16420.754 \t재구성 손실: 13327.929 \t잠재 손실: 3092.8247\n",
      "14 훈련 전체 손실: 16172.204 \t재구성 손실: 12863.626 \t잠재 손실: 3308.5781\n",
      "15 훈련 전체 손실: 15847.65 \t재구성 손실: 12610.598 \t잠재 손실: 3237.0532\n",
      "16 훈련 전체 손실: 16538.25 \t재구성 손실: 13303.412 \t잠재 손실: 3234.8384\n",
      "17 훈련 전체 손실: 16545.56 \t재구성 손실: 13186.955 \t잠재 손실: 3358.605\n",
      "18 훈련 전체 손실: 16067.897 \t재구성 손실: 12793.551 \t잠재 손실: 3274.3464\n",
      "19 훈련 전체 손실: 16196.916 \t재구성 손실: 12865.651 \t잠재 손실: 3331.2642\n",
      "20 훈련 전체 손실: 16520.092 \t재구성 손실: 13022.423 \t잠재 손실: 3497.6697\n",
      "21 훈련 전체 손실: 33918.664 \t재구성 손실: 24119.645 \t잠재 손실: 9799.0205\n",
      "22 훈련 전체 손실: 28804.65 \t재구성 손실: 22633.37 \t잠재 손실: 6171.2817\n",
      "23 훈련 전체 손실: 25073.752 \t재구성 손실: 21334.748 \t잠재 손실: 3739.0037\n",
      "24 훈련 전체 손실: 24154.2 \t재구성 손실: 19867.582 \t잠재 손실: 4286.618\n"
     ]
    }
   ],
   "source": [
    "tf.reset_default_graph()\n",
    "\n",
    "from functools import partial\n",
    "\n",
    "n_inputs = 28 * 28\n",
    "n_hidden1 = 500\n",
    "n_hidden2 = 500\n",
    "n_hidden3 = 20  # 코딩 유닛\n",
    "n_hidden4 = n_hidden2\n",
    "n_hidden5 = n_hidden1\n",
    "n_outputs = n_inputs\n",
    "learning_rate = 0.001\n",
    "\n",
    "initializer = tf.variance_scaling_initializer()\n",
    "\n",
    "my_dense_layer = partial(\n",
    "    tf.layers.dense,\n",
    "    activation=tf.nn.elu,\n",
    "    kernel_initializer=initializer)\n",
    "\n",
    "X = tf.placeholder(tf.float32, [None, n_inputs])\n",
    "hidden1 = my_dense_layer(X, n_hidden1)\n",
    "hidden2 = my_dense_layer(hidden1, n_hidden2)\n",
    "hidden3_mean = my_dense_layer(hidden2, n_hidden3, activation=None)\n",
    "hidden3_sigma = my_dense_layer(hidden2, n_hidden3, activation=None)\n",
    "noise = tf.random_normal(tf.shape(hidden3_sigma), dtype=tf.float32)\n",
    "hidden3 = hidden3_mean + hidden3_sigma * noise\n",
    "hidden4 = my_dense_layer(hidden3, n_hidden4)\n",
    "hidden5 = my_dense_layer(hidden4, n_hidden5)\n",
    "logits = my_dense_layer(hidden5, n_outputs, activation=None)\n",
    "outputs = tf.sigmoid(logits)\n",
    "\n",
    "xentropy = tf.nn.sigmoid_cross_entropy_with_logits(labels=X, logits=logits)\n",
    "reconstruction_loss = tf.reduce_sum(xentropy)\n",
    "\n",
    "eps = 1e-10 # NaN을 반환하는 log(0)을 피하기 위한 안전항\n",
    "\n",
    "## 인코더가 시그마를 출력하게 함 ##\n",
    "latent_loss = 0.5 * tf.reduce_sum(\n",
    "    tf.square(hidden3_sigma) + tf.square(hidden3_mean)\n",
    "    - 1 - tf.log(eps + tf.square(hidden3_sigma)))\n",
    "loss = reconstruction_loss + latent_loss\n",
    "\n",
    "optimizer = tf.train.AdamOptimizer(learning_rate=learning_rate)\n",
    "training_op = optimizer.minimize(loss)\n",
    "\n",
    "init = tf.global_variables_initializer()\n",
    "save_model = tf.train.Saver()\n",
    "\n",
    "n_epochs = 25\n",
    "batch_size = 150\n",
    "\n",
    "with tf.Session() as sess:\n",
    "    init.run()\n",
    "    for epoch in range(n_epochs):\n",
    "        n_batches = len(train_x) // batch_size\n",
    "        for iteration in range(n_batches):\n",
    "            print(\"\\r{}%\".format(100 * iteration // n_batches), end=\"\")\n",
    "            sys.stdout.flush()\n",
    "            X_batch, y_batch = next(shuffle_batch(train_x, train_y, batch_size))\n",
    "            sess.run(training_op, feed_dict={X: X_batch})\n",
    "        loss_val, reconstruction_loss_val, latent_loss_val = sess.run([loss, reconstruction_loss, latent_loss], feed_dict={X: X_batch})\n",
    "        print(\"\\r{}\".format(epoch), \"훈련 전체 손실:\", loss_val, \"\\t재구성 손실:\", reconstruction_loss_val, \"\\t잠재 손실:\", latent_loss_val)\n",
    "        save_model.save(sess, \"./my_model_variational.ckpt\")"
   ]
  },
  {
   "cell_type": "code",
   "execution_count": 190,
   "metadata": {},
   "outputs": [
    {
     "name": "stdout",
     "output_type": "stream",
     "text": [
      "INFO:tensorflow:Restoring parameters from ./my_model_variational.ckpt\n"
     ]
    },
    {
     "data": {
      "image/png": "[encoded data removed]",
      "text/plain": [
       "<Figure size 720x288 with 4 Axes>"
      ]
     },
     "metadata": {
      "needs_background": "light"
     },
     "output_type": "display_data"
    }
   ],
   "source": [
    "show_reconstructed_digits(X, outputs, \"./my_model_variational.ckpt\")"
   ]
  },
  {
   "cell_type": "markdown",
   "metadata": {},
   "source": [
    "### 인코더가 $\\gamma = log(\\sigma)^2$를 출력하도록 함"
   ]
  },
  {
   "cell_type": "code",
   "execution_count": 215,
   "metadata": {},
   "outputs": [
    {
     "name": "stdout",
     "output_type": "stream",
     "text": [
      "0 훈련 전체 손실: 18118.25 \t재구성 손실: 14426.1875 \t잠재 손실: 3692.0615\n",
      "1 훈련 전체 손실: 16313.805 \t재구성 손실: 12638.117 \t잠재 손실: 3675.6875\n",
      "2 훈련 전체 손실: 16469.965 \t재구성 손실: 12786.399 \t잠재 손실: 3683.5664\n",
      "3 훈련 전체 손실: 15612.978 \t재구성 손실: 11872.88 \t잠재 손실: 3740.0974\n",
      "4 훈련 전체 손실: 15467.398 \t재구성 손실: 11698.818 \t잠재 손실: 3768.5803\n",
      "5 훈련 전체 손실: 16411.186 \t재구성 손실: 12592.072 \t잠재 손실: 3819.1138\n",
      "6 훈련 전체 손실: 16039.287 \t재구성 손실: 12200.082 \t잠재 손실: 3839.2048\n",
      "7 훈련 전체 손실: 15809.843 \t재구성 손실: 12050.366 \t잠재 손실: 3759.4766\n",
      "8 훈련 전체 손실: 15756.069 \t재구성 손실: 11859.123 \t잠재 손실: 3896.9463\n",
      "9 훈련 전체 손실: 15592.141 \t재구성 손실: 11778.2295 \t잠재 손실: 3813.9114\n",
      "10 훈련 전체 손실: 15292.208 \t재구성 손실: 11551.424 \t잠재 손실: 3740.7844\n",
      "11 훈련 전체 손실: 15231.672 \t재구성 손실: 11452.541 \t잠재 손실: 3779.1313\n",
      "12 훈련 전체 손실: 15420.098 \t재구성 손실: 11648.584 \t잠재 손실: 3771.5137\n",
      "13 훈련 전체 손실: 15312.479 \t재구성 손실: 11480.569 \t잠재 손실: 3831.9094\n",
      "14 훈련 전체 손실: 14692.844 \t재구성 손실: 11031.753 \t잠재 손실: 3661.0908\n",
      "15 훈련 전체 손실: 15147.089 \t재구성 손실: 11437.846 \t잠재 손실: 3709.2434\n",
      "16 훈련 전체 손실: 15112.918 \t재구성 손실: 11457.706 \t잠재 손실: 3655.2122\n",
      "17 훈련 전체 손실: 15473.997 \t재구성 손실: 11637.84 \t잠재 손실: 3836.1572\n",
      "18 훈련 전체 손실: 15268.766 \t재구성 손실: 11537.486 \t잠재 손실: 3731.2795\n",
      "19 훈련 전체 손실: 14781.125 \t재구성 손실: 11075.66 \t잠재 손실: 3705.4653\n",
      "20 훈련 전체 손실: 15107.267 \t재구성 손실: 11444.998 \t잠재 손실: 3662.2686\n",
      "21 훈련 전체 손실: 14948.732 \t재구성 손실: 11224.958 \t잠재 손실: 3723.775\n",
      "22 훈련 전체 손실: 14511.34 \t재구성 손실: 10911.954 \t잠재 손실: 3599.3862\n",
      "23 훈련 전체 손실: 15113.099 \t재구성 손실: 11409.514 \t잠재 손실: 3703.585\n",
      "24 훈련 전체 손실: 14803.953 \t재구성 손실: 11102.8 \t잠재 손실: 3701.1533\n"
     ]
    }
   ],
   "source": [
    "tf.reset_default_graph()\n",
    "\n",
    "from functools import partial\n",
    "\n",
    "n_inputs = 28 * 28\n",
    "n_hidden1 = 500\n",
    "n_hidden2 = 500\n",
    "n_hidden3 = 20  # 코딩 유닛\n",
    "n_hidden4 = n_hidden2\n",
    "n_hidden5 = n_hidden1\n",
    "n_outputs = n_inputs\n",
    "learning_rate = 0.001\n",
    "\n",
    "initializer = tf.variance_scaling_initializer()\n",
    "my_dense_layer = partial(\n",
    "    tf.layers.dense,\n",
    "    activation=tf.nn.elu,\n",
    "    kernel_initializer=initializer)\n",
    "\n",
    "X = tf.placeholder(tf.float32, [None, n_inputs])\n",
    "hidden1 = my_dense_layer(X, n_hidden1)\n",
    "hidden2 = my_dense_layer(hidden1, n_hidden2)\n",
    "hidden3_mean = my_dense_layer(hidden2, n_hidden3, activation=None)\n",
    "hidden3_gamma = my_dense_layer(hidden2, n_hidden3, activation=None)\n",
    "noise = tf.random_normal(tf.shape(hidden3_gamma), dtype=tf.float32)\n",
    "hidden3 = hidden3_mean + tf.exp(0.5 * hidden3_gamma) * noise\n",
    "hidden4 = my_dense_layer(hidden3, n_hidden4)\n",
    "hidden5 = my_dense_layer(hidden4, n_hidden5)\n",
    "logits = my_dense_layer(hidden5, n_outputs, activation=None)\n",
    "outputs = tf.sigmoid(logits)\n",
    "\n",
    "xentropy = tf.nn.sigmoid_cross_entropy_with_logits(labels=X, logits=logits)\n",
    "reconstruction_loss = tf.reduce_sum(xentropy)\n",
    "## 인코더가 log(시그마^2)를 출력하도록 함, 더 간단함 ##\n",
    "latent_loss = 0.5 * tf.reduce_sum(\n",
    "    tf.exp(hidden3_gamma) + tf.square(hidden3_mean) - 1 - hidden3_gamma)\n",
    "loss = reconstruction_loss + latent_loss\n",
    "\n",
    "optimizer = tf.train.AdamOptimizer(learning_rate=learning_rate)\n",
    "training_op = optimizer.minimize(loss)\n",
    "\n",
    "init = tf.global_variables_initializer()\n",
    "save_model = tf.train.Saver()\n",
    "\n",
    "n_epochs = 25\n",
    "batch_size = 150\n",
    "\n",
    "with tf.Session() as sess:\n",
    "    init.run()\n",
    "    for epoch in range(n_epochs):\n",
    "        n_batches = len(train_x) // batch_size\n",
    "        for iteration in range(n_batches):\n",
    "            print(\"\\r{}%\".format(100 * iteration // n_batches), end=\"\")\n",
    "            sys.stdout.flush()\n",
    "            X_batch, y_batch = next(shuffle_batch(train_x, train_y, batch_size))\n",
    "            sess.run(training_op, feed_dict={X: X_batch})\n",
    "        loss_val, reconstruction_loss_val, latent_loss_val = sess.run([loss, reconstruction_loss, latent_loss], feed_dict={X: X_batch})\n",
    "        print(\"\\r{}\".format(epoch), \"훈련 전체 손실:\", loss_val, \"\\t재구성 손실:\", reconstruction_loss_val, \"\\t잠재 손실:\", latent_loss_val)\n",
    "        save_model.save(sess, \"./my_model_variational_simple.ckpt\")"
   ]
  },
  {
   "cell_type": "code",
   "execution_count": 193,
   "metadata": {},
   "outputs": [
    {
     "name": "stdout",
     "output_type": "stream",
     "text": [
      "INFO:tensorflow:Restoring parameters from ./my_model_variational_simple.ckpt\n"
     ]
    },
    {
     "data": {
      "image/png": "[encoded data removed]",
      "text/plain": [
       "<Figure size 720x288 with 4 Axes>"
      ]
     },
     "metadata": {
      "needs_background": "light"
     },
     "output_type": "display_data"
    }
   ],
   "source": [
    "show_reconstructed_digits(X, outputs, \"./my_model_variational_simple.ckpt\")"
   ]
  },
  {
   "cell_type": "markdown",
   "metadata": {},
   "source": [
    "## 숫자이미지 생성\n",
    "\n",
    "위의 변이형 오토인코더를 훈련시켜 랜덤한 이미지를 생성해 보겠습니다:D"
   ]
  },
  {
   "cell_type": "code",
   "execution_count": 212,
   "metadata": {},
   "outputs": [
    {
     "name": "stdout",
     "output_type": "stream",
     "text": [
      "INFO:tensorflow:Restoring parameters from ./my_model_variational.ckpt\n",
      "0 훈련 전체 손실: 23164.227 \t재구성 손실: 18820.645 \t잠재 손실: 4343.583\n",
      "1 훈련 전체 손실: 26652.568 \t재구성 손실: 18711.777 \t잠재 손실: 7940.7905\n",
      "2 훈련 전체 손실: 25596.63 \t재구성 손실: 20139.777 \t잠재 손실: 5456.853\n",
      "3 훈련 전체 손실: 30848.75 \t재구성 손실: 21959.799 \t잠재 손실: 8888.95\n",
      "4 훈련 전체 손실: 25120.604 \t재구성 손실: 19364.45 \t잠재 손실: 5756.154\n",
      "5 훈련 전체 손실: 22280.941 \t재구성 손실: 18530.648 \t잠재 손실: 3750.2937\n",
      "6 훈련 전체 손실: 19837.207 \t재구성 손실: 16419.73 \t잠재 손실: 3417.4773\n",
      "7 훈련 전체 손실: 20401.623 \t재구성 손실: 16936.262 \t잠재 손실: 3465.3618\n",
      "8 훈련 전체 손실: 19247.139 \t재구성 손실: 15585.359 \t잠재 손실: 3661.7788\n",
      "9 훈련 전체 손실: 17662.012 \t재구성 손실: 14470.744 \t잠재 손실: 3191.2676\n",
      "10 훈련 전체 손실: 18370.38 \t재구성 손실: 14841.031 \t잠재 손실: 3529.3494\n",
      "11 훈련 전체 손실: 17137.678 \t재구성 손실: 13892.617 \t잠재 손실: 3245.061\n",
      "12 훈련 전체 손실: 16322.489 \t재구성 손실: 13004.516 \t잠재 손실: 3317.9734\n",
      "13 훈련 전체 손실: 15527.451 \t재구성 손실: 12350.321 \t잠재 손실: 3177.1296\n",
      "14 훈련 전체 손실: 16105.9 \t재구성 손실: 12807.801 \t잠재 손실: 3298.0994\n",
      "15 훈련 전체 손실: 14959.322 \t재구성 손실: 11735.514 \t잠재 손실: 3223.809\n",
      "16 훈련 전체 손실: 15827.943 \t재구성 손실: 12422.971 \t잠재 손실: 3404.9727\n",
      "17 훈련 전체 손실: 15322.291 \t재구성 손실: 11938.598 \t잠재 손실: 3383.6938\n",
      "18 훈련 전체 손실: 15765.155 \t재구성 손실: 12509.578 \t잠재 손실: 3255.5771\n",
      "19 훈련 전체 손실: 15970.293 \t재구성 손실: 12444.324 \t잠재 손실: 3525.9683\n",
      "20 훈련 전체 손실: 15176.383 \t재구성 손실: 11766.712 \t잠재 손실: 3409.6711\n",
      "21 훈련 전체 손실: 15772.348 \t재구성 손실: 12189.752 \t잠재 손실: 3582.5952\n",
      "22 훈련 전체 손실: 23531.348 \t재구성 손실: 18271.025 \t잠재 손실: 5260.322\n",
      "23 훈련 전체 손실: 33996.996 \t재구성 손실: 22171.367 \t잠재 손실: 11825.629\n",
      "24 훈련 전체 손실: 35562.92 \t재구성 손실: 22621.809 \t잠재 손실: 12941.111\n"
     ]
    }
   ],
   "source": [
    "import numpy as np\n",
    "\n",
    "n_digits = 60\n",
    "n_epochs = 25\n",
    "batch_size = 150\n",
    "\n",
    "save_model = tf.train.Saver()\n",
    "\n",
    "with tf.Session() as sess:\n",
    "    sess.run(tf.global_variables_initializer())\n",
    "    save_model.restore(sess, \"./my_model_variational.ckpt\")\n",
    "    for epoch in range(n_epochs):\n",
    "        n_batches = len(train_x) // batch_size\n",
    "        for iteration in range(n_batches):\n",
    "            print(\"\\r{}%\".format(100 * iteration // n_batches), end=\"\") # not shown in the book\n",
    "            sys.stdout.flush()                                          # not shown\n",
    "            X_batch, y_batch = next(shuffle_batch(train_x, train_y, batch_size))\n",
    "            sess.run(training_op, feed_dict={X: X_batch})\n",
    "        loss_val, reconstruction_loss_val, latent_loss_val = sess.run([loss, reconstruction_loss, latent_loss], feed_dict={X: X_batch}) # not shown\n",
    "        print(\"\\r{}\".format(epoch), \"훈련 전체 손실:\", loss_val, \"\\t재구성 손실:\", reconstruction_loss_val, \"\\t잠재 손실:\", latent_loss_val)  # not shown\n",
    "    \n",
    "    codings_rnd = np.random.normal(size=[n_digits, n_hidden3])\n",
    "    outputs_val = outputs.eval(feed_dict={hidden3: codings_rnd})"
   ]
  },
  {
   "cell_type": "code",
   "execution_count": 213,
   "metadata": {},
   "outputs": [
    {
     "data": {
      "image/png": "[encoded data removed]",
      "text/plain": [
       "<Figure size 576x3600 with 60 Axes>"
      ]
     },
     "metadata": {
      "needs_background": "light"
     },
     "output_type": "display_data"
    }
   ],
   "source": [
    "#생성된 이미지\n",
    "plt.figure(figsize=(8,50)) # 책에는 없음\n",
    "\n",
    "for iteration in range(n_digits):\n",
    "    plt.subplot(n_digits, 10, iteration + 1)\n",
    "    plot_image(outputs_val[iteration])"
   ]
  },
  {
   "cell_type": "code",
   "execution_count": 216,
   "metadata": {},
   "outputs": [
    {
     "name": "stdout",
     "output_type": "stream",
     "text": [
      "INFO:tensorflow:Restoring parameters from ./my_model_variational_simple.ckpt\n",
      "0 훈련 전체 손실: 15214.125 \t재구성 손실: 11402.425 \t잠재 손실: 3811.7\n",
      "1 훈련 전체 손실: 15269.041 \t재구성 손실: 11550.205 \t잠재 손실: 3718.836\n",
      "2 훈련 전체 손실: 14861.053 \t재구성 손실: 11218.875 \t잠재 손실: 3642.1777\n",
      "3 훈련 전체 손실: 15140.234 \t재구성 손실: 11410.877 \t잠재 손실: 3729.3577\n",
      "4 훈련 전체 손실: 14704.644 \t재구성 손실: 11024.699 \t잠재 손실: 3679.9446\n",
      "5 훈련 전체 손실: 15094.977 \t재구성 손실: 11342.748 \t잠재 손실: 3752.229\n",
      "6 훈련 전체 손실: 15069.522 \t재구성 손실: 11299.963 \t잠재 손실: 3769.5598\n",
      "7 훈련 전체 손실: 15187.446 \t재구성 손실: 11483.979 \t잠재 손실: 3703.4678\n",
      "8 훈련 전체 손실: 15064.451 \t재구성 손실: 11296.734 \t잠재 손실: 3767.717\n",
      "9 훈련 전체 손실: 14052.042 \t재구성 손실: 10510.681 \t잠재 손실: 3541.3613\n",
      "10 훈련 전체 손실: 14869.812 \t재구성 손실: 11216.928 \t잠재 손실: 3652.8838\n",
      "11 훈련 전체 손실: 14667.682 \t재구성 손실: 11065.771 \t잠재 손실: 3601.9106\n",
      "12 훈련 전체 손실: 14785.186 \t재구성 손실: 11125.756 \t잠재 손실: 3659.4302\n",
      "13 훈련 전체 손실: 14799.955 \t재구성 손실: 11125.484 \t잠재 손실: 3674.4705\n",
      "14 훈련 전체 손실: 15045.808 \t재구성 손실: 11282.797 \t잠재 손실: 3763.0107\n",
      "15 훈련 전체 손실: 14918.729 \t재구성 손실: 11142.982 \t잠재 손실: 3775.7456\n",
      "16 훈련 전체 손실: 14595.643 \t재구성 손실: 10941.242 \t잠재 손실: 3654.4\n",
      "17 훈련 전체 손실: 14963.738 \t재구성 손실: 11242.128 \t잠재 손실: 3721.6106\n",
      "18 훈련 전체 손실: 14824.9375 \t재구성 손실: 11199.377 \t잠재 손실: 3625.56\n",
      "19 훈련 전체 손실: 14388.594 \t재구성 손실: 10724.295 \t잠재 손실: 3664.2983\n",
      "20 훈련 전체 손실: 14852.547 \t재구성 손실: 11144.07 \t잠재 손실: 3708.4766\n",
      "21 훈련 전체 손실: 14943.473 \t재구성 손실: 11251.845 \t잠재 손실: 3691.6274\n",
      "22 훈련 전체 손실: 14139.574 \t재구성 손실: 10532.518 \t잠재 손실: 3607.0562\n",
      "23 훈련 전체 손실: 14225.25 \t재구성 손실: 10649.408 \t잠재 손실: 3575.8418\n",
      "24 훈련 전체 손실: 14101.89 \t재구성 손실: 10562.029 \t잠재 손실: 3539.8606\n"
     ]
    }
   ],
   "source": [
    "import numpy as np\n",
    "\n",
    "## 잠재손실함수 간소화 버전 ##\n",
    "\n",
    "n_digits = 60\n",
    "n_epochs = 25\n",
    "batch_size = 150\n",
    "\n",
    "save_model = tf.train.Saver()\n",
    "\n",
    "with tf.Session() as sess:\n",
    "    sess.run(tf.global_variables_initializer())\n",
    "    save_model.restore(sess, \"./my_model_variational_simple.ckpt\")\n",
    "    for epoch in range(n_epochs):\n",
    "        n_batches = len(train_x) // batch_size\n",
    "        for iteration in range(n_batches):\n",
    "            print(\"\\r{}%\".format(100 * iteration // n_batches), end=\"\") # not shown in the book\n",
    "            sys.stdout.flush()                                          # not shown\n",
    "            X_batch, y_batch = next(shuffle_batch(train_x, train_y, batch_size))\n",
    "            sess.run(training_op, feed_dict={X: X_batch})\n",
    "        loss_val, reconstruction_loss_val, latent_loss_val = sess.run([loss, reconstruction_loss, latent_loss], feed_dict={X: X_batch}) # not shown\n",
    "        print(\"\\r{}\".format(epoch), \"훈련 전체 손실:\", loss_val, \"\\t재구성 손실:\", reconstruction_loss_val, \"\\t잠재 손실:\", latent_loss_val)  # not shown\n",
    "    \n",
    "    codings_rnd = np.random.normal(size=[n_digits, n_hidden3])\n",
    "    outputs_val = outputs.eval(feed_dict={hidden3: codings_rnd})"
   ]
  },
  {
   "cell_type": "code",
   "execution_count": 217,
   "metadata": {},
   "outputs": [
    {
     "data": {
      "image/png": "[encoded data removed]",
      "text/plain": [
       "<Figure size 576x3600 with 60 Axes>"
      ]
     },
     "metadata": {
      "needs_background": "light"
     },
     "output_type": "display_data"
    }
   ],
   "source": [
    "#생성된 이미지\n",
    "plt.figure(figsize=(8,50)) # 책에는 없음\n",
    "\n",
    "for iteration in range(n_digits):\n",
    "    plt.subplot(n_digits, 10, iteration + 1)\n",
    "    plot_image(outputs_val[iteration])"
   ]
  },
  {
   "cell_type": "code",
   "execution_count": null,
   "metadata": {},
   "outputs": [],
   "source": []
  }
 ],
 "metadata": {
  "kernelspec": {
   "display_name": "handsonml",
   "language": "python",
   "name": "handsonml"
  },
  "language_info": {
   "codemirror_mode": {
    "name": "ipython",
    "version": 3
   },
   "file_extension": ".py",
   "mimetype": "text/x-python",
   "name": "python",
   "nbconvert_exporter": "python",
   "pygments_lexer": "ipython3",
   "version": "3.7.9"
  }
 },
 "nbformat": 4,
 "nbformat_minor": 4
}
