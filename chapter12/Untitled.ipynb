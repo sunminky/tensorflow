{
 "cells": [
  {
   "cell_type": "code",
   "execution_count": 1,
   "metadata": {},
   "outputs": [],
   "source": [
    "## 12 다중머신과 장치를 위한 분산 텐서플로 ##\n",
    "import tensorflow as tf"
   ]
  },
  {
   "cell_type": "code",
   "execution_count": 2,
   "metadata": {},
   "outputs": [
    {
     "name": "stdout",
     "output_type": "stream",
     "text": [
      "Tue Nov 24 20:04:14 2020       \n",
      "+-----------------------------------------------------------------------------+\n",
      "| NVIDIA-SMI 451.67       Driver Version: 451.67       CUDA Version: 11.0     |\n",
      "|-------------------------------+----------------------+----------------------+\n",
      "| GPU  Name            TCC/WDDM | Bus-Id        Disp.A | Volatile Uncorr. ECC |\n",
      "| Fan  Temp  Perf  Pwr:Usage/Cap|         Memory-Usage | GPU-Util  Compute M. |\n",
      "|===============================+======================+======================|\n",
      "|   0  GeForce GTX 106... WDDM  | 00000000:06:00.0  On |                  N/A |\n",
      "|  0%   29C    P5    14W / 120W |    514MiB /  3072MiB |      9%      Default |\n",
      "+-------------------------------+----------------------+----------------------+\n",
      "                                                                               \n",
      "+-----------------------------------------------------------------------------+\n",
      "| Processes:                                                                  |\n",
      "|  GPU   GI   CI        PID   Type   Process name                  GPU Memory |\n",
      "|        ID   ID                                                   Usage      |\n",
      "|=============================================================================|\n",
      "|    0   N/A  N/A      1348    C+G   Insufficient Permissions        N/A      |\n",
      "|    0   N/A  N/A      5660    C+G   C:\\Windows\\explorer.exe         N/A      |\n",
      "|    0   N/A  N/A      8240    C+G   ...artMenuExperienceHost.exe    N/A      |\n",
      "|    0   N/A  N/A      8916    C+G   ...5n1h2txyewy\\SearchApp.exe    N/A      |\n",
      "|    0   N/A  N/A      9268    C+G   ...ekyb3d8bbwe\\YourPhone.exe    N/A      |\n",
      "|    0   N/A  N/A     11296    C+G   ...3.0.8.0\\GoogleDriveFS.exe    N/A      |\n",
      "|    0   N/A  N/A     12080    C+G   ...llpaper\\pushwallpaper.exe    N/A      |\n",
      "|    0   N/A  N/A     12104    C+G   ...8wekyb3d8bbwe\\Cortana.exe    N/A      |\n",
      "|    0   N/A  N/A     13756    C+G   ...me\\Application\\chrome.exe    N/A      |\n",
      "|    0   N/A  N/A     14204    C+G   ...nputApp\\TextInputHost.exe    N/A      |\n",
      "+-----------------------------------------------------------------------------+\n"
     ]
    }
   ],
   "source": [
    "!nvidia-smi"
   ]
  },
  {
   "cell_type": "code",
   "execution_count": 4,
   "metadata": {},
   "outputs": [
    {
     "data": {
      "text/plain": [
       "'주의할 점은, 이 옵션은 메모리의 증식만 가능하다는 것. 연산이 끝나고 메모리가 필요없는 상황이라고 해서 할당된 메모리를 반납하지 않는다. \\n\\nTensorflow 측에서는 그럴 경우 더 심한 메모리 파편화를 일으킬 수도 있다고 하니 판단은 독자의 몫.'"
      ]
     },
     "execution_count": 4,
     "metadata": {},
     "output_type": "execute_result"
    }
   ],
   "source": [
    "## GPU 메모리 관리 ##\n",
    "#1번 방법\n",
    "config = tf.ConfigProto()\n",
    "config.gpu_options.allow_growth = True #메모리 수요에 따라 할당\n",
    "\n",
    "'''주의할 점은, 이 옵션은 메모리의 증식만 가능하다는 것. 연산이 끝나고 메모리가 필요없는 상황이라고 해서 할당된 메모리를 반납하지 않는다. \n",
    "\n",
    "Tensorflow 측에서는 그럴 경우 더 심한 메모리 파편화를 일으킬 수도 있다고 하니 판단은 독자의 몫.'''"
   ]
  },
  {
   "cell_type": "code",
   "execution_count": null,
   "metadata": {},
   "outputs": [],
   "source": [
    "## GPU 메모리 관리 ##\n",
    "#2번 방법\n",
    "config = tf.ConfigProto()\n",
    "config.gpu_options.per_process_gpu_memory_fraction = 0.3 #메모리 할당 비율 설정\n",
    "#config.gpu_options.allow_growth = True #메모리 수요에 따라 할당, 두개 같이 사용 가능(추천하지는 않음)"
   ]
  },
  {
   "cell_type": "code",
   "execution_count": null,
   "metadata": {},
   "outputs": [],
   "source": [
    "config.log_device_placement = True #배치자가 노드를 배치할 때마다 메세지 기록"
   ]
  },
  {
   "cell_type": "code",
   "execution_count": 4,
   "metadata": {},
   "outputs": [
    {
     "name": "stdout",
     "output_type": "stream",
     "text": [
      "Device mapping:\n",
      "/job:localhost/replica:0/task:0/device:GPU:0 -> device: 0, name: GeForce GTX 1060 3GB, pci bus id: 0000:06:00.0, compute capability: 6.1\n",
      "\n",
      "12.0\n"
     ]
    }
   ],
   "source": [
    "tf.reset_default_graph()\n",
    "\n",
    "with tf.device(\"/cpu:0\"): #변수 a와 b를 cpu에 할당\n",
    "    a = tf.Variable(3.0)\n",
    "    b = tf.Variable(4.0)\n",
    "    \n",
    "c = a * b #c는 어떤 장치에도 할당되지 않았으므로 기본장치에 배치됨\n",
    "\n",
    "with tf.Session(config=config) as sess:\n",
    "    init = tf.global_variables_initializer()\n",
    "    sess.run(init)\n",
    "    print(sess.run(c))"
   ]
  },
  {
   "cell_type": "code",
   "execution_count": 7,
   "metadata": {},
   "outputs": [
    {
     "name": "stdout",
     "output_type": "stream",
     "text": [
      "Device mapping:\n",
      "/job:localhost/replica:0/task:0/device:GPU:0 -> device: 0, name: GeForce GTX 1060 3GB, pci bus id: 0000:06:00.0, compute capability: 6.1\n",
      "\n",
      "12.0\n"
     ]
    }
   ],
   "source": [
    "## 동적배치함수 ##\n",
    "def variables_on_cpu(op): #연산이 할당될 장치이름 반환\n",
    "    if op.type == \"Variable\":\n",
    "        return \"/cpu:0\"\n",
    "    else:\n",
    "        return \"/gpu:0\"\n",
    "\n",
    "tf.reset_default_graph()\n",
    "\n",
    "with tf.device(variables_on_cpu):\n",
    "    a = tf.Variable(3.0) #타입이 Variable이므로 cpu에 할당됨\n",
    "    b = tf.Variable(4.0) #타입이 Variable이므로 cpu에 할당됨\n",
    "    #b = tf.Variable(4) #gpu에는 int32형 변수 할당불가능\n",
    "    c = a * b \n",
    "    \n",
    "with tf.Session(config=config) as sess:\n",
    "    init = tf.global_variables_initializer()\n",
    "    sess.run(init)\n",
    "    print(sess.run(c))"
   ]
  },
  {
   "cell_type": "code",
   "execution_count": 18,
   "metadata": {},
   "outputs": [],
   "source": [
    "## 간접배치 ##\n",
    "tf.reset_default_graph()\n",
    "\n",
    "config.allow_soft_placement = True #처리할 커널이 없는 장치에 할당했을 때 cpu로 처리할수 있도록 함"
   ]
  },
  {
   "cell_type": "code",
   "execution_count": 19,
   "metadata": {},
   "outputs": [
    {
     "name": "stdout",
     "output_type": "stream",
     "text": [
      "Device mapping:\n",
      "/job:localhost/replica:0/task:0/device:GPU:0 -> device: 0, name: GeForce GTX 1060 3GB, pci bus id: 0000:06:00.0, compute capability: 6.1\n",
      "\n",
      "4\n"
     ]
    }
   ],
   "source": [
    "tf.reset_default_graph()\n",
    "\n",
    "with tf.device(\"/gpu:0\"):\n",
    "    b = tf.Variable(4) #cpu에 할당될 것임\n",
    "    \n",
    "with tf.Session(config=config) as sess:\n",
    "    init = tf.global_variables_initializer()\n",
    "    sess.run(init)\n",
    "    print(sess.run(b))"
   ]
  },
  {
   "cell_type": "code",
   "execution_count": 22,
   "metadata": {},
   "outputs": [
    {
     "name": "stdout",
     "output_type": "stream",
     "text": [
      "Device mapping:\n",
      "/job:localhost/replica:0/task:0/device:GPU:0 -> device: 0, name: GeForce GTX 1060 3GB, pci bus id: 0000:06:00.0, compute capability: 6.1\n",
      "\n",
      "36.0\n"
     ]
    }
   ],
   "source": [
    "## 제어의존성 ##\n",
    "tf.reset_default_graph()\n",
    "\n",
    "a = tf.Variable(1.0)\n",
    "b = a + 2.0\n",
    "\n",
    "with tf.control_dependencies([a, b]): #a,b가 평가된 두 x, y가 평가되게 함\n",
    "    x = tf.constant(3.0)\n",
    "    y = tf.constant(4.0)\n",
    "\n",
    "z = x * y * b\n",
    "\n",
    "with tf.Session(config=config) as sess:\n",
    "    sess.run(tf.global_variables_initializer())\n",
    "    print(sess.run(z))"
   ]
  },
  {
   "cell_type": "code",
   "execution_count": 6,
   "metadata": {},
   "outputs": [
    {
     "data": {
      "text/plain": [
       "'\\n클러스터 : 1개 이상의 태스크, 보통 여러 머신에 나뉘어 있음\\n태스크 : 하나의 잡에 속함, 하나의 잡은 이름이 부여된 태스크의 그룹(워커 / 파라미터 서버)\\n'"
      ]
     },
     "execution_count": 6,
     "metadata": {},
     "output_type": "execute_result"
    }
   ],
   "source": [
    "## 12.2. 다중 머신의 다중 장치 ##\n",
    "'''\n",
    "클러스터 : 1개 이상의 태스크, 보통 여러 머신에 나뉘어 있음\n",
    "태스크 : 하나의 잡에 속함, 하나의 잡은 이름이 부여된 태스크의 그룹(워커 / 파라미터 서버)\n",
    "'''"
   ]
  },
  {
   "cell_type": "markdown",
   "metadata": {},
   "source": [
    "<h2>로컬 서버</h2>"
   ]
  },
  {
   "cell_type": "code",
   "execution_count": 2,
   "metadata": {},
   "outputs": [
    {
     "name": "stdout",
     "output_type": "stream",
     "text": [
      "b'Hello distributed TensorFlow!'\n"
     ]
    }
   ],
   "source": [
    "c = tf.constant(\"Hello distributed TensorFlow!\")\n",
    "server = tf.train.Server.create_local_server() #in-process 서버 형태로 단일 프로세스 클러스터를 생성\n",
    "with tf.Session(server.target) as sess:\n",
    "    print(sess.run(c))"
   ]
  },
  {
   "cell_type": "markdown",
   "metadata": {},
   "source": [
    "<h2>클러스터</h2>"
   ]
  },
  {
   "cell_type": "code",
   "execution_count": 3,
   "metadata": {},
   "outputs": [],
   "source": [
    "#클러스터 명세\n",
    "\n",
    "cluster_spec = tf.train.ClusterSpec({\n",
    "    \"ps\":[\n",
    "        \"127.0.0.1:2221\",  # /job:ps/task:0\n",
    "        \"127.0.0.1:2222\",  # /job:ps/task:1\n",
    "    ],\n",
    "    \"worker\":[\n",
    "        \"127.0.0.1:2223\",  # /job:worker/task:0\n",
    "        \"127.0.0.1:2224\",  # /job:worker/task:1\n",
    "        \"127.0.0.1:2225\",  # /job:worker/task:2\n",
    "    ]})\n",
    "\n",
    "# $ CUDA_VISIBLE_DEVICES=\"\" python my_script.py # CPU만 사용하겠다는 뜻(파라미터 서버 설정)"
   ]
  },
  {
   "cell_type": "code",
   "execution_count": 4,
   "metadata": {},
   "outputs": [],
   "source": [
    "task_ps0 = tf.train.Server(cluster_spec, job_name=\"ps\", task_index=0) #첫번째 \"ps\" 태스크를 시작\n",
    "task_ps1 = tf.train.Server(cluster_spec, job_name=\"ps\", task_index=1) #두번째 \"ps\" 태스크를 시작\n",
    "task_worker0 = tf.train.Server(cluster_spec, job_name=\"worker\", task_index=0) #첫번째 \"worker\" 태스크를 시작\n",
    "task_worker1 = tf.train.Server(cluster_spec, job_name=\"worker\", task_index=1) #두번째 \"worker\" 태스크를 시작\n",
    "task_worker2 = tf.train.Server(cluster_spec, job_name=\"worker\", task_index=2) #세번째 \"worker\" 태스크를 시작\n",
    "\n",
    "#server.join() #만약 서버를 실행하기만 하는 프로세스라면 다른서버가 종료될 때 까지 서버가 종료되지 않게 해야 함,\n",
    "#실제로는 서버를 중지시키는 방법은 없기때문에 영원히 블록됨"
   ]
  },
  {
   "cell_type": "markdown",
   "metadata": {},
   "source": [
    "<h2>장치와 서버간 파이프라이닝</h2>"
   ]
  },
  {
   "cell_type": "code",
   "execution_count": 12,
   "metadata": {},
   "outputs": [
    {
     "name": "stdout",
     "output_type": "stream",
     "text": [
      "8.0\n"
     ]
    }
   ],
   "source": [
    "tf.reset_default_graph()\n",
    "\n",
    "with tf.device(\"/job:ps\"): #ps잡의 1번째 태스크의 기본장치(cpu0)에 할당됨\n",
    "    a = tf.Variable(1.0, name=\"a\")\n",
    "\n",
    "with tf.device(\"/job:worker/task:0\"): #worker잡의 1번째 태스크의 기본장치(gpu0)에 할당됨\n",
    "    b = a + 2\n",
    "    \n",
    "with tf.device(\"/job:worker/task:1/gpu:0\"): #worker잡의 2번째 태스크의 1번째 gpu에 할당됨\n",
    "    c = a + b\n",
    "    \n",
    "d = c * 2 #자신의 기본 장치에 할당됨\n",
    "\n",
    "with tf.Session(\"grpc://127.0.0.1:2221\") as sess:\n",
    "    sess.run(a.initializer)\n",
    "    print(d.eval())"
   ]
  },
  {
   "cell_type": "code",
   "execution_count": 30,
   "metadata": {},
   "outputs": [
    {
     "name": "stdout",
     "output_type": "stream",
     "text": [
      "9.0\n"
     ]
    }
   ],
   "source": [
    "tf.reset_default_graph()\n",
    "\n",
    "with tf.device(tf.train.replica_device_setter( #라운드로빈 방식으로 변수들을 각 서버에 분산시킴\n",
    "        ps_tasks=2, #ps태스크의 수, cluster=cluster_spec를 지정해서 ps잡에 있는 태스크의 수를 찾게 할수도 있음\n",
    "        ps_device=\"/job:ps\", #파마리터 서버 태스크 지정\n",
    "        worker_device=\"/job:worker\")): #워커 잡의 장치 지정\n",
    "    v1 = tf.Variable(1.0, name=\"v1\")  # pinned to /job:ps/task:0 (defaults to /cpu:0)\n",
    "    v2 = tf.Variable(2.0, name=\"v2\")  # pinned to /job:ps/task:1 (defaults to /cpu:0)\n",
    "    v3 = tf.Variable(3.0, name=\"v3\")  # pinned to /job:ps/task:0 (defaults to /cpu:0)\n",
    "    s = v1 + v2            # pinned to /job:worker (defaults to task:0/cpu:0)\n",
    "    with tf.device(\"/task:1\"):\n",
    "        p1 = 2 * s         # pinned to /job:worker/task:1 (defaults to /cpu:0)\n",
    "        with tf.device(\"/cpu:0\"):\n",
    "            p2 = 3 * s     # pinned to /job:worker/task:1/cpu:0\n",
    "\n",
    "config = tf.ConfigProto()\n",
    "config.log_device_placement = True\n",
    "\n",
    "with tf.Session(\"grpc://127.0.0.1:2221\", config=config) as sess:\n",
    "    sess.run([v1.initializer, v2.initializer, v3.initializer])\n",
    "\n",
    "with tf.Session(\"grpc://127.0.0.1:2223\", config=config) as sess:\n",
    "    print(sess.run(p2))"
   ]
  },
  {
   "cell_type": "markdown",
   "metadata": {},
   "source": [
    "<h2> 리소스 컨테이너를 사용해 여러 세션에서 상태 공유하기 </h2>"
   ]
  },
  {
   "cell_type": "code",
   "execution_count": 41,
   "metadata": {},
   "outputs": [
    {
     "name": "stdout",
     "output_type": "stream",
     "text": [
      "1.0\n"
     ]
    }
   ],
   "source": [
    "import sys\n",
    "\n",
    "x = tf.Variable(0.0, name=\"x\") #같은 클러스터에 있는 다른 세션에서 사용 가능\n",
    "increment_x = tf.assign(x, x+1)\n",
    "\n",
    "#init\n",
    "with tf.Session(\"grpc://127.0.0.1:2223\") as sess:\n",
    "    sess.run(x.initializer)\n",
    "    sess.run(increment_x)\n",
    "    print(x.eval())"
   ]
  },
  {
   "cell_type": "code",
   "execution_count": 42,
   "metadata": {},
   "outputs": [
    {
     "name": "stdout",
     "output_type": "stream",
     "text": [
      "2.0\n",
      "3.0\n"
     ]
    }
   ],
   "source": [
    "#다른 세션에서 같은 클러스터에 있는 변수 사용\n",
    "with tf.Session(\"grpc://127.0.0.1:2224\") as sess:\n",
    "    sess.run(increment_x)\n",
    "    print(x.eval())\n",
    "\n",
    "with tf.Session(\"grpc://127.0.0.1:2225\") as sess:\n",
    "    sess.run(increment_x)\n",
    "    print(x.eval())"
   ]
  },
  {
   "cell_type": "code",
   "execution_count": 17,
   "metadata": {},
   "outputs": [
    {
     "name": "stdout",
     "output_type": "stream",
     "text": [
      "11.0\n"
     ]
    }
   ],
   "source": [
    "#컨테이너 사용\n",
    "\n",
    "tf.reset_default_graph()\n",
    "\n",
    "#init\n",
    "with tf.Session(\"grpc://127.0.0.1:2223\") as sess:\n",
    "    with tf.container(\"myProblem\"):\n",
    "        x = tf.Variable(10.0, name=\"x\") #같은 클러스터에 있는 다른 세션에서 사용 가능\n",
    "        increment_x = tf.assign(x, x+1)\n",
    "    \n",
    "    sess.run(x.initializer)\n",
    "    sess.run(increment_x)\n",
    "    print(x.eval())\n",
    "    \n",
    "tf.Session.reset(\"grpc://127.0.0.1:2223\", [\"myProblem\"]) #myProblem 이름을 가진 컨테이너 리셋(컨테이너가 사용하는 모든 리소스 해제)\n",
    "      \n",
    "with tf.Session(\"grpc://127.0.0.1:2224\") as sess:\n",
    "    #sess.run(increment_x) #접근 불가능, 리소스  해제 됨\n",
    "    pass"
   ]
  },
  {
   "cell_type": "code",
   "execution_count": null,
   "metadata": {},
   "outputs": [],
   "source": []
  }
 ],
 "metadata": {
  "kernelspec": {
   "display_name": "handsonml",
   "language": "python",
   "name": "handsonml"
  },
  "language_info": {
   "codemirror_mode": {
    "name": "ipython",
    "version": 3
   },
   "file_extension": ".py",
   "mimetype": "text/x-python",
   "name": "python",
   "nbconvert_exporter": "python",
   "pygments_lexer": "ipython3",
   "version": "3.6.12"
  }
 },
 "nbformat": 4,
 "nbformat_minor": 4
}
