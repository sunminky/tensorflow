{
 "cells": [
  {
   "cell_type": "code",
   "execution_count": 4,
   "metadata": {},
   "outputs": [],
   "source": [
    "import numpy as np\n",
    "from matplotlib import pyplot as plt"
   ]
  },
  {
   "cell_type": "code",
   "execution_count": 55,
   "metadata": {},
   "outputs": [
    {
     "data": {
      "image/png": "[encoded data removed]",
      "text/plain": [
       "<Figure size 432x288 with 1 Axes>"
      ]
     },
     "metadata": {
      "needs_background": "light"
     },
     "output_type": "display_data"
    }
   ],
   "source": [
    "###4.1.1 정규방정식###\n",
    "#https://mazdah.tistory.com/831\n",
    "X = 2 * np.random.rand(100, 1) #0~1 사이의 균일분포 표준정규분포 난수 (100,1)행렬 생성\n",
    "Y = 4 + 3 * X + np.random.randn(100, 1) #평균 0 표준편차 1인 가우시안 표준정규분포 난수 (100,1)행렬 생성\n",
    "\n",
    "plt.plot(X, Y, \"b.\")\n",
    "plt.axis([0, 2, 0, 15])\n",
    "plt.title(\"Random Data\")\n",
    "plt.show()"
   ]
  },
  {
   "cell_type": "code",
   "execution_count": 43,
   "metadata": {},
   "outputs": [
    {
     "data": {
      "text/plain": [
       "array([[4.05273651],\n",
       "       [2.88557588]])"
      ]
     },
     "execution_count": 43,
     "metadata": {},
     "output_type": "execute_result"
    }
   ],
   "source": [
    "X_b = np.c_[np.ones((100, 1)), X] #모든 샘플에 x0 = 1을 추가, 입력특성 x0은 항상1이니까\n",
    "theta_best = np.linalg.inv(X_b.T.dot(X_b)).dot(X_b.T).dot(Y) #정규방정식 공식적용, inv는 역행렬을 구해줌\n",
    "theta_best"
   ]
  },
  {
   "cell_type": "code",
   "execution_count": 53,
   "metadata": {},
   "outputs": [
    {
     "data": {
      "text/plain": [
       "array([[4.05273651],\n",
       "       [9.82388827]])"
      ]
     },
     "execution_count": 53,
     "metadata": {},
     "output_type": "execute_result"
    }
   ],
   "source": [
    "X_new = np.array([[0], [2]]) #예측할 데이터\n",
    "X_new_b = np.c_[np.ones((2, 1)), X_new] #입력특성 x0은 항상 1\n",
    "Y_predict = X_new_b.dot(theta_best) #정규방적식을 사용해 예측\n",
    "Y_predict #예측값 출력"
   ]
  },
  {
   "cell_type": "code",
   "execution_count": 54,
   "metadata": {},
   "outputs": [
    {
     "data": {
      "text/plain": [
       "array([[4.05273651],\n",
       "       [9.82388827]])"
      ]
     },
     "execution_count": 54,
     "metadata": {},
     "output_type": "execute_result"
    }
   ],
   "source": [
    "##같은 작업을 하는 사이킷런 코드##\n",
    "from sklearn.linear_model import LinearRegression\n",
    "lin_reg = LinearRegression()\n",
    "lin_reg.fit(X, Y)\n",
    "lin_reg.intercept_, lin_reg.coef_\n",
    "lin_reg.predict([[0], [2]])"
   ]
  },
  {
   "cell_type": "code",
   "execution_count": 48,
   "metadata": {},
   "outputs": [
    {
     "data": {
      "image/png": "[encoded data removed]",
      "text/plain": [
       "<Figure size 432x288 with 1 Axes>"
      ]
     },
     "metadata": {
      "needs_background": "light"
     },
     "output_type": "display_data"
    }
   ],
   "source": [
    "#정규방정식을 그래프에 표현\n",
    "plt.plot(X_new, Y_predict, \"r-\", label=\"Prediction\")\n",
    "plt.plot(X, Y, \"b.\")\n",
    "plt.axis([0, 2, 0, 15])\n",
    "plt.legend(loc=\"upper left\")\n",
    "plt.show()"
   ]
  },
  {
   "cell_type": "code",
   "execution_count": null,
   "metadata": {},
   "outputs": [],
   "source": [
    "###4.2 경사하강법###\n"
   ]
  }
 ],
 "metadata": {
  "kernelspec": {
   "display_name": "handsonmlkernel",
   "language": "python",
   "name": "handsonml"
  },
  "language_info": {
   "codemirror_mode": {
    "name": "ipython",
    "version": 3
   },
   "file_extension": ".py",
   "mimetype": "text/x-python",
   "name": "python",
   "nbconvert_exporter": "python",
   "pygments_lexer": "ipython3",
   "version": "3.6.8"
  }
 },
 "nbformat": 4,
 "nbformat_minor": 4
}
