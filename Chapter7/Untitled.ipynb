{
 "cells": [
  {
   "cell_type": "code",
   "execution_count": 1,
   "metadata": {},
   "outputs": [],
   "source": [
    "##7.1투표기반분류기##\n",
    "from sklearn.model_selection import train_test_split\n",
    "from sklearn.datasets import make_moons\n",
    "\n",
    "X, Y = make_moons(n_samples=500, noise=0.30, random_state=42)\n",
    "X_train, X_test, Y_train, Y_test = train_test_split(X, Y, test_size=0.25, random_state=42)"
   ]
  },
  {
   "cell_type": "code",
   "execution_count": 3,
   "metadata": {},
   "outputs": [],
   "source": [
    "import numpy as np"
   ]
  },
  {
   "cell_type": "code",
   "execution_count": 4,
   "metadata": {},
   "outputs": [
    {
     "data": {
      "text/plain": [
       "VotingClassifier(estimators=[('lr', LogisticRegression(C=1.0, class_weight=None, dual=False, fit_intercept=True,\n",
       "          intercept_scaling=1, max_iter=100, multi_class='ovr', n_jobs=1,\n",
       "          penalty='l2', random_state=None, solver='liblinear', tol=0.0001,\n",
       "          verbose=0, warm_start=False)), ('rf', RandomF...',\n",
       "  max_iter=-1, probability=True, random_state=None, shrinking=True,\n",
       "  tol=0.001, verbose=False))],\n",
       "         flatten_transform=None, n_jobs=1, voting='soft', weights=None)"
      ]
     },
     "execution_count": 4,
     "metadata": {},
     "output_type": "execute_result"
    }
   ],
   "source": [
    "from sklearn.ensemble import RandomForestClassifier\n",
    "from sklearn.ensemble import VotingClassifier\n",
    "from sklearn.linear_model import LogisticRegression\n",
    "from sklearn.svm import SVC\n",
    "\n",
    "\n",
    "log_clf = LogisticRegression()\n",
    "rnd_clf = RandomForestClassifier()\n",
    "svm_clf = SVC(probability=True)\n",
    "\n",
    "voting_clf = VotingClassifier(\n",
    "    estimators=[('lr', log_clf), ('rf', rnd_clf), ('svc', svm_clf)],\n",
    "    voting='hard')\n",
    "voting_clf.fit(X_train, Y_train)\n",
    "\n",
    "#개별분류기의 예측을 평균내어 확률이 가장 높은 클래스예측\n",
    "#확률을 추정하기위해 교차검증 사용, 훈련속도 느리지만 정확함\n",
    "voting_proba_clf = VotingClassifier(\n",
    "    estimators=[('lr', log_clf), ('rf', rnd_clf), ('svc', svm_clf)],\n",
    "    voting='soft')\n",
    "voting_proba_clf.fit(X_train, Y_train)"
   ]
  },
  {
   "cell_type": "code",
   "execution_count": 6,
   "metadata": {},
   "outputs": [
    {
     "name": "stdout",
     "output_type": "stream",
     "text": [
      "LogisticRegression 0.864\n",
      "RandomForestClassifier 0.848\n",
      "SVC 0.888\n",
      "VotingClassifier 0.888\n"
     ]
    },
    {
     "name": "stderr",
     "output_type": "stream",
     "text": [
      "C:\\Users\\Sun\\AppData\\Roaming\\Python\\Python36\\site-packages\\sklearn\\preprocessing\\label.py:151: DeprecationWarning: The truth value of an empty array is ambiguous. Returning False, but in future this will result in an error. Use `array.size > 0` to check that an array is not empty.\n",
      "  if diff:\n"
     ]
    }
   ],
   "source": [
    "from sklearn.metrics import accuracy_score\n",
    "\n",
    "for clf in (log_clf, rnd_clf, svm_clf, voting_clf):\n",
    "    #각 분류기의 테스트셋 정확도 출력\n",
    "    clf.fit(X_train, Y_train)\n",
    "    Y_pred = clf.predict(X_test)\n",
    "    print(clf.__class__.__name__, accuracy_score(Y_test, Y_pred))\n",
    "    \n",
    "#각 분류기의 개별성능보다 투표기반분류기의 성능이 더 높다"
   ]
  },
  {
   "cell_type": "code",
   "execution_count": 7,
   "metadata": {},
   "outputs": [
    {
     "name": "stdout",
     "output_type": "stream",
     "text": [
      "LogisticRegression 0.864\n",
      "RandomForestClassifier 0.896\n",
      "SVC 0.888\n",
      "VotingClassifier 0.904\n"
     ]
    },
    {
     "name": "stderr",
     "output_type": "stream",
     "text": [
      "C:\\Users\\Sun\\AppData\\Roaming\\Python\\Python36\\site-packages\\sklearn\\preprocessing\\label.py:151: DeprecationWarning: The truth value of an empty array is ambiguous. Returning False, but in future this will result in an error. Use `array.size > 0` to check that an array is not empty.\n",
      "  if diff:\n"
     ]
    }
   ],
   "source": [
    "from sklearn.metrics import accuracy_score\n",
    "\n",
    "for clf in (log_clf, rnd_clf, svm_clf, voting_proba_clf):\n",
    "    #각 분류기의 테스트셋 정확도 출력\n",
    "    clf.fit(X_train, Y_train)\n",
    "    Y_pred = clf.predict(X_test)\n",
    "    print(clf.__class__.__name__, accuracy_score(Y_test, Y_pred))\n",
    "    \n",
    "#각 분류기의 개별성능보다 투표기반분류기의 성능이 더 높다"
   ]
  },
  {
   "cell_type": "code",
   "execution_count": 8,
   "metadata": {},
   "outputs": [
    {
     "name": "stdout",
     "output_type": "stream",
     "text": [
      "Accuracy = 0.928\n"
     ]
    }
   ],
   "source": [
    "##7.2.1 배깅##\n",
    "from sklearn.ensemble import BaggingClassifier\n",
    "from sklearn.tree import DecisionTreeClassifier\n",
    "\n",
    "bag_clf = BaggingClassifier(\n",
    "    DecisionTreeClassifier(), n_estimators=500,\n",
    "    max_samples=100, bootstrap=True, n_jobs=-1) #페이스팅을 사용하려면 bootstrap=False\n",
    "bag_clf.fit(X_train, Y_train)\n",
    "Y_pred = bag_clf.predict(X_test)\n",
    "\n",
    "print('Accuracy =', accuracy_score(Y_test, Y_pred))\n",
    "#샘플을 중복선택하면 배깅, 이미 뽑은 샘플은 선택하지 않으면 페이스팅"
   ]
  },
  {
   "cell_type": "code",
   "execution_count": 9,
   "metadata": {},
   "outputs": [
    {
     "data": {
      "text/plain": [
       "0.896"
      ]
     },
     "execution_count": 9,
     "metadata": {},
     "output_type": "execute_result"
    }
   ],
   "source": [
    "##7.2.2 oob 평가##\n",
    "bag_clf = BaggingClassifier(\n",
    "    DecisionTreeClassifier(), n_estimators=500,\n",
    "    bootstrap=True, n_jobs=-1, oob_score=True) #선택되지 않은 샘플로 평가\n",
    "\n",
    "bag_clf.fit(X_train, Y_train)\n",
    "bag_clf.oob_score_"
   ]
  },
  {
   "cell_type": "code",
   "execution_count": 10,
   "metadata": {},
   "outputs": [
    {
     "data": {
      "text/plain": [
       "0.904"
      ]
     },
     "execution_count": 10,
     "metadata": {},
     "output_type": "execute_result"
    }
   ],
   "source": [
    "from sklearn.metrics import accuracy_score\n",
    "\n",
    "Y_pred = bag_clf.predict(X_test)\n",
    "accuracy_score(Y_test, Y_pred)"
   ]
  },
  {
   "cell_type": "code",
   "execution_count": 11,
   "metadata": {},
   "outputs": [
    {
     "data": {
      "text/plain": [
       "array([[0.40298507, 0.59701493],\n",
       "       [0.27419355, 0.72580645],\n",
       "       [1.        , 0.        ],\n",
       "       [0.        , 1.        ],\n",
       "       [0.        , 1.        ],\n",
       "       [0.06417112, 0.93582888],\n",
       "       [0.375     , 0.625     ],\n",
       "       [0.01578947, 0.98421053],\n",
       "       [0.99425287, 0.00574713],\n",
       "       [0.96354167, 0.03645833],\n",
       "       [0.70414201, 0.29585799],\n",
       "       [0.015625  , 0.984375  ],\n",
       "       [0.74468085, 0.25531915],\n",
       "       [0.84293194, 0.15706806],\n",
       "       [0.97660819, 0.02339181],\n",
       "       [0.06603774, 0.93396226],\n",
       "       [0.        , 1.        ],\n",
       "       [0.96794872, 0.03205128],\n",
       "       [0.97076023, 0.02923977],\n",
       "       [0.9893617 , 0.0106383 ],\n",
       "       [0.02463054, 0.97536946],\n",
       "       [0.35789474, 0.64210526],\n",
       "       [0.92261905, 0.07738095],\n",
       "       [1.        , 0.        ],\n",
       "       [0.97790055, 0.02209945],\n",
       "       [0.        , 1.        ],\n",
       "       [0.98924731, 0.01075269],\n",
       "       [1.        , 0.        ],\n",
       "       [0.        , 1.        ],\n",
       "       [0.62777778, 0.37222222],\n",
       "       [0.        , 1.        ],\n",
       "       [1.        , 0.        ],\n",
       "       [0.        , 1.        ],\n",
       "       [0.        , 1.        ],\n",
       "       [0.14361702, 0.85638298],\n",
       "       [1.        , 0.        ],\n",
       "       [0.        , 1.        ],\n",
       "       [0.36871508, 0.63128492],\n",
       "       [0.        , 1.        ],\n",
       "       [1.        , 0.        ],\n",
       "       [0.28176796, 0.71823204],\n",
       "       [0.35858586, 0.64141414],\n",
       "       [1.        , 0.        ],\n",
       "       [1.        , 0.        ],\n",
       "       [0.        , 1.        ],\n",
       "       [1.        , 0.        ],\n",
       "       [1.        , 0.        ],\n",
       "       [0.02116402, 0.97883598],\n",
       "       [1.        , 0.        ],\n",
       "       [0.00518135, 0.99481865],\n",
       "       [0.97282609, 0.02717391],\n",
       "       [0.92696629, 0.07303371],\n",
       "       [0.95675676, 0.04324324],\n",
       "       [0.97727273, 0.02272727],\n",
       "       [0.        , 1.        ],\n",
       "       [0.06914894, 0.93085106],\n",
       "       [0.98901099, 0.01098901],\n",
       "       [0.        , 1.        ],\n",
       "       [0.        , 1.        ],\n",
       "       [0.        , 1.        ],\n",
       "       [0.98837209, 0.01162791],\n",
       "       [0.80107527, 0.19892473],\n",
       "       [0.31111111, 0.68888889],\n",
       "       [0.99473684, 0.00526316],\n",
       "       [0.        , 1.        ],\n",
       "       [0.65745856, 0.34254144],\n",
       "       [1.        , 0.        ],\n",
       "       [1.        , 0.        ],\n",
       "       [0.875     , 0.125     ],\n",
       "       [1.        , 0.        ],\n",
       "       [0.66285714, 0.33714286],\n",
       "       [0.1746988 , 0.8253012 ],\n",
       "       [0.71511628, 0.28488372],\n",
       "       [0.90909091, 0.09090909],\n",
       "       [0.        , 1.        ],\n",
       "       [0.15675676, 0.84324324],\n",
       "       [0.9137931 , 0.0862069 ],\n",
       "       [1.        , 0.        ],\n",
       "       [0.        , 1.        ],\n",
       "       [0.99453552, 0.00546448],\n",
       "       [0.        , 1.        ],\n",
       "       [0.07222222, 0.92777778],\n",
       "       [0.04545455, 0.95454545],\n",
       "       [0.29479769, 0.70520231],\n",
       "       [1.        , 0.        ],\n",
       "       [0.        , 1.        ],\n",
       "       [0.85416667, 0.14583333],\n",
       "       [0.01123596, 0.98876404],\n",
       "       [0.        , 1.        ],\n",
       "       [0.        , 1.        ],\n",
       "       [0.2393617 , 0.7606383 ],\n",
       "       [1.        , 0.        ],\n",
       "       [0.        , 1.        ],\n",
       "       [0.        , 1.        ],\n",
       "       [0.        , 1.        ],\n",
       "       [0.95321637, 0.04678363],\n",
       "       [0.7539267 , 0.2460733 ],\n",
       "       [0.01123596, 0.98876404],\n",
       "       [1.        , 0.        ],\n",
       "       [0.22891566, 0.77108434],\n",
       "       [0.625     , 0.375     ],\n",
       "       [0.        , 1.        ],\n",
       "       [0.05347594, 0.94652406],\n",
       "       [0.54022989, 0.45977011],\n",
       "       [1.        , 0.        ],\n",
       "       [0.01025641, 0.98974359],\n",
       "       [1.        , 0.        ],\n",
       "       [0.33862434, 0.66137566],\n",
       "       [0.52352941, 0.47647059],\n",
       "       [1.        , 0.        ],\n",
       "       [0.01714286, 0.98285714],\n",
       "       [0.98809524, 0.01190476],\n",
       "       [0.27624309, 0.72375691],\n",
       "       [0.92349727, 0.07650273],\n",
       "       [1.        , 0.        ],\n",
       "       [1.        , 0.        ],\n",
       "       [0.        , 1.        ],\n",
       "       [0.        , 1.        ],\n",
       "       [0.83937824, 0.16062176],\n",
       "       [1.        , 0.        ],\n",
       "       [0.00469484, 0.99530516],\n",
       "       [1.        , 0.        ],\n",
       "       [0.99447514, 0.00552486],\n",
       "       [1.        , 0.        ],\n",
       "       [0.98429319, 0.01570681],\n",
       "       [1.        , 0.        ],\n",
       "       [0.00531915, 0.99468085],\n",
       "       [0.95187166, 0.04812834],\n",
       "       [1.        , 0.        ],\n",
       "       [0.01052632, 0.98947368],\n",
       "       [0.22404372, 0.77595628],\n",
       "       [0.95918367, 0.04081633],\n",
       "       [0.32065217, 0.67934783],\n",
       "       [0.98941799, 0.01058201],\n",
       "       [0.        , 1.        ],\n",
       "       [0.        , 1.        ],\n",
       "       [0.67403315, 0.32596685],\n",
       "       [0.35051546, 0.64948454],\n",
       "       [0.39175258, 0.60824742],\n",
       "       [0.88995215, 0.11004785],\n",
       "       [0.89830508, 0.10169492],\n",
       "       [0.04117647, 0.95882353],\n",
       "       [0.84916201, 0.15083799],\n",
       "       [0.        , 1.        ],\n",
       "       [0.        , 1.        ],\n",
       "       [0.04301075, 0.95698925],\n",
       "       [0.97927461, 0.02072539],\n",
       "       [0.9952381 , 0.0047619 ],\n",
       "       [1.        , 0.        ],\n",
       "       [0.        , 1.        ],\n",
       "       [0.        , 1.        ],\n",
       "       [0.0106383 , 0.9893617 ],\n",
       "       [0.        , 1.        ],\n",
       "       [1.        , 0.        ],\n",
       "       [1.        , 0.        ],\n",
       "       [0.93902439, 0.06097561],\n",
       "       [1.        , 0.        ],\n",
       "       [1.        , 0.        ],\n",
       "       [1.        , 0.        ],\n",
       "       [0.        , 1.        ],\n",
       "       [0.35555556, 0.64444444],\n",
       "       [0.31318681, 0.68681319],\n",
       "       [0.        , 1.        ],\n",
       "       [0.        , 1.        ],\n",
       "       [0.35078534, 0.64921466],\n",
       "       [1.        , 0.        ],\n",
       "       [1.        , 0.        ],\n",
       "       [0.        , 1.        ],\n",
       "       [1.        , 0.        ],\n",
       "       [0.00558659, 0.99441341],\n",
       "       [0.        , 1.        ],\n",
       "       [0.98404255, 0.01595745],\n",
       "       [0.        , 1.        ],\n",
       "       [0.        , 1.        ],\n",
       "       [1.        , 0.        ],\n",
       "       [0.        , 1.        ],\n",
       "       [0.65921788, 0.34078212],\n",
       "       [0.86931818, 0.13068182],\n",
       "       [0.        , 1.        ],\n",
       "       [0.98870056, 0.01129944],\n",
       "       [0.98901099, 0.01098901],\n",
       "       [1.        , 0.        ],\n",
       "       [0.        , 1.        ],\n",
       "       [0.        , 1.        ],\n",
       "       [1.        , 0.        ],\n",
       "       [0.09139785, 0.90860215],\n",
       "       [1.        , 0.        ],\n",
       "       [0.03508772, 0.96491228],\n",
       "       [0.        , 1.        ],\n",
       "       [1.        , 0.        ],\n",
       "       [0.        , 1.        ],\n",
       "       [0.03867403, 0.96132597],\n",
       "       [1.        , 0.        ],\n",
       "       [0.91111111, 0.08888889],\n",
       "       [0.74626866, 0.25373134],\n",
       "       [0.64130435, 0.35869565],\n",
       "       [0.        , 1.        ],\n",
       "       [0.15243902, 0.84756098],\n",
       "       [1.        , 0.        ],\n",
       "       [0.94736842, 0.05263158],\n",
       "       [0.97802198, 0.02197802],\n",
       "       [1.        , 0.        ],\n",
       "       [0.01183432, 0.98816568],\n",
       "       [0.        , 1.        ],\n",
       "       [0.48108108, 0.51891892],\n",
       "       [0.86624204, 0.13375796],\n",
       "       [0.        , 1.        ],\n",
       "       [0.        , 1.        ],\n",
       "       [1.        , 0.        ],\n",
       "       [0.01176471, 0.98823529],\n",
       "       [0.00564972, 0.99435028],\n",
       "       [0.96756757, 0.03243243],\n",
       "       [0.        , 1.        ],\n",
       "       [0.24858757, 0.75141243],\n",
       "       [0.        , 1.        ],\n",
       "       [1.        , 0.        ],\n",
       "       [0.        , 1.        ],\n",
       "       [0.        , 1.        ],\n",
       "       [0.97765363, 0.02234637],\n",
       "       [0.86746988, 0.13253012],\n",
       "       [1.        , 0.        ],\n",
       "       [0.00510204, 0.99489796],\n",
       "       [0.06470588, 0.93529412],\n",
       "       [1.        , 0.        ],\n",
       "       [0.0212766 , 0.9787234 ],\n",
       "       [0.        , 1.        ],\n",
       "       [0.06703911, 0.93296089],\n",
       "       [0.99441341, 0.00558659],\n",
       "       [0.80116959, 0.19883041],\n",
       "       [0.0052356 , 0.9947644 ],\n",
       "       [0.89502762, 0.10497238],\n",
       "       [0.99462366, 0.00537634],\n",
       "       [0.19      , 0.81      ],\n",
       "       [0.20454545, 0.79545455],\n",
       "       [1.        , 0.        ],\n",
       "       [0.        , 1.        ],\n",
       "       [0.        , 1.        ],\n",
       "       [0.        , 1.        ],\n",
       "       [0.29608939, 0.70391061],\n",
       "       [0.95321637, 0.04678363],\n",
       "       [0.        , 1.        ],\n",
       "       [1.        , 0.        ],\n",
       "       [1.        , 0.        ],\n",
       "       [0.        , 1.        ],\n",
       "       [0.51086957, 0.48913043],\n",
       "       [1.        , 0.        ],\n",
       "       [0.        , 1.        ],\n",
       "       [1.        , 0.        ],\n",
       "       [0.        , 1.        ],\n",
       "       [0.        , 1.        ],\n",
       "       [0.08602151, 0.91397849],\n",
       "       [0.10106383, 0.89893617],\n",
       "       [0.9787234 , 0.0212766 ],\n",
       "       [0.01020408, 0.98979592],\n",
       "       [1.        , 0.        ],\n",
       "       [0.39901478, 0.60098522],\n",
       "       [0.10526316, 0.89473684],\n",
       "       [0.56613757, 0.43386243],\n",
       "       [0.63043478, 0.36956522],\n",
       "       [0.        , 1.        ],\n",
       "       [1.        , 0.        ],\n",
       "       [0.        , 1.        ],\n",
       "       [0.        , 1.        ],\n",
       "       [0.61979167, 0.38020833],\n",
       "       [0.        , 1.        ],\n",
       "       [1.        , 0.        ],\n",
       "       [0.27894737, 0.72105263],\n",
       "       [0.85106383, 0.14893617],\n",
       "       [0.07692308, 0.92307692],\n",
       "       [1.        , 0.        ],\n",
       "       [0.78378378, 0.21621622],\n",
       "       [0.        , 1.        ],\n",
       "       [0.        , 1.        ],\n",
       "       [0.12698413, 0.87301587],\n",
       "       [0.02717391, 0.97282609],\n",
       "       [0.        , 1.        ],\n",
       "       [0.99459459, 0.00540541],\n",
       "       [0.88268156, 0.11731844],\n",
       "       [0.15469613, 0.84530387],\n",
       "       [0.94358974, 0.05641026],\n",
       "       [0.00529101, 0.99470899],\n",
       "       [0.60465116, 0.39534884],\n",
       "       [0.08333333, 0.91666667],\n",
       "       [0.98947368, 0.01052632],\n",
       "       [0.84      , 0.16      ],\n",
       "       [0.        , 1.        ],\n",
       "       [1.        , 0.        ],\n",
       "       [0.94382022, 0.05617978],\n",
       "       [0.        , 1.        ],\n",
       "       [0.        , 1.        ],\n",
       "       [1.        , 0.        ],\n",
       "       [0.        , 1.        ],\n",
       "       [1.        , 0.        ],\n",
       "       [0.24712644, 0.75287356],\n",
       "       [0.98958333, 0.01041667],\n",
       "       [1.        , 0.        ],\n",
       "       [0.        , 1.        ],\n",
       "       [0.00561798, 0.99438202],\n",
       "       [0.82051282, 0.17948718],\n",
       "       [0.        , 1.        ],\n",
       "       [1.        , 0.        ],\n",
       "       [0.71751412, 0.28248588],\n",
       "       [0.94818653, 0.05181347],\n",
       "       [1.        , 0.        ],\n",
       "       [0.6763285 , 0.3236715 ],\n",
       "       [0.47567568, 0.52432432],\n",
       "       [0.        , 1.        ],\n",
       "       [0.90960452, 0.09039548],\n",
       "       [0.        , 1.        ],\n",
       "       [1.        , 0.        ],\n",
       "       [0.87368421, 0.12631579],\n",
       "       [1.        , 0.        ],\n",
       "       [1.        , 0.        ],\n",
       "       [0.74418605, 0.25581395],\n",
       "       [0.1       , 0.9       ],\n",
       "       [0.5375    , 0.4625    ],\n",
       "       [0.25405405, 0.74594595],\n",
       "       [0.        , 1.        ],\n",
       "       [0.9027027 , 0.0972973 ],\n",
       "       [0.84180791, 0.15819209],\n",
       "       [0.0060241 , 0.9939759 ],\n",
       "       [1.        , 0.        ],\n",
       "       [1.        , 0.        ],\n",
       "       [1.        , 0.        ],\n",
       "       [0.        , 1.        ],\n",
       "       [0.02162162, 0.97837838],\n",
       "       [0.96984925, 0.03015075],\n",
       "       [0.96410256, 0.03589744],\n",
       "       [1.        , 0.        ],\n",
       "       [0.55172414, 0.44827586],\n",
       "       [1.        , 0.        ],\n",
       "       [0.00985222, 0.99014778],\n",
       "       [0.99438202, 0.00561798],\n",
       "       [0.0106383 , 0.9893617 ],\n",
       "       [1.        , 0.        ],\n",
       "       [1.        , 0.        ],\n",
       "       [1.        , 0.        ],\n",
       "       [0.        , 1.        ],\n",
       "       [0.94827586, 0.05172414],\n",
       "       [0.        , 1.        ],\n",
       "       [0.04891304, 0.95108696],\n",
       "       [0.        , 1.        ],\n",
       "       [0.        , 1.        ],\n",
       "       [1.        , 0.        ],\n",
       "       [1.        , 0.        ],\n",
       "       [0.        , 1.        ],\n",
       "       [1.        , 0.        ],\n",
       "       [0.0104712 , 0.9895288 ],\n",
       "       [1.        , 0.        ],\n",
       "       [0.16753927, 0.83246073],\n",
       "       [0.        , 1.        ],\n",
       "       [0.        , 1.        ],\n",
       "       [0.        , 1.        ],\n",
       "       [0.40983607, 0.59016393],\n",
       "       [0.0591716 , 0.9408284 ],\n",
       "       [0.21505376, 0.78494624],\n",
       "       [1.        , 0.        ],\n",
       "       [0.98918919, 0.01081081],\n",
       "       [0.21052632, 0.78947368],\n",
       "       [1.        , 0.        ],\n",
       "       [0.00529101, 0.99470899],\n",
       "       [0.00568182, 0.99431818],\n",
       "       [1.        , 0.        ],\n",
       "       [0.96236559, 0.03763441],\n",
       "       [0.33707865, 0.66292135],\n",
       "       [1.        , 0.        ],\n",
       "       [1.        , 0.        ],\n",
       "       [0.        , 1.        ],\n",
       "       [0.98907104, 0.01092896],\n",
       "       [0.        , 1.        ],\n",
       "       [0.04301075, 0.95698925],\n",
       "       [0.99438202, 0.00561798],\n",
       "       [1.        , 0.        ],\n",
       "       [0.01734104, 0.98265896],\n",
       "       [0.69090909, 0.30909091]])"
      ]
     },
     "execution_count": 11,
     "metadata": {},
     "output_type": "execute_result"
    }
   ],
   "source": [
    "bag_clf.oob_decision_function_ #oob샘플에 대한 결정함수의 값, 확률값으로 나타남"
   ]
  },
  {
   "cell_type": "code",
   "execution_count": 17,
   "metadata": {},
   "outputs": [
    {
     "data": {
      "text/plain": [
       "BaggingClassifier(base_estimator=DecisionTreeClassifier(class_weight=None, criterion='gini', max_depth=None,\n",
       "            max_features=None, max_leaf_nodes=None,\n",
       "            min_impurity_decrease=0.0, min_impurity_split=None,\n",
       "            min_samples_leaf=1, min_samples_split=2,\n",
       "            min_weight_fraction_leaf=0.0, presort=False, random_state=None,\n",
       "            splitter='best'),\n",
       "         bootstrap=False, bootstrap_features=True, max_features=0.5,\n",
       "         max_samples=1.0, n_estimators=10, n_jobs=1, oob_score=False,\n",
       "         random_state=None, verbose=0, warm_start=False)"
      ]
     },
     "execution_count": 17,
     "metadata": {},
     "output_type": "execute_result"
    }
   ],
   "source": [
    "##랜덤 패치##\n",
    "BaggingClassifier(\n",
    "    DecisionTreeClassifier(),\n",
    "    bootstrap=True, max_samples=0.5,\n",
    "    bootstrap_features=True ,max_features=0.5) #훈련 특성과 샘플을 모두 샘플링\n",
    "\n",
    "##랜덤 서브스페이스##\n",
    "BaggingClassifier(\n",
    "    DecisionTreeClassifier(),\n",
    "    bootstrap=False, max_samples=1.0,\n",
    "    bootstrap_features=True ,max_features=0.5) #훈련샘플은 모두 사용, 훈련 특성은 샘플링"
   ]
  },
  {
   "cell_type": "code",
   "execution_count": 24,
   "metadata": {},
   "outputs": [],
   "source": [
    "##7.4 랜덤 포레스트##\n",
    "from sklearn.ensemble import RandomForestClassifier\n",
    "\n",
    "rnd_clf = RandomForestClassifier(n_estimators=500, max_leaf_nodes=16, n_jobs=-1)\n",
    "rnd_clf.fit(X_train, Y_train)\n",
    "\n",
    "Y_pred = rnd_clf.predict(X_test)\n",
    "\n",
    "#랜덤포레스트는 트리의 노드를 분할하래 최적의 특성을 찾는대신 무작위 특성을 기준으로 분류\n",
    "#무작위성 증가, 트리의 다양성 증가"
   ]
  },
  {
   "cell_type": "code",
   "execution_count": 23,
   "metadata": {},
   "outputs": [],
   "source": [
    "bag_clf = BaggingClassifier(\n",
    "    DecisionTreeClassifier(splitter=\"random\", max_leaf_nodes=16),\n",
    "    n_estimators=500, max_samples=1.0, bootstrap=True, n_jobs=-1)\n",
    "bag_clf.fit(X_train, Y_train)\n",
    "Y_pred = bag_clf.predict(X_test)\n",
    "\n",
    "#BaggingClassifier를 사용해 RandomForestClassifier를 만든 것"
   ]
  },
  {
   "cell_type": "code",
   "execution_count": 25,
   "metadata": {},
   "outputs": [],
   "source": [
    "##7.4.1 엑스트라트리##\n",
    "from sklearn.ensemble import ExtraTreesClassifier\n",
    "\n",
    "ext_clf = ExtraTreesClassifier(n_estimators=500, max_leaf_nodes=16, n_jobs=-1)\n",
    "ext_clf.fit(X_train, Y_train)\n",
    "\n",
    "Y_pred = ext_clf.predict(X_test)\n",
    "\n",
    "#엑스트라 트리는 무작위 특성을 선택해 불할 후 그중 최선의 분할을 선택\n",
    "#특성마다 최적의 임계값을 찾는 작업이 없어서 랜덤포레스트보다 빠름"
   ]
  },
  {
   "cell_type": "code",
   "execution_count": 26,
   "metadata": {},
   "outputs": [
    {
     "name": "stdout",
     "output_type": "stream",
     "text": [
      "sepal length (cm) 0.09844329577601851\n",
      "sepal width (cm) 0.023069107197630903\n",
      "petal length (cm) 0.4274780860526656\n",
      "petal width (cm) 0.45100951097368525\n"
     ]
    }
   ],
   "source": [
    "##7.4.2 특성중요도##\n",
    "from sklearn.datasets import load_iris\n",
    "\n",
    "iris = load_iris()\n",
    "rnd_clf = RandomForestClassifier(n_estimators=500, n_jobs=-1)\n",
    "rnd_clf.fit(iris[\"data\"], iris[\"target\"])\n",
    "\n",
    "for name, score in zip(iris[\"feature_names\"], rnd_clf.feature_importances_):\n",
    "    print(name, score)\n",
    "    \n",
    "#랜덤포레스트는 어떤 특성이 중요한지 빠르게 확인가능"
   ]
  },
  {
   "cell_type": "code",
   "execution_count": 28,
   "metadata": {},
   "outputs": [
    {
     "data": {
      "text/plain": [
       "AdaBoostClassifier(algorithm='SAMME.R',\n",
       "          base_estimator=DecisionTreeClassifier(class_weight=None, criterion='gini', max_depth=1,\n",
       "            max_features=None, max_leaf_nodes=None,\n",
       "            min_impurity_decrease=0.0, min_impurity_split=None,\n",
       "            min_samples_leaf=1, min_samples_split=2,\n",
       "            min_weight_fraction_leaf=0.0, presort=False, random_state=None,\n",
       "            splitter='best'),\n",
       "          learning_rate=0.5, n_estimators=200, random_state=None)"
      ]
     },
     "execution_count": 28,
     "metadata": {},
     "output_type": "execute_result"
    }
   ],
   "source": [
    "##7.5.1 아다부스트##\n",
    "#https://bkshin.tistory.com/entry/%EB%A8%B8%EC%8B%A0%EB%9F%AC%EB%8B%9D-14-AdaBoost\n",
    "from sklearn.ensemble import AdaBoostClassifier\n",
    "\n",
    "ada_clf = AdaBoostClassifier(\n",
    "    DecisionTreeClassifier(max_depth=1), n_estimators=200, #리프노드가 2개인 결정트리 사용\n",
    "    algorithm=\"SAMME.R\", learning_rate=0.5) #SAMME.R을 쓰면 예측기가 확률을 추정할수 있다면 클래스 확률값 사용\n",
    "ada_clf.fit(X_train, Y_train)\n",
    "\n",
    "#에러율이 낮은 예측기의 결과값이 더 많이 반영되게 함"
   ]
  },
  {
   "cell_type": "code",
   "execution_count": 40,
   "metadata": {},
   "outputs": [
    {
     "name": "stdout",
     "output_type": "stream",
     "text": [
      "[0.75026781]\n"
     ]
    }
   ],
   "source": [
    "##7.5.2 그래디언트 부스팅##\n",
    "from sklearn.tree import DecisionTreeRegressor\n",
    "\n",
    "np.random.seed(42)\n",
    "X = np.random.rand(100, 1) - 0.5\n",
    "Y = 3*X[:, 0]**2 + 0.05 * np.random.randn(100)\n",
    "\n",
    "tree_reg1 = DecisionTreeRegressor(max_depth=2)\n",
    "tree_reg1.fit(X, Y)\n",
    "\n",
    "#이전 예측기가 만든 잔여오차에 새로운 예측기를 학습\n",
    "\n",
    "Y2 = Y - tree_reg1.predict(X) #잔여오차\n",
    "tree_reg2 = DecisionTreeRegressor(max_depth=2)\n",
    "tree_reg2.fit(X, Y2)\n",
    "\n",
    "Y3 = Y2 - tree_reg2.predict(X) #잔여오차\n",
    "tree_reg3 = DecisionTreeRegressor(max_depth=2)\n",
    "tree_reg3.fit(X, Y3)\n",
    "\n",
    "X_new = np.array([[0.8]])  # new data\n",
    "Y_pred = sum(tree.predict(X_new) for tree in (tree_reg1, tree_reg2, tree_reg3)) #각 예측기의 모든 결과 합침\n",
    "print(Y_pred)"
   ]
  },
  {
   "cell_type": "code",
   "execution_count": 45,
   "metadata": {},
   "outputs": [
    {
     "data": {
      "image/png": "[encoded data removed]",
      "text/plain": [
       "<Figure size 792x792 with 6 Axes>"
      ]
     },
     "metadata": {
      "needs_background": "light"
     },
     "output_type": "display_data"
    }
   ],
   "source": [
    "from matplotlib import pyplot as plt\n",
    "\n",
    "def plot_predictions(regressors, X, y, axes, label=None, style=\"r-\", data_style=\"b.\", data_label=None):\n",
    "    x1 = np.linspace(axes[0], axes[1], 500)\n",
    "    y_pred = sum(regressor.predict(x1.reshape(-1, 1)) for regressor in regressors)\n",
    "    plt.plot(X[:, 0], y, data_style, label=data_label)\n",
    "    plt.plot(x1, y_pred, style, linewidth=2, label=label)\n",
    "    if label or data_label:\n",
    "        plt.legend(loc=\"upper center\", fontsize=16)\n",
    "    plt.axis(axes)\n",
    "\n",
    "plt.figure(figsize=(11,11))\n",
    "\n",
    "plt.subplot(321)\n",
    "plot_predictions([tree_reg1], X, Y, axes=[-0.5, 0.5, -0.1, 0.8], label=\"$h_1(x_1)$\", style=\"g-\", data_label=\"training set\")\n",
    "plt.ylabel(\"$y$\", fontsize=16, rotation=0)\n",
    "plt.title(\"residual error and tree's prediction\", fontsize=16)\n",
    "\n",
    "plt.subplot(322)\n",
    "plot_predictions([tree_reg1], X, Y, axes=[-0.5, 0.5, -0.1, 0.8], label=\"$h(x_1) = h_1(x_1)$\", data_label=\"training set\")\n",
    "plt.ylabel(\"$y$\", fontsize=16, rotation=0)\n",
    "plt.title(\"ensemble's prediction\", fontsize=16)\n",
    "\n",
    "plt.subplot(323)\n",
    "plot_predictions([tree_reg2], X, Y2, axes=[-0.5, 0.5, -0.5, 0.5], label=\"$h_2(x_1)$\", style=\"g-\", data_style=\"k+\", data_label=\"residual error\")\n",
    "plt.ylabel(\"$y - h_1(x_1)$\", fontsize=16)\n",
    "\n",
    "plt.subplot(324)\n",
    "plot_predictions([tree_reg1, tree_reg2], X, Y, axes=[-0.5, 0.5, -0.1, 0.8], label=\"$h(x_1) = h_1(x_1) + h_2(x_1)$\")\n",
    "plt.ylabel(\"$y$\", fontsize=16, rotation=0)\n",
    "\n",
    "plt.subplot(325)\n",
    "plot_predictions([tree_reg3], X, Y3, axes=[-0.5, 0.5, -0.5, 0.5], label=\"$h_3(x_1)$\", style=\"g-\", data_style=\"k+\")\n",
    "plt.ylabel(\"$y - h_1(x_1) - h_2(x_1)$\", fontsize=16)\n",
    "plt.xlabel(\"$x_1$\", fontsize=16)\n",
    "\n",
    "plt.subplot(326)\n",
    "plot_predictions([tree_reg1, tree_reg2, tree_reg3], X, Y, axes=[-0.5, 0.5, -0.1, 0.8], label=\"$h(x_1) = h_1(x_1) + h_2(x_1) + h_3(x_1)$\")\n",
    "plt.xlabel(\"$x_1$\", fontsize=16)\n",
    "plt.ylabel(\"$y$\", fontsize=16, rotation=0)\n",
    "\n",
    "plt.show()"
   ]
  },
  {
   "cell_type": "code",
   "execution_count": 52,
   "metadata": {},
   "outputs": [
    {
     "data": {
      "image/png": "[encoded data removed]",
      "text/plain": [
       "<Figure size 432x288 with 1 Axes>"
      ]
     },
     "metadata": {
      "needs_background": "light"
     },
     "output_type": "display_data"
    }
   ],
   "source": [
    "#사이킷런의 그래디언트부스팅 사용하기\n",
    "from sklearn.ensemble import GradientBoostingRegressor\n",
    "\n",
    "gbrt = GradientBoostingRegressor(max_depth=2, n_estimators=3, learning_rate=1.0)\n",
    "gbrt.fit(X, Y)\n",
    "\n",
    "plot_predictions([gbrt], X, Y, axes=[-0.5, 0.5, -0.1, 0.8], label=\"$h_1(x_1)$\", style=\"g-\", data_label=\"training set\")\n",
    "plt.ylabel(\"$y$\", fontsize=16, rotation=0)\n",
    "plt.title(\"residual error and tree's prediction\", fontsize=16)\n",
    "plt.show()"
   ]
  },
  {
   "cell_type": "code",
   "execution_count": 60,
   "metadata": {},
   "outputs": [
    {
     "data": {
      "image/png": "[encoded data removed]",
      "text/plain": [
       "<Figure size 792x792 with 2 Axes>"
      ]
     },
     "metadata": {
      "needs_background": "light"
     },
     "output_type": "display_data"
    }
   ],
   "source": [
    "plt.figure(figsize=(11,11))\n",
    "\n",
    "gbrt1 = GradientBoostingRegressor(max_depth=2, n_estimators=3, learning_rate=0.1) #학습률 0.1, 예측기 3개\n",
    "gbrt1.fit(X, Y)\n",
    "\n",
    "plt.subplot(321)\n",
    "plot_predictions([gbrt1], X, Y, axes=[-0.5, 0.5, -0.1, 0.8], label=\"$h_1(x_1)$\", style=\"g-\", data_label=\"training set\")\n",
    "plt.ylabel(\"$y$\", fontsize=16, rotation=0)\n",
    "plt.title(\"learning rate 0.1, estimators 3\", fontsize=16)\n",
    "\n",
    "gbrt2 = GradientBoostingRegressor(max_depth=2, n_estimators=200, learning_rate=0.1) #학습률 0.1, 예측기 200개\n",
    "gbrt2.fit(X, Y)\n",
    "\n",
    "plt.subplot(322)\n",
    "plot_predictions([gbrt2], X, Y, axes=[-0.5, 0.5, -0.1, 0.8], label=\"$h_1(x_1)$\", style=\"g-\", data_label=\"training set\")\n",
    "plt.ylabel(\"$y$\", fontsize=16, rotation=0)\n",
    "plt.title(\"learning rate 0.1, estimators 200\", fontsize=16)\n",
    "\n",
    "plt.show()"
   ]
  },
  {
   "cell_type": "code",
   "execution_count": 80,
   "metadata": {},
   "outputs": [
    {
     "data": {
      "text/plain": [
       "GradientBoostingRegressor(alpha=0.9, criterion='friedman_mse', init=None,\n",
       "             learning_rate=0.1, loss='ls', max_depth=2, max_features=None,\n",
       "             max_leaf_nodes=None, min_impurity_decrease=0.0,\n",
       "             min_impurity_split=None, min_samples_leaf=1,\n",
       "             min_samples_split=2, min_weight_fraction_leaf=0.0,\n",
       "             n_estimators=37, presort='auto', random_state=None,\n",
       "             subsample=0.25, verbose=0, warm_start=False)"
      ]
     },
     "execution_count": 80,
     "metadata": {},
     "output_type": "execute_result"
    }
   ],
   "source": [
    "#그래디언트 부스팅의 과적합을 조기종료로 막기\n",
    "import numpy as np\n",
    "from sklearn.model_selection import train_test_split\n",
    "from sklearn.metrics import mean_squared_error\n",
    "\n",
    "X_train, X_val, Y_train, Y_val = train_test_split(X, Y)\n",
    "\n",
    "gbrt = GradientBoostingRegressor(max_depth=2, n_estimators=150)\n",
    "gbrt.fit(X_train, Y_train)\n",
    "\n",
    "#staged_predict 메소드는 훈련의 각 단계에서 앙상블에 의해 만들어진 예측기를 순회하는 반복자 반환\n",
    "errors = [mean_squared_error(Y_val, Y_pred) for Y_pred in gbrt.staged_predict(X_val)]\n",
    "best_n_estimators = np.argmin(errors) #에러가 가장작은 인덱스 반환\n",
    "\n",
    "#무작위 25% 샘플로 훈련, 확률적 그래디언트 부스팅, 편향 높아지고 분산 낮아짐, 훈련속도 빠름\n",
    "gbrt_best = GradientBoostingRegressor(max_depth=2, n_estimators=best_n_estimators, subsample=0.25)\n",
    "gbrt_best.fit(X_train, Y_train)"
   ]
  },
  {
   "cell_type": "code",
   "execution_count": 81,
   "metadata": {},
   "outputs": [
    {
     "data": {
      "image/png": "[encoded data removed]",
      "text/plain": [
       "<Figure size 792x288 with 2 Axes>"
      ]
     },
     "metadata": {
      "needs_background": "light"
     },
     "output_type": "display_data"
    }
   ],
   "source": [
    "min_error = np.min(errors)\n",
    "\n",
    "plt.figure(figsize=(11, 4))\n",
    "\n",
    "plt.subplot(121)\n",
    "plt.plot(errors, \"b.-\")\n",
    "plt.plot([best_n_estimators, best_n_estimators], [0, min_error], \"k--\")\n",
    "plt.plot([0, 120], [min_error, min_error], \"k--\")\n",
    "plt.plot(best_n_estimators, min_error, \"ko\")\n",
    "plt.text(best_n_estimators, min_error*1.2, \"min\", ha=\"center\", fontsize=14)\n",
    "plt.axis([0, 120, 0, 0.01])\n",
    "plt.xlabel(\"num of tree\")\n",
    "plt.title(\"validation error\", fontsize=14)\n",
    "\n",
    "plt.subplot(122)\n",
    "plot_predictions([gbrt_best], X, Y, axes=[-0.5, 0.5, -0.1, 0.8])\n",
    "plt.title(\"best model (%d trees)\" % best_n_estimators, fontsize=14)\n",
    "\n",
    "plt.show()"
   ]
  },
  {
   "cell_type": "code",
   "execution_count": null,
   "metadata": {},
   "outputs": [],
   "source": []
  }
 ],
 "metadata": {
  "kernelspec": {
   "display_name": "handsonmlkernel",
   "language": "python",
   "name": "handsonml"
  },
  "language_info": {
   "codemirror_mode": {
    "name": "ipython",
    "version": 3
   },
   "file_extension": ".py",
   "mimetype": "text/x-python",
   "name": "python",
   "nbconvert_exporter": "python",
   "pygments_lexer": "ipython3",
   "version": "3.6.8"
  }
 },
 "nbformat": 4,
 "nbformat_minor": 4
}
